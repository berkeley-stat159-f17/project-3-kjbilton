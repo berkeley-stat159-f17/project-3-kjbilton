{
 "cells": [
  {
   "cell_type": "markdown",
   "metadata": {},
   "source": [
    "## TODO\n",
    "1. Crime data"
   ]
  },
  {
   "cell_type": "markdown",
   "metadata": {},
   "source": [
    "# Data Cleaning\n",
    "## Overview\n",
    "- Load in data used in the analyses\n",
    "- Understand the structure, granularity, and quality of the data"
   ]
  },
  {
   "cell_type": "code",
   "execution_count": 1,
   "metadata": {},
   "outputs": [],
   "source": [
    "# Standard tools for data analysis\n",
    "import numpy as np\n",
    "import pandas as pd\n",
    "import matplotlib.pyplot as plt\n",
    "import seaborn as sns\n",
    "\n",
    "# Tools specific for geospatial data analysis\n",
    "from shapely.geometry import shape, mapping, Point, Polygon\n",
    "import geopandas as gpd\n",
    "import geojsonio\n",
    "\n",
    "# Tools from the Python Standard Library\n",
    "import os\n",
    "\n",
    "from IPython.display import display\n",
    "%matplotlib inline\n",
    "plt.rcParams['figure.figsize'] = (10, 6)"
   ]
  },
  {
   "cell_type": "markdown",
   "metadata": {},
   "source": [
    "First, let's take a look at files that are available:"
   ]
  },
  {
   "cell_type": "code",
   "execution_count": 2,
   "metadata": {},
   "outputs": [
    {
     "name": "stdout",
     "output_type": "stream",
     "text": [
      "Data_Delivery_EDF_AQ_Team_20170515.xlsx\r\n",
      "oakland_neighborhoods.geojson\r\n",
      "residential_zones_300_ft_of_industrial_areas.geojson\r\n"
     ]
    }
   ],
   "source": [
    "DATADIR = '../data/'\n",
    "!ls $DATADIR"
   ]
  },
  {
   "cell_type": "markdown",
   "metadata": {},
   "source": [
    "## 1. Oakland Air Quality Data\n",
    "This is the centerpiece of the following analyses, so let's check this out first. It's in an excel spreadsheet file with multiple worksheets, so let's read all of those separately."
   ]
  },
  {
   "cell_type": "code",
   "execution_count": 3,
   "metadata": {},
   "outputs": [],
   "source": [
    "air_quality_xlsx = pd.ExcelFile(DATADIR + 'Data_Delivery_EDF_AQ_Team_20170515.xlsx')"
   ]
  },
  {
   "cell_type": "code",
   "execution_count": 4,
   "metadata": {},
   "outputs": [
    {
     "data": {
      "text/plain": [
       "['WestOak', 'Downtown', 'EastOak', 'Highways']"
      ]
     },
     "execution_count": 4,
     "metadata": {},
     "output_type": "execute_result"
    }
   ],
   "source": [
    "air_quality_xlsx.sheet_names"
   ]
  },
  {
   "cell_type": "markdown",
   "metadata": {},
   "source": [
    "We have separate sheets for West Oakland, Downtown, East Oakland, and near Highways. For convenience, I can load all of these into a single DataFrame and add a column which represents which region the data are coming from. The reason for doing this is that it can ensure that we perform the same operations on all data."
   ]
  },
  {
   "cell_type": "code",
   "execution_count": 5,
   "metadata": {},
   "outputs": [],
   "source": [
    "air_quality = pd.DataFrame()\n",
    "\n",
    "for region in air_quality_xlsx.sheet_names:\n",
    "    # Create a temporary DataFrame\n",
    "    df = air_quality_xlsx.parse(region)\n",
    "    \n",
    "    # Drop the Terms_of_Use column. Note that this is included in the root README.md. Please read this if you\n",
    "    # are going to use the data further.\n",
    "    df.drop(columns='Terms_of_Use', inplace=True)\n",
    "    \n",
    "    # Add the region to this DataFrame\n",
    "    df['region'] = region\n",
    "    \n",
    "    # Now add this to a single large DataFrame\n",
    "    air_quality = air_quality.append(df)"
   ]
  },
  {
   "cell_type": "markdown",
   "metadata": {},
   "source": [
    "Let's take a look at the resulting DataFrame:"
   ]
  },
  {
   "cell_type": "code",
   "execution_count": 6,
   "metadata": {},
   "outputs": [
    {
     "data": {
      "text/html": [
       "<div>\n",
       "<style scoped>\n",
       "    .dataframe tbody tr th:only-of-type {\n",
       "        vertical-align: middle;\n",
       "    }\n",
       "\n",
       "    .dataframe tbody tr th {\n",
       "        vertical-align: top;\n",
       "    }\n",
       "\n",
       "    .dataframe thead th {\n",
       "        text-align: right;\n",
       "    }\n",
       "</style>\n",
       "<table border=\"1\" class=\"dataframe\">\n",
       "  <thead>\n",
       "    <tr style=\"text-align: right;\">\n",
       "      <th></th>\n",
       "      <th>Longitude</th>\n",
       "      <th>Latitude</th>\n",
       "      <th>Value</th>\n",
       "      <th>Pollutant</th>\n",
       "      <th>region</th>\n",
       "    </tr>\n",
       "  </thead>\n",
       "  <tbody>\n",
       "    <tr>\n",
       "      <th>0</th>\n",
       "      <td>-122.322594</td>\n",
       "      <td>37.806781</td>\n",
       "      <td>24.000000</td>\n",
       "      <td>NO</td>\n",
       "      <td>WestOak</td>\n",
       "    </tr>\n",
       "    <tr>\n",
       "      <th>1</th>\n",
       "      <td>-122.322310</td>\n",
       "      <td>37.806150</td>\n",
       "      <td>19.775000</td>\n",
       "      <td>NO</td>\n",
       "      <td>WestOak</td>\n",
       "    </tr>\n",
       "    <tr>\n",
       "      <th>2</th>\n",
       "      <td>-122.322301</td>\n",
       "      <td>37.806420</td>\n",
       "      <td>19.974999</td>\n",
       "      <td>NO</td>\n",
       "      <td>WestOak</td>\n",
       "    </tr>\n",
       "    <tr>\n",
       "      <th>3</th>\n",
       "      <td>-122.322299</td>\n",
       "      <td>37.805880</td>\n",
       "      <td>15.208696</td>\n",
       "      <td>NO</td>\n",
       "      <td>WestOak</td>\n",
       "    </tr>\n",
       "    <tr>\n",
       "      <th>4</th>\n",
       "      <td>-122.322267</td>\n",
       "      <td>37.806689</td>\n",
       "      <td>26.887681</td>\n",
       "      <td>NO</td>\n",
       "      <td>WestOak</td>\n",
       "    </tr>\n",
       "  </tbody>\n",
       "</table>\n",
       "</div>"
      ],
      "text/plain": [
       "    Longitude   Latitude      Value Pollutant   region\n",
       "0 -122.322594  37.806781  24.000000        NO  WestOak\n",
       "1 -122.322310  37.806150  19.775000        NO  WestOak\n",
       "2 -122.322301  37.806420  19.974999        NO  WestOak\n",
       "3 -122.322299  37.805880  15.208696        NO  WestOak\n",
       "4 -122.322267  37.806689  26.887681        NO  WestOak"
      ]
     },
     "metadata": {},
     "output_type": "display_data"
    },
    {
     "data": {
      "text/html": [
       "<div>\n",
       "<style scoped>\n",
       "    .dataframe tbody tr th:only-of-type {\n",
       "        vertical-align: middle;\n",
       "    }\n",
       "\n",
       "    .dataframe tbody tr th {\n",
       "        vertical-align: top;\n",
       "    }\n",
       "\n",
       "    .dataframe thead th {\n",
       "        text-align: right;\n",
       "    }\n",
       "</style>\n",
       "<table border=\"1\" class=\"dataframe\">\n",
       "  <thead>\n",
       "    <tr style=\"text-align: right;\">\n",
       "      <th></th>\n",
       "      <th>Longitude</th>\n",
       "      <th>Latitude</th>\n",
       "      <th>Value</th>\n",
       "      <th>Pollutant</th>\n",
       "      <th>region</th>\n",
       "    </tr>\n",
       "  </thead>\n",
       "  <tbody>\n",
       "    <tr>\n",
       "      <th>18202</th>\n",
       "      <td>-122.034943</td>\n",
       "      <td>37.560076</td>\n",
       "      <td>3.923761</td>\n",
       "      <td>BC</td>\n",
       "      <td>Highways</td>\n",
       "    </tr>\n",
       "    <tr>\n",
       "      <th>18203</th>\n",
       "      <td>-122.034724</td>\n",
       "      <td>37.560164</td>\n",
       "      <td>2.133266</td>\n",
       "      <td>BC</td>\n",
       "      <td>Highways</td>\n",
       "    </tr>\n",
       "    <tr>\n",
       "      <th>18204</th>\n",
       "      <td>-122.034681</td>\n",
       "      <td>37.559830</td>\n",
       "      <td>2.659885</td>\n",
       "      <td>BC</td>\n",
       "      <td>Highways</td>\n",
       "    </tr>\n",
       "    <tr>\n",
       "      <th>18205</th>\n",
       "      <td>-122.034504</td>\n",
       "      <td>37.559958</td>\n",
       "      <td>1.888058</td>\n",
       "      <td>BC</td>\n",
       "      <td>Highways</td>\n",
       "    </tr>\n",
       "    <tr>\n",
       "      <th>18206</th>\n",
       "      <td>-122.034503</td>\n",
       "      <td>37.559957</td>\n",
       "      <td>2.117248</td>\n",
       "      <td>BC</td>\n",
       "      <td>Highways</td>\n",
       "    </tr>\n",
       "  </tbody>\n",
       "</table>\n",
       "</div>"
      ],
      "text/plain": [
       "        Longitude   Latitude     Value Pollutant    region\n",
       "18202 -122.034943  37.560076  3.923761        BC  Highways\n",
       "18203 -122.034724  37.560164  2.133266        BC  Highways\n",
       "18204 -122.034681  37.559830  2.659885        BC  Highways\n",
       "18205 -122.034504  37.559958  1.888058        BC  Highways\n",
       "18206 -122.034503  37.559957  2.117248        BC  Highways"
      ]
     },
     "metadata": {},
     "output_type": "display_data"
    }
   ],
   "source": [
    "display(air_quality.head())\n",
    "display(air_quality.tail())"
   ]
  },
  {
   "cell_type": "markdown",
   "metadata": {},
   "source": [
    "This DataFrame yields the latitude,  longitude, and the measured value of particular pollutants in various regions around Oakland. The values for pollutant concentrations have been aggregated over many measurements under various conditions to ideally prevent from biasing towards ephemeral environmental conditions."
   ]
  },
  {
   "cell_type": "code",
   "execution_count": 7,
   "metadata": {},
   "outputs": [
    {
     "data": {
      "text/html": [
       "<div>\n",
       "<style scoped>\n",
       "    .dataframe tbody tr th:only-of-type {\n",
       "        vertical-align: middle;\n",
       "    }\n",
       "\n",
       "    .dataframe tbody tr th {\n",
       "        vertical-align: top;\n",
       "    }\n",
       "\n",
       "    .dataframe thead th {\n",
       "        text-align: right;\n",
       "    }\n",
       "</style>\n",
       "<table border=\"1\" class=\"dataframe\">\n",
       "  <thead>\n",
       "    <tr style=\"text-align: right;\">\n",
       "      <th></th>\n",
       "      <th>Longitude</th>\n",
       "      <th>Latitude</th>\n",
       "      <th>Value</th>\n",
       "    </tr>\n",
       "  </thead>\n",
       "  <tbody>\n",
       "    <tr>\n",
       "      <th>count</th>\n",
       "      <td>68547.000000</td>\n",
       "      <td>68547.000000</td>\n",
       "      <td>68547.000000</td>\n",
       "    </tr>\n",
       "    <tr>\n",
       "      <th>mean</th>\n",
       "      <td>-122.216190</td>\n",
       "      <td>37.769863</td>\n",
       "      <td>13.229003</td>\n",
       "    </tr>\n",
       "    <tr>\n",
       "      <th>std</th>\n",
       "      <td>0.065577</td>\n",
       "      <td>0.051888</td>\n",
       "      <td>17.843548</td>\n",
       "    </tr>\n",
       "    <tr>\n",
       "      <th>min</th>\n",
       "      <td>-122.322594</td>\n",
       "      <td>37.559830</td>\n",
       "      <td>-0.669949</td>\n",
       "    </tr>\n",
       "    <tr>\n",
       "      <th>25%</th>\n",
       "      <td>-122.276867</td>\n",
       "      <td>37.745058</td>\n",
       "      <td>0.958451</td>\n",
       "    </tr>\n",
       "    <tr>\n",
       "      <th>50%</th>\n",
       "      <td>-122.200047</td>\n",
       "      <td>37.775018</td>\n",
       "      <td>6.827747</td>\n",
       "    </tr>\n",
       "    <tr>\n",
       "      <th>75%</th>\n",
       "      <td>-122.167626</td>\n",
       "      <td>37.809773</td>\n",
       "      <td>18.739774</td>\n",
       "    </tr>\n",
       "    <tr>\n",
       "      <th>max</th>\n",
       "      <td>-122.034503</td>\n",
       "      <td>37.837491</td>\n",
       "      <td>758.456155</td>\n",
       "    </tr>\n",
       "  </tbody>\n",
       "</table>\n",
       "</div>"
      ],
      "text/plain": [
       "          Longitude      Latitude         Value\n",
       "count  68547.000000  68547.000000  68547.000000\n",
       "mean    -122.216190     37.769863     13.229003\n",
       "std        0.065577      0.051888     17.843548\n",
       "min     -122.322594     37.559830     -0.669949\n",
       "25%     -122.276867     37.745058      0.958451\n",
       "50%     -122.200047     37.775018      6.827747\n",
       "75%     -122.167626     37.809773     18.739774\n",
       "max     -122.034503     37.837491    758.456155"
      ]
     },
     "execution_count": 7,
     "metadata": {},
     "output_type": "execute_result"
    }
   ],
   "source": [
    "air_quality.describe()"
   ]
  },
  {
   "cell_type": "markdown",
   "metadata": {},
   "source": [
    "Let's save this to our results directory for further use:"
   ]
  },
  {
   "cell_type": "code",
   "execution_count": 8,
   "metadata": {},
   "outputs": [],
   "source": [
    "RESULTSDIR = '../results/'\n",
    "if not os.path.exists(RESULTSDIR):\n",
    "    os.mkdir(RESULTSDIR)\n",
    "\n",
    "air_quality.to_hdf(RESULTSDIR + '01-air_quality.h5', 'air_quality')"
   ]
  },
  {
   "cell_type": "markdown",
   "metadata": {},
   "source": [
    "## 2. Oakland neighborhood classification\n",
    "- A GeoJSON file classifying the areas in Oakland into neighborhoods was pulled from https://data.oaklandnet.com/Property/Oakland-Neighborhoods/7zky-kcq9 on 22/11/17.\n",
    "- The downloaded file was renamed, replacing spaces with underscores, and setting all letters to lowercase for convenience.\n",
    "\n",
    "Let's read in this GeoJSON file:\n",
    "\n",
    "### Note\n",
    "It wasn't trivial to get this working! I spent quite some time hacking to get this to come out right (ultimately, it just came down to finding the right versions to use). Reading GeoJSON into Geopandas DataFrames should be straightforward, but I was met with quite a few errors. After doing some tracking, I found that the right combination was using installing `shapely` and `geopandas` from `pip` instead of `conda-forge`."
   ]
  },
  {
   "cell_type": "code",
   "execution_count": 9,
   "metadata": {},
   "outputs": [],
   "source": [
    "neighborhoods = gpd.read_file(DATADIR + 'oakland_neighborhoods.geojson')"
   ]
  },
  {
   "cell_type": "code",
   "execution_count": 10,
   "metadata": {},
   "outputs": [
    {
     "data": {
      "text/html": [
       "<div>\n",
       "<style scoped>\n",
       "    .dataframe tbody tr th:only-of-type {\n",
       "        vertical-align: middle;\n",
       "    }\n",
       "\n",
       "    .dataframe tbody tr th {\n",
       "        vertical-align: top;\n",
       "    }\n",
       "\n",
       "    .dataframe thead th {\n",
       "        text-align: right;\n",
       "    }\n",
       "</style>\n",
       "<table border=\"1\" class=\"dataframe\">\n",
       "  <thead>\n",
       "    <tr style=\"text-align: right;\">\n",
       "      <th></th>\n",
       "      <th>name</th>\n",
       "      <th>description</th>\n",
       "      <th>geometry</th>\n",
       "    </tr>\n",
       "  </thead>\n",
       "  <tbody>\n",
       "    <tr>\n",
       "      <th>0</th>\n",
       "      <td>Acorn/ Acorn Industrial</td>\n",
       "      <td></td>\n",
       "      <td>POINT (-122.308714010677 37.802146145243)</td>\n",
       "    </tr>\n",
       "    <tr>\n",
       "      <th>1</th>\n",
       "      <td>Adams Point</td>\n",
       "      <td></td>\n",
       "      <td>POINT (-122.254661526017 37.8121177617939)</td>\n",
       "    </tr>\n",
       "    <tr>\n",
       "      <th>2</th>\n",
       "      <td>Allendale</td>\n",
       "      <td></td>\n",
       "      <td>POINT (-122.203566466228 37.7871405525981)</td>\n",
       "    </tr>\n",
       "    <tr>\n",
       "      <th>3</th>\n",
       "      <td>Arroyo Viejo</td>\n",
       "      <td></td>\n",
       "      <td>POINT (-122.178464360722 37.7600613799457)</td>\n",
       "    </tr>\n",
       "    <tr>\n",
       "      <th>4</th>\n",
       "      <td>Bancroft Business/ Havenscourt</td>\n",
       "      <td></td>\n",
       "      <td>POINT (-122.184941350471 37.7669285553085)</td>\n",
       "    </tr>\n",
       "  </tbody>\n",
       "</table>\n",
       "</div>"
      ],
      "text/plain": [
       "                             name description  \\\n",
       "0         Acorn/ Acorn Industrial               \n",
       "1                     Adams Point               \n",
       "2                       Allendale               \n",
       "3                    Arroyo Viejo               \n",
       "4  Bancroft Business/ Havenscourt               \n",
       "\n",
       "                                     geometry  \n",
       "0   POINT (-122.308714010677 37.802146145243)  \n",
       "1  POINT (-122.254661526017 37.8121177617939)  \n",
       "2  POINT (-122.203566466228 37.7871405525981)  \n",
       "3  POINT (-122.178464360722 37.7600613799457)  \n",
       "4  POINT (-122.184941350471 37.7669285553085)  "
      ]
     },
     "metadata": {},
     "output_type": "display_data"
    },
    {
     "data": {
      "text/html": [
       "<div>\n",
       "<style scoped>\n",
       "    .dataframe tbody tr th:only-of-type {\n",
       "        vertical-align: middle;\n",
       "    }\n",
       "\n",
       "    .dataframe tbody tr th {\n",
       "        vertical-align: top;\n",
       "    }\n",
       "\n",
       "    .dataframe thead th {\n",
       "        text-align: right;\n",
       "    }\n",
       "</style>\n",
       "<table border=\"1\" class=\"dataframe\">\n",
       "  <thead>\n",
       "    <tr style=\"text-align: right;\">\n",
       "      <th></th>\n",
       "      <th>name</th>\n",
       "      <th>description</th>\n",
       "      <th>geometry</th>\n",
       "    </tr>\n",
       "  </thead>\n",
       "  <tbody>\n",
       "    <tr>\n",
       "      <th>269</th>\n",
       "      <td>Upper Rockridge</td>\n",
       "      <td></td>\n",
       "      <td>(POLYGON ((-122.219555006624 37.832981772973, ...</td>\n",
       "    </tr>\n",
       "    <tr>\n",
       "      <th>270</th>\n",
       "      <td>Waverly</td>\n",
       "      <td></td>\n",
       "      <td>(POLYGON ((-122.261262247923 37.811458543436, ...</td>\n",
       "    </tr>\n",
       "    <tr>\n",
       "      <th>271</th>\n",
       "      <td>Webster</td>\n",
       "      <td></td>\n",
       "      <td>(POLYGON ((-122.165951274503 37.7532857075336,...</td>\n",
       "    </tr>\n",
       "    <tr>\n",
       "      <th>272</th>\n",
       "      <td>Woodland</td>\n",
       "      <td></td>\n",
       "      <td>(POLYGON ((-122.177602684022 37.7536107490519,...</td>\n",
       "    </tr>\n",
       "    <tr>\n",
       "      <th>273</th>\n",
       "      <td>Woodminster</td>\n",
       "      <td></td>\n",
       "      <td>(POLYGON ((-122.178433674265 37.8037393938781,...</td>\n",
       "    </tr>\n",
       "  </tbody>\n",
       "</table>\n",
       "</div>"
      ],
      "text/plain": [
       "                name description  \\\n",
       "269  Upper Rockridge               \n",
       "270          Waverly               \n",
       "271          Webster               \n",
       "272         Woodland               \n",
       "273      Woodminster               \n",
       "\n",
       "                                              geometry  \n",
       "269  (POLYGON ((-122.219555006624 37.832981772973, ...  \n",
       "270  (POLYGON ((-122.261262247923 37.811458543436, ...  \n",
       "271  (POLYGON ((-122.165951274503 37.7532857075336,...  \n",
       "272  (POLYGON ((-122.177602684022 37.7536107490519,...  \n",
       "273  (POLYGON ((-122.178433674265 37.8037393938781,...  "
      ]
     },
     "metadata": {},
     "output_type": "display_data"
    }
   ],
   "source": [
    "display(neighborhoods.head())\n",
    "display(neighborhoods.tail())"
   ]
  },
  {
   "cell_type": "raw",
   "metadata": {},
   "source": [
    "# Run this code if you'd like to check out the neighborhoods in an interactive browser\n",
    "geojsonio.display(neighborhoods.to_json())"
   ]
  },
  {
   "cell_type": "markdown",
   "metadata": {},
   "source": [
    "Let's check these neighborhoods out!"
   ]
  },
  {
   "cell_type": "code",
   "execution_count": 11,
   "metadata": {},
   "outputs": [
    {
     "data": {
      "image/png": "[encoded data removed]",
      "text/plain": [
       "<matplotlib.figure.Figure at 0x11a2c1908>"
      ]
     },
     "metadata": {},
     "output_type": "display_data"
    }
   ],
   "source": [
    "f, ax = plt.subplots()\n",
    "neighborhoods.plot(ax=ax);"
   ]
  },
  {
   "cell_type": "markdown",
   "metadata": {},
   "source": [
    "## 3. Residential areas within 300 feet of industrial zones\n",
    "- A GeoJSON file classifying the areas in Oakland into neighborhoods was pulled from https://data.oaklandnet.com/Economic-Development/Residential-Zones-300-ft-of-Industrial-Areas/d3re-jdqr on 22/11/17.\n",
    "- The downloaded file was renamed, replacing spaces with underscores, and setting all letters to lowercase for convenience.\n",
    "\n",
    "Let's read in this GeoJSON file:"
   ]
  },
  {
   "cell_type": "code",
   "execution_count": 12,
   "metadata": {},
   "outputs": [],
   "source": [
    "residential_industrial = gpd.read_file(DATADIR + 'residential_zones_300_ft_of_industrial_areas.geojson')"
   ]
  },
  {
   "cell_type": "code",
   "execution_count": 13,
   "metadata": {},
   "outputs": [
    {
     "data": {
      "text/html": [
       "<div>\n",
       "<style scoped>\n",
       "    .dataframe tbody tr th:only-of-type {\n",
       "        vertical-align: middle;\n",
       "    }\n",
       "\n",
       "    .dataframe tbody tr th {\n",
       "        vertical-align: top;\n",
       "    }\n",
       "\n",
       "    .dataframe thead th {\n",
       "        text-align: right;\n",
       "    }\n",
       "</style>\n",
       "<table border=\"1\" class=\"dataframe\">\n",
       "  <thead>\n",
       "    <tr style=\"text-align: right;\">\n",
       "      <th></th>\n",
       "      <th>area</th>\n",
       "      <th>fid_indust</th>\n",
       "      <th>basezone</th>\n",
       "      <th>perimeter</th>\n",
       "      <th>znlabel</th>\n",
       "      <th>overlay</th>\n",
       "      <th>lastupdate</th>\n",
       "      <th>id</th>\n",
       "      <th>fid_reside</th>\n",
       "      <th>ordinance</th>\n",
       "      <th>geometry</th>\n",
       "    </tr>\n",
       "  </thead>\n",
       "  <tbody>\n",
       "    <tr>\n",
       "      <th>0</th>\n",
       "      <td>165781.541327</td>\n",
       "      <td>0</td>\n",
       "      <td>RM-1</td>\n",
       "      <td>1726.61174</td>\n",
       "      <td>RM-1</td>\n",
       "      <td></td>\n",
       "      <td>20150108</td>\n",
       "      <td>0</td>\n",
       "      <td>0</td>\n",
       "      <td></td>\n",
       "      <td>(POLYGON ((-122.1749871795865 37.7318118929050...</td>\n",
       "    </tr>\n",
       "    <tr>\n",
       "      <th>1</th>\n",
       "      <td>31291.800394</td>\n",
       "      <td>0</td>\n",
       "      <td>RM-3</td>\n",
       "      <td>831.336232</td>\n",
       "      <td>RM-3</td>\n",
       "      <td></td>\n",
       "      <td>20150108</td>\n",
       "      <td>0</td>\n",
       "      <td>1</td>\n",
       "      <td></td>\n",
       "      <td>(POLYGON ((-122.1865568615996 37.7372242278911...</td>\n",
       "    </tr>\n",
       "    <tr>\n",
       "      <th>2</th>\n",
       "      <td>41449.399938</td>\n",
       "      <td>0</td>\n",
       "      <td>RM-4</td>\n",
       "      <td>916.621191</td>\n",
       "      <td>RM-4</td>\n",
       "      <td></td>\n",
       "      <td>20150108</td>\n",
       "      <td>0</td>\n",
       "      <td>3</td>\n",
       "      <td></td>\n",
       "      <td>(POLYGON ((-122.186420524489 37.73760424195443...</td>\n",
       "    </tr>\n",
       "    <tr>\n",
       "      <th>3</th>\n",
       "      <td>18517341.381599</td>\n",
       "      <td>0</td>\n",
       "      <td>RD-1</td>\n",
       "      <td>29878.462383</td>\n",
       "      <td>RD-1</td>\n",
       "      <td></td>\n",
       "      <td>20150108</td>\n",
       "      <td>0</td>\n",
       "      <td>6</td>\n",
       "      <td></td>\n",
       "      <td>(POLYGON ((-122.1909303995534 37.7376543702245...</td>\n",
       "    </tr>\n",
       "    <tr>\n",
       "      <th>4</th>\n",
       "      <td>4290422.952443</td>\n",
       "      <td>0</td>\n",
       "      <td>RD-1</td>\n",
       "      <td>11371.141784</td>\n",
       "      <td>RD-1</td>\n",
       "      <td></td>\n",
       "      <td>20150108</td>\n",
       "      <td>0</td>\n",
       "      <td>8</td>\n",
       "      <td></td>\n",
       "      <td>(POLYGON ((-122.1749888306131 37.7392570579501...</td>\n",
       "    </tr>\n",
       "  </tbody>\n",
       "</table>\n",
       "</div>"
      ],
      "text/plain": [
       "              area fid_indust basezone     perimeter znlabel overlay  \\\n",
       "0    165781.541327          0     RM-1    1726.61174    RM-1           \n",
       "1     31291.800394          0     RM-3    831.336232    RM-3           \n",
       "2     41449.399938          0     RM-4    916.621191    RM-4           \n",
       "3  18517341.381599          0     RD-1  29878.462383    RD-1           \n",
       "4   4290422.952443          0     RD-1  11371.141784    RD-1           \n",
       "\n",
       "  lastupdate id fid_reside ordinance  \\\n",
       "0   20150108  0          0             \n",
       "1   20150108  0          1             \n",
       "2   20150108  0          3             \n",
       "3   20150108  0          6             \n",
       "4   20150108  0          8             \n",
       "\n",
       "                                            geometry  \n",
       "0  (POLYGON ((-122.1749871795865 37.7318118929050...  \n",
       "1  (POLYGON ((-122.1865568615996 37.7372242278911...  \n",
       "2  (POLYGON ((-122.186420524489 37.73760424195443...  \n",
       "3  (POLYGON ((-122.1909303995534 37.7376543702245...  \n",
       "4  (POLYGON ((-122.1749888306131 37.7392570579501...  "
      ]
     },
     "execution_count": 13,
     "metadata": {},
     "output_type": "execute_result"
    }
   ],
   "source": [
    "residential_industrial.head()"
   ]
  },
  {
   "cell_type": "raw",
   "metadata": {},
   "source": [
    "# Run this code if you'd like to check out the neighborhoods in an interactive browser\n",
    "geojsonio.display(residential_industrial.to_json())"
   ]
  },
  {
   "cell_type": "markdown",
   "metadata": {},
   "source": [
    "Let's overlay these zones on the neighborhood map:"
   ]
  },
  {
   "cell_type": "code",
   "execution_count": 14,
   "metadata": {},
   "outputs": [
    {
     "data": {
      "text/plain": [
       "<matplotlib.figure.Figure at 0x11a5d6048>"
      ]
     },
     "metadata": {},
     "output_type": "display_data"
    }
   ],
   "source": [
    "residential_industrial.plot(color='r', ax=ax);"
   ]
  },
  {
   "cell_type": "code",
   "execution_count": 15,
   "metadata": {},
   "outputs": [
    {
     "data": {
      "image/png": "[encoded data removed]",
      "text/plain": [
       "<matplotlib.figure.Figure at 0x11a2c1908>"
      ]
     },
     "execution_count": 15,
     "metadata": {},
     "output_type": "execute_result"
    }
   ],
   "source": [
    "f"
   ]
  }
 ],
 "metadata": {
  "kernelspec": {
   "display_name": "Python [conda env:oakland]",
   "language": "python",
   "name": "conda-env-oakland-py"
  },
  "language_info": {
   "codemirror_mode": {
    "name": "ipython",
    "version": 3
   },
   "file_extension": ".py",
   "mimetype": "text/x-python",
   "name": "python",
   "nbconvert_exporter": "python",
   "pygments_lexer": "ipython3",
   "version": "3.6.3"
  }
 },
 "nbformat": 4,
 "nbformat_minor": 2
}
