{
 "cells": [
  {
   "cell_type": "markdown",
   "metadata": {},
   "source": [
    "# Topics to consider\n",
    "\n",
    "1. Unfunded projects\n",
    "1. "
   ]
  },
  {
   "cell_type": "markdown",
   "metadata": {},
   "source": [
    "# Data Cleaning\n",
    "## Overview\n",
    "- Load in data used in the analyses\n",
    "- Understand the structure, granularity, and quality of the data\n",
    "- Clean up the data for further inspection\n",
    "\n",
    "## Datasets\n",
    "1. **Oakland neighborhoods**\n",
    "    - GeoJSON format data to plot different neighborhoods in Oakland. The idea here is to be able to aggregate any values of interest (e.g., incidents of grafitti) by easily-identifiable neighborhoods.\n",
    "1. **Oakland city service requests**\n",
    "    - CSV file containing requests (e.g., potholes, illegal dumping, etc.) from residents.\n",
    "1. **Residential zones within 300 feet of industrial zones**\n",
    "    - GeoJSON data that shows areas in which residents live very close to industrial zones. The purpose for doing this is that we expect to see increased pollution levels near these zones.\n",
    "1. **Oakland air quality data**"
   ]
  },
  {
   "cell_type": "code",
   "execution_count": 1,
   "metadata": {},
   "outputs": [],
   "source": [
    "# Standard tools for data analysis\n",
    "import numpy as np\n",
    "import pandas as pd\n",
    "import matplotlib.pyplot as plt\n",
    "import seaborn as sns\n",
    "\n",
    "# Tools specific for geospatial data analysis\n",
    "from shapely.geometry import shape, mapping, Point, Polygon\n",
    "import geopandas as gpd\n",
    "\n",
    "# Tools from the Python Standard Library\n",
    "import os\n",
    "import re\n",
    "\n",
    "from IPython.display import display\n",
    "%matplotlib inline\n",
    "plt.rcParams['figure.figsize'] = (10, 6)"
   ]
  },
  {
   "cell_type": "markdown",
   "metadata": {},
   "source": [
    "First, let's take a look at files that are available:"
   ]
  },
  {
   "cell_type": "code",
   "execution_count": 2,
   "metadata": {},
   "outputs": [
    {
     "name": "stdout",
     "output_type": "stream",
     "text": [
      "CrimeWatch_Maps_Past_90-Days.csv\r\n",
      "Data_Delivery_EDF_AQ_Team_20170515.xlsx\r\n",
      "Service_requests_received_by_the_Oakland_Call_Center.csv\r\n",
      "\u001b[34mneighborhoods\u001b[m\u001b[m\r\n",
      "oakland_neighborhoods.geojson\r\n",
      "residential_zones_300_ft_of_industrial_areas.geojson\r\n"
     ]
    }
   ],
   "source": [
    "DATADIR = '../data/'\n",
    "!ls $DATADIR"
   ]
  },
  {
   "cell_type": "markdown",
   "metadata": {},
   "source": [
    "## 1. Oakland neighborhood classification\n",
    "- A GeoJSON file classifying the areas in Oakland into neighborhoods was pulled from https://data.oaklandnet.com/Property/Oakland-Neighborhoods/7zky-kcq9 on 22/11/17.\n",
    "- The downloaded file was renamed, replacing spaces with underscores, and setting all letters to lowercase for convenience.\n",
    "\n",
    "Let's read in this GeoJSON file:\n",
    "\n",
    "### Note\n",
    "It wasn't trivial to get this working! I spent quite some time hacking to get this to come out right (ultimately, it just came down to finding the right versions to use). Reading GeoJSON into Geopandas DataFrames should be straightforward, but I was met with quite a few errors. After doing some tracking, I found that the right combination was using installing `shapely` and `geopandas` from `pip` instead of `conda-forge`."
   ]
  },
  {
   "cell_type": "code",
   "execution_count": 3,
   "metadata": {},
   "outputs": [],
   "source": [
    "neighborhoods = gpd.read_file(DATADIR + 'oakland_neighborhoods.geojson')"
   ]
  },
  {
   "cell_type": "code",
   "execution_count": 4,
   "metadata": {},
   "outputs": [
    {
     "data": {
      "text/html": [
       "<div>\n",
       "<style scoped>\n",
       "    .dataframe tbody tr th:only-of-type {\n",
       "        vertical-align: middle;\n",
       "    }\n",
       "\n",
       "    .dataframe tbody tr th {\n",
       "        vertical-align: top;\n",
       "    }\n",
       "\n",
       "    .dataframe thead th {\n",
       "        text-align: right;\n",
       "    }\n",
       "</style>\n",
       "<table border=\"1\" class=\"dataframe\">\n",
       "  <thead>\n",
       "    <tr style=\"text-align: right;\">\n",
       "      <th></th>\n",
       "      <th>name</th>\n",
       "      <th>description</th>\n",
       "      <th>geometry</th>\n",
       "    </tr>\n",
       "  </thead>\n",
       "  <tbody>\n",
       "    <tr>\n",
       "      <th>0</th>\n",
       "      <td>Acorn/ Acorn Industrial</td>\n",
       "      <td></td>\n",
       "      <td>POINT (-122.308714010677 37.802146145243)</td>\n",
       "    </tr>\n",
       "    <tr>\n",
       "      <th>1</th>\n",
       "      <td>Adams Point</td>\n",
       "      <td></td>\n",
       "      <td>POINT (-122.254661526017 37.8121177617939)</td>\n",
       "    </tr>\n",
       "    <tr>\n",
       "      <th>2</th>\n",
       "      <td>Allendale</td>\n",
       "      <td></td>\n",
       "      <td>POINT (-122.203566466228 37.7871405525981)</td>\n",
       "    </tr>\n",
       "    <tr>\n",
       "      <th>3</th>\n",
       "      <td>Arroyo Viejo</td>\n",
       "      <td></td>\n",
       "      <td>POINT (-122.178464360722 37.7600613799457)</td>\n",
       "    </tr>\n",
       "    <tr>\n",
       "      <th>4</th>\n",
       "      <td>Bancroft Business/ Havenscourt</td>\n",
       "      <td></td>\n",
       "      <td>POINT (-122.184941350471 37.7669285553085)</td>\n",
       "    </tr>\n",
       "  </tbody>\n",
       "</table>\n",
       "</div>"
      ],
      "text/plain": [
       "                             name description  \\\n",
       "0         Acorn/ Acorn Industrial               \n",
       "1                     Adams Point               \n",
       "2                       Allendale               \n",
       "3                    Arroyo Viejo               \n",
       "4  Bancroft Business/ Havenscourt               \n",
       "\n",
       "                                     geometry  \n",
       "0   POINT (-122.308714010677 37.802146145243)  \n",
       "1  POINT (-122.254661526017 37.8121177617939)  \n",
       "2  POINT (-122.203566466228 37.7871405525981)  \n",
       "3  POINT (-122.178464360722 37.7600613799457)  \n",
       "4  POINT (-122.184941350471 37.7669285553085)  "
      ]
     },
     "metadata": {},
     "output_type": "display_data"
    },
    {
     "data": {
      "text/html": [
       "<div>\n",
       "<style scoped>\n",
       "    .dataframe tbody tr th:only-of-type {\n",
       "        vertical-align: middle;\n",
       "    }\n",
       "\n",
       "    .dataframe tbody tr th {\n",
       "        vertical-align: top;\n",
       "    }\n",
       "\n",
       "    .dataframe thead th {\n",
       "        text-align: right;\n",
       "    }\n",
       "</style>\n",
       "<table border=\"1\" class=\"dataframe\">\n",
       "  <thead>\n",
       "    <tr style=\"text-align: right;\">\n",
       "      <th></th>\n",
       "      <th>name</th>\n",
       "      <th>description</th>\n",
       "      <th>geometry</th>\n",
       "    </tr>\n",
       "  </thead>\n",
       "  <tbody>\n",
       "    <tr>\n",
       "      <th>269</th>\n",
       "      <td>Upper Rockridge</td>\n",
       "      <td></td>\n",
       "      <td>(POLYGON ((-122.219555006624 37.832981772973, ...</td>\n",
       "    </tr>\n",
       "    <tr>\n",
       "      <th>270</th>\n",
       "      <td>Waverly</td>\n",
       "      <td></td>\n",
       "      <td>(POLYGON ((-122.261262247923 37.811458543436, ...</td>\n",
       "    </tr>\n",
       "    <tr>\n",
       "      <th>271</th>\n",
       "      <td>Webster</td>\n",
       "      <td></td>\n",
       "      <td>(POLYGON ((-122.165951274503 37.7532857075336,...</td>\n",
       "    </tr>\n",
       "    <tr>\n",
       "      <th>272</th>\n",
       "      <td>Woodland</td>\n",
       "      <td></td>\n",
       "      <td>(POLYGON ((-122.177602684022 37.7536107490519,...</td>\n",
       "    </tr>\n",
       "    <tr>\n",
       "      <th>273</th>\n",
       "      <td>Woodminster</td>\n",
       "      <td></td>\n",
       "      <td>(POLYGON ((-122.178433674265 37.8037393938781,...</td>\n",
       "    </tr>\n",
       "  </tbody>\n",
       "</table>\n",
       "</div>"
      ],
      "text/plain": [
       "                name description  \\\n",
       "269  Upper Rockridge               \n",
       "270          Waverly               \n",
       "271          Webster               \n",
       "272         Woodland               \n",
       "273      Woodminster               \n",
       "\n",
       "                                              geometry  \n",
       "269  (POLYGON ((-122.219555006624 37.832981772973, ...  \n",
       "270  (POLYGON ((-122.261262247923 37.811458543436, ...  \n",
       "271  (POLYGON ((-122.165951274503 37.7532857075336,...  \n",
       "272  (POLYGON ((-122.177602684022 37.7536107490519,...  \n",
       "273  (POLYGON ((-122.178433674265 37.8037393938781,...  "
      ]
     },
     "metadata": {},
     "output_type": "display_data"
    }
   ],
   "source": [
    "display(neighborhoods.head())\n",
    "display(neighborhoods.tail())"
   ]
  },
  {
   "cell_type": "markdown",
   "metadata": {},
   "source": [
    "There's an empty `description` column that we can remove:"
   ]
  },
  {
   "cell_type": "code",
   "execution_count": 5,
   "metadata": {},
   "outputs": [],
   "source": [
    "del neighborhoods['description']"
   ]
  },
  {
   "cell_type": "markdown",
   "metadata": {},
   "source": [
    "As we see, this GeoDataFrame contains both points and polygons. The points are used as markers (e.g., on interactive maps), while the polygons actually give us the shape. Let's move all the points to a separate column called `centers`, so we can have a single point to characterize the neighborhood, if needed."
   ]
  },
  {
   "cell_type": "code",
   "execution_count": 6,
   "metadata": {},
   "outputs": [],
   "source": [
    "# Make a temporary DataFrame only containing points\n",
    "neighborhood_centers = neighborhoods[(neighborhoods.geom_type == 'Point')]\n",
    "\n",
    "# Remove points from the neighborhood DataFrame\n",
    "neighborhoods = neighborhoods[~(neighborhoods.geom_type == 'Point')]\n",
    "\n",
    "# Reset the indexing to 0\n",
    "neighborhoods.reset_index(inplace=True)\n",
    "del neighborhoods['index']"
   ]
  },
  {
   "cell_type": "markdown",
   "metadata": {},
   "source": [
    "Get the longitude and latitude from each center coordinate, and add that to the main neighborhoods DataFrame:"
   ]
  },
  {
   "cell_type": "code",
   "execution_count": 7,
   "metadata": {
    "scrolled": true
   },
   "outputs": [],
   "source": [
    "center_lon = neighborhood_centers['geometry'].apply(lambda x: x.coords[0][0])\n",
    "center_lat = neighborhood_centers['geometry'].apply(lambda x: x.coords[0][1])"
   ]
  },
  {
   "cell_type": "code",
   "execution_count": 8,
   "metadata": {},
   "outputs": [],
   "source": [
    "neighborhoods['center_lon'] = center_lon\n",
    "neighborhoods['center_lat'] = center_lat"
   ]
  },
  {
   "cell_type": "code",
   "execution_count": 9,
   "metadata": {},
   "outputs": [
    {
     "data": {
      "text/html": [
       "<div>\n",
       "<style scoped>\n",
       "    .dataframe tbody tr th:only-of-type {\n",
       "        vertical-align: middle;\n",
       "    }\n",
       "\n",
       "    .dataframe tbody tr th {\n",
       "        vertical-align: top;\n",
       "    }\n",
       "\n",
       "    .dataframe thead th {\n",
       "        text-align: right;\n",
       "    }\n",
       "</style>\n",
       "<table border=\"1\" class=\"dataframe\">\n",
       "  <thead>\n",
       "    <tr style=\"text-align: right;\">\n",
       "      <th></th>\n",
       "      <th>name</th>\n",
       "      <th>geometry</th>\n",
       "      <th>center_lon</th>\n",
       "      <th>center_lat</th>\n",
       "    </tr>\n",
       "  </thead>\n",
       "  <tbody>\n",
       "    <tr>\n",
       "      <th>0</th>\n",
       "      <td>Acorn/ Acorn Industrial</td>\n",
       "      <td>(POLYGON ((-122.280212520786 37.8025938890711,...</td>\n",
       "      <td>-122.308714</td>\n",
       "      <td>37.802146</td>\n",
       "    </tr>\n",
       "    <tr>\n",
       "      <th>1</th>\n",
       "      <td>Adams Point</td>\n",
       "      <td>(POLYGON ((-122.247844000895 37.810057515347, ...</td>\n",
       "      <td>-122.254662</td>\n",
       "      <td>37.812118</td>\n",
       "    </tr>\n",
       "    <tr>\n",
       "      <th>2</th>\n",
       "      <td>Allendale</td>\n",
       "      <td>(POLYGON ((-122.196320300415 37.7863349418319,...</td>\n",
       "      <td>-122.203566</td>\n",
       "      <td>37.787141</td>\n",
       "    </tr>\n",
       "    <tr>\n",
       "      <th>3</th>\n",
       "      <td>Arroyo Viejo</td>\n",
       "      <td>(POLYGON ((-122.170503431087 37.759584556553, ...</td>\n",
       "      <td>-122.178464</td>\n",
       "      <td>37.760061</td>\n",
       "    </tr>\n",
       "    <tr>\n",
       "      <th>4</th>\n",
       "      <td>Bancroft Business/ Havenscourt</td>\n",
       "      <td>(POLYGON ((-122.177112657994 37.7654884250132,...</td>\n",
       "      <td>-122.184941</td>\n",
       "      <td>37.766929</td>\n",
       "    </tr>\n",
       "  </tbody>\n",
       "</table>\n",
       "</div>"
      ],
      "text/plain": [
       "                             name  \\\n",
       "0         Acorn/ Acorn Industrial   \n",
       "1                     Adams Point   \n",
       "2                       Allendale   \n",
       "3                    Arroyo Viejo   \n",
       "4  Bancroft Business/ Havenscourt   \n",
       "\n",
       "                                            geometry  center_lon  center_lat  \n",
       "0  (POLYGON ((-122.280212520786 37.8025938890711,... -122.308714   37.802146  \n",
       "1  (POLYGON ((-122.247844000895 37.810057515347, ... -122.254662   37.812118  \n",
       "2  (POLYGON ((-122.196320300415 37.7863349418319,... -122.203566   37.787141  \n",
       "3  (POLYGON ((-122.170503431087 37.759584556553, ... -122.178464   37.760061  \n",
       "4  (POLYGON ((-122.177112657994 37.7654884250132,... -122.184941   37.766929  "
      ]
     },
     "execution_count": 9,
     "metadata": {},
     "output_type": "execute_result"
    }
   ],
   "source": [
    "neighborhoods.head()"
   ]
  },
  {
   "cell_type": "markdown",
   "metadata": {},
   "source": [
    "Let's check these neighborhoods out!"
   ]
  },
  {
   "cell_type": "code",
   "execution_count": 10,
   "metadata": {},
   "outputs": [
    {
     "data": {
      "image/png": "[encoded data removed]",
      "text/plain": [
       "<matplotlib.figure.Figure at 0x1078f5860>"
      ]
     },
     "metadata": {},
     "output_type": "display_data"
    }
   ],
   "source": [
    "f, ax = plt.subplots()\n",
    "neighborhoods.plot(ax=ax);"
   ]
  },
  {
   "cell_type": "markdown",
   "metadata": {},
   "source": [
    "Now save this to file for future use:"
   ]
  },
  {
   "cell_type": "code",
   "execution_count": 11,
   "metadata": {},
   "outputs": [
    {
     "name": "stdout",
     "output_type": "stream",
     "text": [
      "CrimeWatch_Maps_Past_90-Days.csv\r\n",
      "Data_Delivery_EDF_AQ_Team_20170515.xlsx\r\n",
      "Service_requests_received_by_the_Oakland_Call_Center.csv\r\n",
      "\u001b[34mneighborhoods\u001b[m\u001b[m/\r\n",
      "oakland_neighborhoods.geojson\r\n",
      "residential_zones_300_ft_of_industrial_areas.geojson\r\n"
     ]
    }
   ],
   "source": [
    "ls $DATADIR"
   ]
  },
  {
   "cell_type": "code",
   "execution_count": 52,
   "metadata": {
    "scrolled": true
   },
   "outputs": [],
   "source": [
    "neighborhoods.to_file(DATADIR + 'neighborhoods/oakland_neighborhoods_clean.shp',\n",
    "                      driver='ESRI Shapefile')"
   ]
  },
  {
   "cell_type": "markdown",
   "metadata": {},
   "source": [
    "### Maps"
   ]
  },
  {
   "cell_type": "markdown",
   "metadata": {},
   "source": [
    "Notice how this just gives us the shapes of our neighborhoods without any context. Later on, I will plot these neighborhoods on top of a map (e.g., satellite images) so we get an idea of where these are located with respect to other features we are familiar with. To do this, we will use `basemap`. It's worth noting that `basemap` is being replaced with `cartopy`, but since I'm somewhat familiar with `basemap` for the time being :)."
   ]
  },
  {
   "cell_type": "markdown",
   "metadata": {},
   "source": [
    "We will use the same coordinates from the above plot to get our $x$ and $y$ limits. In `basemap`, these will be referred to as the lower (upper) left (right) corner latitude (longitude) or llcrnlat, etc."
   ]
  },
  {
   "cell_type": "markdown",
   "metadata": {},
   "source": [
    "## 2. City Service Requests\n",
    "- An Excel Spreadsheet containing service requests to the city was pulled on the afternoon of 11 December 2017. This record is regularly updated and contains the following information of interest:\n",
    "    1. Request ID\n",
    "    1. Date and time at which the request was registered in the system\n",
    "    1. Source of service request (i.e., call, email, website)\n",
    "    1. Description\n",
    "    1. Request category (e.g., GRAFFITI)\n",
    "    1. Request location (address and/or GPS coordinates)\n",
    "    1. Status (open, closed, cancelled, etc.)\n",
    "    1. Date and time at which the request was closed in the system\n",
    "- The purpose for considering this data is to look at the frequency at which requests are made in different neighborhoods, as well as the distribution of times it takes to resolve issues.\n",
    "- Now that I think about it, this is quite a rich dataset in itself, and could be the basis of this project alone!"
   ]
  },
  {
   "cell_type": "code",
   "execution_count": 14,
   "metadata": {
    "scrolled": true
   },
   "outputs": [],
   "source": [
    "service_requests = pd.read_csv(DATADIR + 'Service_requests_received_by_the_Oakland_Call_Center.csv')"
   ]
  },
  {
   "cell_type": "code",
   "execution_count": 15,
   "metadata": {},
   "outputs": [
    {
     "data": {
      "text/html": [
       "<div>\n",
       "<style scoped>\n",
       "    .dataframe tbody tr th:only-of-type {\n",
       "        vertical-align: middle;\n",
       "    }\n",
       "\n",
       "    .dataframe tbody tr th {\n",
       "        vertical-align: top;\n",
       "    }\n",
       "\n",
       "    .dataframe thead th {\n",
       "        text-align: right;\n",
       "    }\n",
       "</style>\n",
       "<table border=\"1\" class=\"dataframe\">\n",
       "  <thead>\n",
       "    <tr style=\"text-align: right;\">\n",
       "      <th></th>\n",
       "      <th>REQUESTID</th>\n",
       "      <th>DATETIMEINIT</th>\n",
       "      <th>SOURCE</th>\n",
       "      <th>DESCRIPTION</th>\n",
       "      <th>REQCATEGORY</th>\n",
       "      <th>REQADDRESS</th>\n",
       "      <th>STATUS</th>\n",
       "      <th>REFERREDTO</th>\n",
       "      <th>DATETIMECLOSED</th>\n",
       "      <th>SRX</th>\n",
       "      <th>SRY</th>\n",
       "      <th>COUNCILDISTRICT</th>\n",
       "      <th>BEAT</th>\n",
       "    </tr>\n",
       "  </thead>\n",
       "  <tbody>\n",
       "    <tr>\n",
       "      <th>0</th>\n",
       "      <td>21090</td>\n",
       "      <td>07/01/2009 10:24:19 AM</td>\n",
       "      <td>Phone or Email</td>\n",
       "      <td>Yard Trimmings - Food Pail Request</td>\n",
       "      <td>RECYCLING</td>\n",
       "      <td>532 BODEN WY\\nCA, CA\\n(37.807708, -122.248339)</td>\n",
       "      <td>CLOSED</td>\n",
       "      <td>NaN</td>\n",
       "      <td>07/27/2009 11:34:09 AM</td>\n",
       "      <td>6056502.139</td>\n",
       "      <td>2121252.658</td>\n",
       "      <td>CCD3</td>\n",
       "      <td>15X</td>\n",
       "    </tr>\n",
       "    <tr>\n",
       "      <th>1</th>\n",
       "      <td>21091</td>\n",
       "      <td>07/01/2009 11:14:09 AM</td>\n",
       "      <td>Phone or Email</td>\n",
       "      <td>City Services - Missed Recycling</td>\n",
       "      <td>RECYCLING</td>\n",
       "      <td>699 BELLEVUE AV\\nCA, CA\\n(37.809762, -122.259388)</td>\n",
       "      <td>CLOSED</td>\n",
       "      <td>NaN</td>\n",
       "      <td>07/03/2009 11:10:08 AM</td>\n",
       "      <td>6053405.037</td>\n",
       "      <td>2122019.368</td>\n",
       "      <td>CCD3</td>\n",
       "      <td>14X</td>\n",
       "    </tr>\n",
       "    <tr>\n",
       "      <th>2</th>\n",
       "      <td>21092</td>\n",
       "      <td>07/01/2009 03:58:47 PM</td>\n",
       "      <td>Phone or Email</td>\n",
       "      <td>Yard Trimmings Service Issue (Residential)</td>\n",
       "      <td>RECYCLING</td>\n",
       "      <td>1633 84TH AV\\nCA, CA\\n(37.755521, -122.175515)</td>\n",
       "      <td>CLOSED</td>\n",
       "      <td>NaN</td>\n",
       "      <td>07/27/2009 11:33:58 AM</td>\n",
       "      <td>6077230.607</td>\n",
       "      <td>2101888.265</td>\n",
       "      <td>CCD6</td>\n",
       "      <td>34X</td>\n",
       "    </tr>\n",
       "    <tr>\n",
       "      <th>3</th>\n",
       "      <td>21093</td>\n",
       "      <td>07/01/2009 03:59:26 PM</td>\n",
       "      <td>Phone or Email</td>\n",
       "      <td>Yard Trimmings - Cart Request</td>\n",
       "      <td>RECYCLING</td>\n",
       "      <td>3367 DWIGHT WY\\nCA, CA\\n(37.868229, -122.243706)</td>\n",
       "      <td>CLOSED</td>\n",
       "      <td>NaN</td>\n",
       "      <td>07/03/2009 11:09:54 AM</td>\n",
       "      <td>6058207.824</td>\n",
       "      <td>2143299.182</td>\n",
       "      <td>CCD1</td>\n",
       "      <td>13Y</td>\n",
       "    </tr>\n",
       "    <tr>\n",
       "      <th>4</th>\n",
       "      <td>21094</td>\n",
       "      <td>07/01/2009 04:03:05 PM</td>\n",
       "      <td>Phone or Email</td>\n",
       "      <td>Residential Recycling - Oil - Kit Request</td>\n",
       "      <td>RECYCLING</td>\n",
       "      <td>5777 GRISBORNE AV\\nCA, CA\\n(37.835057, -122.21...</td>\n",
       "      <td>CLOSED</td>\n",
       "      <td>NaN</td>\n",
       "      <td>07/03/2009 02:30:07 PM</td>\n",
       "      <td>6067161.057</td>\n",
       "      <td>2131022.692</td>\n",
       "      <td>CCD4</td>\n",
       "      <td>13Y</td>\n",
       "    </tr>\n",
       "  </tbody>\n",
       "</table>\n",
       "</div>"
      ],
      "text/plain": [
       "   REQUESTID            DATETIMEINIT          SOURCE  \\\n",
       "0      21090  07/01/2009 10:24:19 AM  Phone or Email   \n",
       "1      21091  07/01/2009 11:14:09 AM  Phone or Email   \n",
       "2      21092  07/01/2009 03:58:47 PM  Phone or Email   \n",
       "3      21093  07/01/2009 03:59:26 PM  Phone or Email   \n",
       "4      21094  07/01/2009 04:03:05 PM  Phone or Email   \n",
       "\n",
       "                                  DESCRIPTION REQCATEGORY  \\\n",
       "0          Yard Trimmings - Food Pail Request   RECYCLING   \n",
       "1            City Services - Missed Recycling   RECYCLING   \n",
       "2  Yard Trimmings Service Issue (Residential)   RECYCLING   \n",
       "3               Yard Trimmings - Cart Request   RECYCLING   \n",
       "4   Residential Recycling - Oil - Kit Request   RECYCLING   \n",
       "\n",
       "                                          REQADDRESS  STATUS REFERREDTO  \\\n",
       "0     532 BODEN WY\\nCA, CA\\n(37.807708, -122.248339)  CLOSED        NaN   \n",
       "1  699 BELLEVUE AV\\nCA, CA\\n(37.809762, -122.259388)  CLOSED        NaN   \n",
       "2     1633 84TH AV\\nCA, CA\\n(37.755521, -122.175515)  CLOSED        NaN   \n",
       "3   3367 DWIGHT WY\\nCA, CA\\n(37.868229, -122.243706)  CLOSED        NaN   \n",
       "4  5777 GRISBORNE AV\\nCA, CA\\n(37.835057, -122.21...  CLOSED        NaN   \n",
       "\n",
       "           DATETIMECLOSED          SRX          SRY COUNCILDISTRICT BEAT  \n",
       "0  07/27/2009 11:34:09 AM  6056502.139  2121252.658            CCD3  15X  \n",
       "1  07/03/2009 11:10:08 AM  6053405.037  2122019.368            CCD3  14X  \n",
       "2  07/27/2009 11:33:58 AM  6077230.607  2101888.265            CCD6  34X  \n",
       "3  07/03/2009 11:09:54 AM  6058207.824  2143299.182            CCD1  13Y  \n",
       "4  07/03/2009 02:30:07 PM  6067161.057  2131022.692            CCD4  13Y  "
      ]
     },
     "execution_count": 15,
     "metadata": {},
     "output_type": "execute_result"
    }
   ],
   "source": [
    "service_requests.head()"
   ]
  },
  {
   "cell_type": "markdown",
   "metadata": {},
   "source": [
    "For now, I'll drop the `REFERREDTO`, `SRX`, `SRY`, `COUNCILDISTRICT`, and `BEAT` columns."
   ]
  },
  {
   "cell_type": "code",
   "execution_count": 16,
   "metadata": {},
   "outputs": [],
   "source": [
    "service_requests.drop(columns=['REFERREDTO', 'SRX', 'SRY', 'COUNCILDISTRICT', 'BEAT'], inplace=True)"
   ]
  },
  {
   "cell_type": "code",
   "execution_count": 17,
   "metadata": {},
   "outputs": [
    {
     "data": {
      "text/html": [
       "<div>\n",
       "<style scoped>\n",
       "    .dataframe tbody tr th:only-of-type {\n",
       "        vertical-align: middle;\n",
       "    }\n",
       "\n",
       "    .dataframe tbody tr th {\n",
       "        vertical-align: top;\n",
       "    }\n",
       "\n",
       "    .dataframe thead th {\n",
       "        text-align: right;\n",
       "    }\n",
       "</style>\n",
       "<table border=\"1\" class=\"dataframe\">\n",
       "  <thead>\n",
       "    <tr style=\"text-align: right;\">\n",
       "      <th></th>\n",
       "      <th>REQUESTID</th>\n",
       "      <th>DATETIMEINIT</th>\n",
       "      <th>SOURCE</th>\n",
       "      <th>DESCRIPTION</th>\n",
       "      <th>REQCATEGORY</th>\n",
       "      <th>REQADDRESS</th>\n",
       "      <th>STATUS</th>\n",
       "      <th>DATETIMECLOSED</th>\n",
       "    </tr>\n",
       "  </thead>\n",
       "  <tbody>\n",
       "    <tr>\n",
       "      <th>0</th>\n",
       "      <td>21090</td>\n",
       "      <td>07/01/2009 10:24:19 AM</td>\n",
       "      <td>Phone or Email</td>\n",
       "      <td>Yard Trimmings - Food Pail Request</td>\n",
       "      <td>RECYCLING</td>\n",
       "      <td>532 BODEN WY\\nCA, CA\\n(37.807708, -122.248339)</td>\n",
       "      <td>CLOSED</td>\n",
       "      <td>07/27/2009 11:34:09 AM</td>\n",
       "    </tr>\n",
       "    <tr>\n",
       "      <th>1</th>\n",
       "      <td>21091</td>\n",
       "      <td>07/01/2009 11:14:09 AM</td>\n",
       "      <td>Phone or Email</td>\n",
       "      <td>City Services - Missed Recycling</td>\n",
       "      <td>RECYCLING</td>\n",
       "      <td>699 BELLEVUE AV\\nCA, CA\\n(37.809762, -122.259388)</td>\n",
       "      <td>CLOSED</td>\n",
       "      <td>07/03/2009 11:10:08 AM</td>\n",
       "    </tr>\n",
       "    <tr>\n",
       "      <th>2</th>\n",
       "      <td>21092</td>\n",
       "      <td>07/01/2009 03:58:47 PM</td>\n",
       "      <td>Phone or Email</td>\n",
       "      <td>Yard Trimmings Service Issue (Residential)</td>\n",
       "      <td>RECYCLING</td>\n",
       "      <td>1633 84TH AV\\nCA, CA\\n(37.755521, -122.175515)</td>\n",
       "      <td>CLOSED</td>\n",
       "      <td>07/27/2009 11:33:58 AM</td>\n",
       "    </tr>\n",
       "    <tr>\n",
       "      <th>3</th>\n",
       "      <td>21093</td>\n",
       "      <td>07/01/2009 03:59:26 PM</td>\n",
       "      <td>Phone or Email</td>\n",
       "      <td>Yard Trimmings - Cart Request</td>\n",
       "      <td>RECYCLING</td>\n",
       "      <td>3367 DWIGHT WY\\nCA, CA\\n(37.868229, -122.243706)</td>\n",
       "      <td>CLOSED</td>\n",
       "      <td>07/03/2009 11:09:54 AM</td>\n",
       "    </tr>\n",
       "    <tr>\n",
       "      <th>4</th>\n",
       "      <td>21094</td>\n",
       "      <td>07/01/2009 04:03:05 PM</td>\n",
       "      <td>Phone or Email</td>\n",
       "      <td>Residential Recycling - Oil - Kit Request</td>\n",
       "      <td>RECYCLING</td>\n",
       "      <td>5777 GRISBORNE AV\\nCA, CA\\n(37.835057, -122.21...</td>\n",
       "      <td>CLOSED</td>\n",
       "      <td>07/03/2009 02:30:07 PM</td>\n",
       "    </tr>\n",
       "  </tbody>\n",
       "</table>\n",
       "</div>"
      ],
      "text/plain": [
       "   REQUESTID            DATETIMEINIT          SOURCE  \\\n",
       "0      21090  07/01/2009 10:24:19 AM  Phone or Email   \n",
       "1      21091  07/01/2009 11:14:09 AM  Phone or Email   \n",
       "2      21092  07/01/2009 03:58:47 PM  Phone or Email   \n",
       "3      21093  07/01/2009 03:59:26 PM  Phone or Email   \n",
       "4      21094  07/01/2009 04:03:05 PM  Phone or Email   \n",
       "\n",
       "                                  DESCRIPTION REQCATEGORY  \\\n",
       "0          Yard Trimmings - Food Pail Request   RECYCLING   \n",
       "1            City Services - Missed Recycling   RECYCLING   \n",
       "2  Yard Trimmings Service Issue (Residential)   RECYCLING   \n",
       "3               Yard Trimmings - Cart Request   RECYCLING   \n",
       "4   Residential Recycling - Oil - Kit Request   RECYCLING   \n",
       "\n",
       "                                          REQADDRESS  STATUS  \\\n",
       "0     532 BODEN WY\\nCA, CA\\n(37.807708, -122.248339)  CLOSED   \n",
       "1  699 BELLEVUE AV\\nCA, CA\\n(37.809762, -122.259388)  CLOSED   \n",
       "2     1633 84TH AV\\nCA, CA\\n(37.755521, -122.175515)  CLOSED   \n",
       "3   3367 DWIGHT WY\\nCA, CA\\n(37.868229, -122.243706)  CLOSED   \n",
       "4  5777 GRISBORNE AV\\nCA, CA\\n(37.835057, -122.21...  CLOSED   \n",
       "\n",
       "           DATETIMECLOSED  \n",
       "0  07/27/2009 11:34:09 AM  \n",
       "1  07/03/2009 11:10:08 AM  \n",
       "2  07/27/2009 11:33:58 AM  \n",
       "3  07/03/2009 11:09:54 AM  \n",
       "4  07/03/2009 02:30:07 PM  "
      ]
     },
     "execution_count": 17,
     "metadata": {},
     "output_type": "execute_result"
    }
   ],
   "source": [
    "service_requests.head()"
   ]
  },
  {
   "cell_type": "code",
   "execution_count": 18,
   "metadata": {
    "scrolled": false
   },
   "outputs": [
    {
     "data": {
      "text/plain": [
       "array(['RECYCLING', 'ELECTRICAL', 'ILLDUMP', 'PARKS', 'ROW', 'STREETSW',\n",
       "       'KOCB', 'OTHER', 'TRAFFIC', 'TREES', 'WATERSHED', 'SEWERS',\n",
       "       'BLDGMAINT', 'DRAINAGE', 'TRAFFIC_ENGIN', 'METER_REPAIR',\n",
       "       'GRAFFITI', 'FACILITIES', 'FIRE', nan, 'CUT_CLEAN', 'VEGCONTR',\n",
       "       'CW_DIT_GIS', 'GIS', 'SURVEY', 'LAB', 'OPD'], dtype=object)"
      ]
     },
     "metadata": {},
     "output_type": "display_data"
    },
    {
     "data": {
      "text/plain": [
       "array(['Phone or Email', 'Email', 'SeeClickFix', 'Phone', 'Voicemail',\n",
       "       'Website', 'City Attorney', 'Other'], dtype=object)"
      ]
     },
     "metadata": {},
     "output_type": "display_data"
    },
    {
     "data": {
      "text/plain": [
       "array(['CLOSED', 'OPEN', 'CANCEL', 'WOCREATE', 'REFERRED', 'UNFUNDED',\n",
       "       'Pending', 'Cancel', 'PENDING'], dtype=object)"
      ]
     },
     "metadata": {},
     "output_type": "display_data"
    }
   ],
   "source": [
    "display(service_requests['REQCATEGORY'].unique())\n",
    "display(service_requests['SOURCE'].unique())\n",
    "display(service_requests['STATUS'].unique())"
   ]
  },
  {
   "cell_type": "markdown",
   "metadata": {},
   "source": [
    "Let's take a look at the unfunded requests:"
   ]
  },
  {
   "cell_type": "code",
   "execution_count": 19,
   "metadata": {
    "scrolled": false
   },
   "outputs": [
    {
     "data": {
      "text/html": [
       "<div>\n",
       "<style scoped>\n",
       "    .dataframe tbody tr th:only-of-type {\n",
       "        vertical-align: middle;\n",
       "    }\n",
       "\n",
       "    .dataframe tbody tr th {\n",
       "        vertical-align: top;\n",
       "    }\n",
       "\n",
       "    .dataframe thead th {\n",
       "        text-align: right;\n",
       "    }\n",
       "</style>\n",
       "<table border=\"1\" class=\"dataframe\">\n",
       "  <thead>\n",
       "    <tr style=\"text-align: right;\">\n",
       "      <th></th>\n",
       "      <th>REQUESTID</th>\n",
       "      <th>DATETIMEINIT</th>\n",
       "      <th>SOURCE</th>\n",
       "      <th>DESCRIPTION</th>\n",
       "      <th>REQCATEGORY</th>\n",
       "      <th>REQADDRESS</th>\n",
       "      <th>STATUS</th>\n",
       "      <th>DATETIMECLOSED</th>\n",
       "    </tr>\n",
       "  </thead>\n",
       "  <tbody>\n",
       "    <tr>\n",
       "      <th>461</th>\n",
       "      <td>313126</td>\n",
       "      <td>08/19/2009 09:59:07 AM</td>\n",
       "      <td>Phone or Email</td>\n",
       "      <td>Tree - Pruning</td>\n",
       "      <td>TREES</td>\n",
       "      <td>5115 WEST STREET\\nCA, CA\\n(37.836327, -122.269...</td>\n",
       "      <td>UNFUNDED</td>\n",
       "      <td>NaN</td>\n",
       "    </tr>\n",
       "    <tr>\n",
       "      <th>919</th>\n",
       "      <td>334746</td>\n",
       "      <td>04/22/2010 02:07:52 PM</td>\n",
       "      <td>Phone or Email</td>\n",
       "      <td>Streets/Sidewalks - Curb &amp; Gutter Repair</td>\n",
       "      <td>STREETSW</td>\n",
       "      <td>1648 104TH AV\\nCA, CA\\n(37.740948, -122.16464)</td>\n",
       "      <td>UNFUNDED</td>\n",
       "      <td>NaN</td>\n",
       "    </tr>\n",
       "    <tr>\n",
       "      <th>1339</th>\n",
       "      <td>311488</td>\n",
       "      <td>07/29/2009 03:10:13 PM</td>\n",
       "      <td>Phone or Email</td>\n",
       "      <td>Tree - Pruning</td>\n",
       "      <td>TREES</td>\n",
       "      <td>MARTIN LUTHER KING JR WY &amp;amp; 57TH ST\\nCA, CA...</td>\n",
       "      <td>UNFUNDED</td>\n",
       "      <td>NaN</td>\n",
       "    </tr>\n",
       "    <tr>\n",
       "      <th>1513</th>\n",
       "      <td>312376</td>\n",
       "      <td>08/11/2009 08:38:06 AM</td>\n",
       "      <td>Phone or Email</td>\n",
       "      <td>Streets - Street Deterioration</td>\n",
       "      <td>STREETSW</td>\n",
       "      <td>PERKINS ST &amp;amp; GRAND AV\\nCA, CA\\n(37.808964,...</td>\n",
       "      <td>UNFUNDED</td>\n",
       "      <td>NaN</td>\n",
       "    </tr>\n",
       "    <tr>\n",
       "      <th>1586</th>\n",
       "      <td>312589</td>\n",
       "      <td>08/12/2009 02:35:34 PM</td>\n",
       "      <td>Phone or Email</td>\n",
       "      <td>Streets - Street Deterioration</td>\n",
       "      <td>STREETSW</td>\n",
       "      <td>MOUNTAIN BLVD &amp;amp; ASCOT DR\\nCA, CA\\n(37.8182...</td>\n",
       "      <td>UNFUNDED</td>\n",
       "      <td>NaN</td>\n",
       "    </tr>\n",
       "  </tbody>\n",
       "</table>\n",
       "</div>"
      ],
      "text/plain": [
       "      REQUESTID            DATETIMEINIT          SOURCE  \\\n",
       "461      313126  08/19/2009 09:59:07 AM  Phone or Email   \n",
       "919      334746  04/22/2010 02:07:52 PM  Phone or Email   \n",
       "1339     311488  07/29/2009 03:10:13 PM  Phone or Email   \n",
       "1513     312376  08/11/2009 08:38:06 AM  Phone or Email   \n",
       "1586     312589  08/12/2009 02:35:34 PM  Phone or Email   \n",
       "\n",
       "                                   DESCRIPTION REQCATEGORY  \\\n",
       "461                             Tree - Pruning       TREES   \n",
       "919   Streets/Sidewalks - Curb & Gutter Repair    STREETSW   \n",
       "1339                            Tree - Pruning       TREES   \n",
       "1513            Streets - Street Deterioration    STREETSW   \n",
       "1586            Streets - Street Deterioration    STREETSW   \n",
       "\n",
       "                                             REQADDRESS    STATUS  \\\n",
       "461   5115 WEST STREET\\nCA, CA\\n(37.836327, -122.269...  UNFUNDED   \n",
       "919      1648 104TH AV\\nCA, CA\\n(37.740948, -122.16464)  UNFUNDED   \n",
       "1339  MARTIN LUTHER KING JR WY &amp; 57TH ST\\nCA, CA...  UNFUNDED   \n",
       "1513  PERKINS ST &amp; GRAND AV\\nCA, CA\\n(37.808964,...  UNFUNDED   \n",
       "1586  MOUNTAIN BLVD &amp; ASCOT DR\\nCA, CA\\n(37.8182...  UNFUNDED   \n",
       "\n",
       "     DATETIMECLOSED  \n",
       "461             NaN  \n",
       "919             NaN  \n",
       "1339            NaN  \n",
       "1513            NaN  \n",
       "1586            NaN  "
      ]
     },
     "execution_count": 19,
     "metadata": {},
     "output_type": "execute_result"
    }
   ],
   "source": [
    "service_requests[service_requests['STATUS'] == 'UNFUNDED'].head()"
   ]
  },
  {
   "cell_type": "markdown",
   "metadata": {},
   "source": [
    "We will want the GPS coordinates for easier plotting later on. Let's do some regex-ing to clean those addresses/coordinates up:"
   ]
  },
  {
   "cell_type": "code",
   "execution_count": 20,
   "metadata": {},
   "outputs": [
    {
     "data": {
      "text/plain": [
       "0       532 BODEN WY\\nCA, CA\\n(37.807708, -122.248339)\n",
       "1    699 BELLEVUE AV\\nCA, CA\\n(37.809762, -122.259388)\n",
       "2       1633 84TH AV\\nCA, CA\\n(37.755521, -122.175515)\n",
       "3     3367 DWIGHT WY\\nCA, CA\\n(37.868229, -122.243706)\n",
       "4    5777 GRISBORNE AV\\nCA, CA\\n(37.835057, -122.21...\n",
       "Name: REQADDRESS, dtype: object"
      ]
     },
     "execution_count": 20,
     "metadata": {},
     "output_type": "execute_result"
    }
   ],
   "source": [
    "service_requests['REQADDRESS'].head()"
   ]
  },
  {
   "cell_type": "markdown",
   "metadata": {},
   "source": [
    "Here's a regex expression that can be used to pull GPS coordinates from the address column:"
   ]
  },
  {
   "cell_type": "code",
   "execution_count": 21,
   "metadata": {
    "scrolled": true
   },
   "outputs": [
    {
     "data": {
      "text/plain": [
       "['37.868229, -122.243706']"
      ]
     },
     "execution_count": 21,
     "metadata": {},
     "output_type": "execute_result"
    }
   ],
   "source": [
    "re.findall('[\\d.]+, [\\-\\d.]+', service_requests['REQADDRESS'].iloc[3])"
   ]
  },
  {
   "cell_type": "markdown",
   "metadata": {},
   "source": [
    "We can use a function to perform this search and also return a tuple of GPS coordinates for us:"
   ]
  },
  {
   "cell_type": "code",
   "execution_count": 22,
   "metadata": {},
   "outputs": [],
   "source": [
    "def get_coords(addr):\n",
    "    coords = re.findall('[\\d.]+, [\\-\\d.]+', addr)\n",
    "    \n",
    "    # Return a missing value if there aren't any coordinates\n",
    "    if not coords:\n",
    "        return np.nan\n",
    "\n",
    "    # Return a tuple otherwise\n",
    "    coords = coords[0].split(',')\n",
    "    return (float(coords[0]), float(coords[1]))"
   ]
  },
  {
   "cell_type": "code",
   "execution_count": 23,
   "metadata": {},
   "outputs": [
    {
     "data": {
      "text/plain": [
       "(37.809762, -122.259388)"
      ]
     },
     "execution_count": 23,
     "metadata": {},
     "output_type": "execute_result"
    }
   ],
   "source": [
    "get_coords(service_requests['REQADDRESS'].iloc[1])"
   ]
  },
  {
   "cell_type": "code",
   "execution_count": 24,
   "metadata": {},
   "outputs": [],
   "source": [
    "service_requests['coordinates'] = service_requests['REQADDRESS'].apply(get_coords)"
   ]
  },
  {
   "cell_type": "code",
   "execution_count": 25,
   "metadata": {},
   "outputs": [
    {
     "data": {
      "text/html": [
       "<div>\n",
       "<style scoped>\n",
       "    .dataframe tbody tr th:only-of-type {\n",
       "        vertical-align: middle;\n",
       "    }\n",
       "\n",
       "    .dataframe tbody tr th {\n",
       "        vertical-align: top;\n",
       "    }\n",
       "\n",
       "    .dataframe thead th {\n",
       "        text-align: right;\n",
       "    }\n",
       "</style>\n",
       "<table border=\"1\" class=\"dataframe\">\n",
       "  <thead>\n",
       "    <tr style=\"text-align: right;\">\n",
       "      <th></th>\n",
       "      <th>REQUESTID</th>\n",
       "      <th>DATETIMEINIT</th>\n",
       "      <th>SOURCE</th>\n",
       "      <th>DESCRIPTION</th>\n",
       "      <th>REQCATEGORY</th>\n",
       "      <th>REQADDRESS</th>\n",
       "      <th>STATUS</th>\n",
       "      <th>DATETIMECLOSED</th>\n",
       "      <th>coordinates</th>\n",
       "    </tr>\n",
       "  </thead>\n",
       "  <tbody>\n",
       "    <tr>\n",
       "      <th>0</th>\n",
       "      <td>21090</td>\n",
       "      <td>07/01/2009 10:24:19 AM</td>\n",
       "      <td>Phone or Email</td>\n",
       "      <td>Yard Trimmings - Food Pail Request</td>\n",
       "      <td>RECYCLING</td>\n",
       "      <td>532 BODEN WY\\nCA, CA\\n(37.807708, -122.248339)</td>\n",
       "      <td>CLOSED</td>\n",
       "      <td>07/27/2009 11:34:09 AM</td>\n",
       "      <td>(37.807708, -122.248339)</td>\n",
       "    </tr>\n",
       "    <tr>\n",
       "      <th>1</th>\n",
       "      <td>21091</td>\n",
       "      <td>07/01/2009 11:14:09 AM</td>\n",
       "      <td>Phone or Email</td>\n",
       "      <td>City Services - Missed Recycling</td>\n",
       "      <td>RECYCLING</td>\n",
       "      <td>699 BELLEVUE AV\\nCA, CA\\n(37.809762, -122.259388)</td>\n",
       "      <td>CLOSED</td>\n",
       "      <td>07/03/2009 11:10:08 AM</td>\n",
       "      <td>(37.809762, -122.259388)</td>\n",
       "    </tr>\n",
       "    <tr>\n",
       "      <th>2</th>\n",
       "      <td>21092</td>\n",
       "      <td>07/01/2009 03:58:47 PM</td>\n",
       "      <td>Phone or Email</td>\n",
       "      <td>Yard Trimmings Service Issue (Residential)</td>\n",
       "      <td>RECYCLING</td>\n",
       "      <td>1633 84TH AV\\nCA, CA\\n(37.755521, -122.175515)</td>\n",
       "      <td>CLOSED</td>\n",
       "      <td>07/27/2009 11:33:58 AM</td>\n",
       "      <td>(37.755521, -122.175515)</td>\n",
       "    </tr>\n",
       "    <tr>\n",
       "      <th>3</th>\n",
       "      <td>21093</td>\n",
       "      <td>07/01/2009 03:59:26 PM</td>\n",
       "      <td>Phone or Email</td>\n",
       "      <td>Yard Trimmings - Cart Request</td>\n",
       "      <td>RECYCLING</td>\n",
       "      <td>3367 DWIGHT WY\\nCA, CA\\n(37.868229, -122.243706)</td>\n",
       "      <td>CLOSED</td>\n",
       "      <td>07/03/2009 11:09:54 AM</td>\n",
       "      <td>(37.868229, -122.243706)</td>\n",
       "    </tr>\n",
       "    <tr>\n",
       "      <th>4</th>\n",
       "      <td>21094</td>\n",
       "      <td>07/01/2009 04:03:05 PM</td>\n",
       "      <td>Phone or Email</td>\n",
       "      <td>Residential Recycling - Oil - Kit Request</td>\n",
       "      <td>RECYCLING</td>\n",
       "      <td>5777 GRISBORNE AV\\nCA, CA\\n(37.835057, -122.21...</td>\n",
       "      <td>CLOSED</td>\n",
       "      <td>07/03/2009 02:30:07 PM</td>\n",
       "      <td>(37.835057, -122.212352)</td>\n",
       "    </tr>\n",
       "  </tbody>\n",
       "</table>\n",
       "</div>"
      ],
      "text/plain": [
       "   REQUESTID            DATETIMEINIT          SOURCE  \\\n",
       "0      21090  07/01/2009 10:24:19 AM  Phone or Email   \n",
       "1      21091  07/01/2009 11:14:09 AM  Phone or Email   \n",
       "2      21092  07/01/2009 03:58:47 PM  Phone or Email   \n",
       "3      21093  07/01/2009 03:59:26 PM  Phone or Email   \n",
       "4      21094  07/01/2009 04:03:05 PM  Phone or Email   \n",
       "\n",
       "                                  DESCRIPTION REQCATEGORY  \\\n",
       "0          Yard Trimmings - Food Pail Request   RECYCLING   \n",
       "1            City Services - Missed Recycling   RECYCLING   \n",
       "2  Yard Trimmings Service Issue (Residential)   RECYCLING   \n",
       "3               Yard Trimmings - Cart Request   RECYCLING   \n",
       "4   Residential Recycling - Oil - Kit Request   RECYCLING   \n",
       "\n",
       "                                          REQADDRESS  STATUS  \\\n",
       "0     532 BODEN WY\\nCA, CA\\n(37.807708, -122.248339)  CLOSED   \n",
       "1  699 BELLEVUE AV\\nCA, CA\\n(37.809762, -122.259388)  CLOSED   \n",
       "2     1633 84TH AV\\nCA, CA\\n(37.755521, -122.175515)  CLOSED   \n",
       "3   3367 DWIGHT WY\\nCA, CA\\n(37.868229, -122.243706)  CLOSED   \n",
       "4  5777 GRISBORNE AV\\nCA, CA\\n(37.835057, -122.21...  CLOSED   \n",
       "\n",
       "           DATETIMECLOSED               coordinates  \n",
       "0  07/27/2009 11:34:09 AM  (37.807708, -122.248339)  \n",
       "1  07/03/2009 11:10:08 AM  (37.809762, -122.259388)  \n",
       "2  07/27/2009 11:33:58 AM  (37.755521, -122.175515)  \n",
       "3  07/03/2009 11:09:54 AM  (37.868229, -122.243706)  \n",
       "4  07/03/2009 02:30:07 PM  (37.835057, -122.212352)  "
      ]
     },
     "execution_count": 25,
     "metadata": {},
     "output_type": "execute_result"
    }
   ],
   "source": [
    "service_requests.head()"
   ]
  },
  {
   "cell_type": "code",
   "execution_count": 26,
   "metadata": {},
   "outputs": [
    {
     "data": {
      "text/plain": [
       "REQUESTID                                                     21091\n",
       "DATETIMEINIT                                 07/01/2009 11:14:09 AM\n",
       "SOURCE                                               Phone or Email\n",
       "DESCRIPTION                        City Services - Missed Recycling\n",
       "REQCATEGORY                                               RECYCLING\n",
       "REQADDRESS        699 BELLEVUE AV\\nCA, CA\\n(37.809762, -122.259388)\n",
       "STATUS                                                       CLOSED\n",
       "DATETIMECLOSED                               07/03/2009 11:10:08 AM\n",
       "coordinates                                (37.809762, -122.259388)\n",
       "Name: 1, dtype: object"
      ]
     },
     "execution_count": 26,
     "metadata": {},
     "output_type": "execute_result"
    }
   ],
   "source": [
    "service_requests.loc[1]"
   ]
  },
  {
   "cell_type": "code",
   "execution_count": 27,
   "metadata": {},
   "outputs": [
    {
     "name": "stdout",
     "output_type": "stream",
     "text": [
      "Number of entries with coordinates: 402305\n",
      "Number of entries without coordinates: 70802\n"
     ]
    }
   ],
   "source": [
    "print('Number of entries with coordinates:', service_requests[service_requests['coordinates'].notnull()].shape[0])\n",
    "print('Number of entries without coordinates:', service_requests[service_requests['coordinates'].isna()].shape[0])"
   ]
  },
  {
   "cell_type": "markdown",
   "metadata": {},
   "source": [
    "Let's limit ourselves to the entries that have coordinates for us to plot (using the addresses provided is completely possible, but beyond the scope of our current analysis). As we see above, we still have a good amount of data to play with. It's worth noting that selecting only those with GPS coordinates may in fact be introducing a bias in our results, or it may in fact be a negiligble effect (e.g., the people responsible for data entry may not have entered the coordinates...)."
   ]
  },
  {
   "cell_type": "code",
   "execution_count": 30,
   "metadata": {},
   "outputs": [
    {
     "name": "stdout",
     "output_type": "stream",
     "text": [
      "(402305, 9)\n"
     ]
    }
   ],
   "source": [
    "service_requests = service_requests[service_requests['coordinates'].notnull()]\n",
    "print(service_requests.shape)"
   ]
  },
  {
   "cell_type": "code",
   "execution_count": 31,
   "metadata": {},
   "outputs": [
    {
     "data": {
      "text/html": [
       "<div>\n",
       "<style scoped>\n",
       "    .dataframe tbody tr th:only-of-type {\n",
       "        vertical-align: middle;\n",
       "    }\n",
       "\n",
       "    .dataframe tbody tr th {\n",
       "        vertical-align: top;\n",
       "    }\n",
       "\n",
       "    .dataframe thead th {\n",
       "        text-align: right;\n",
       "    }\n",
       "</style>\n",
       "<table border=\"1\" class=\"dataframe\">\n",
       "  <thead>\n",
       "    <tr style=\"text-align: right;\">\n",
       "      <th></th>\n",
       "      <th>REQUESTID</th>\n",
       "      <th>DATETIMEINIT</th>\n",
       "      <th>SOURCE</th>\n",
       "      <th>DESCRIPTION</th>\n",
       "      <th>REQCATEGORY</th>\n",
       "      <th>REQADDRESS</th>\n",
       "      <th>STATUS</th>\n",
       "      <th>DATETIMECLOSED</th>\n",
       "      <th>coordinates</th>\n",
       "    </tr>\n",
       "  </thead>\n",
       "  <tbody>\n",
       "    <tr>\n",
       "      <th>0</th>\n",
       "      <td>21090</td>\n",
       "      <td>07/01/2009 10:24:19 AM</td>\n",
       "      <td>Phone or Email</td>\n",
       "      <td>Yard Trimmings - Food Pail Request</td>\n",
       "      <td>RECYCLING</td>\n",
       "      <td>532 BODEN WY\\nCA, CA\\n(37.807708, -122.248339)</td>\n",
       "      <td>CLOSED</td>\n",
       "      <td>07/27/2009 11:34:09 AM</td>\n",
       "      <td>(37.807708, -122.248339)</td>\n",
       "    </tr>\n",
       "    <tr>\n",
       "      <th>1</th>\n",
       "      <td>21091</td>\n",
       "      <td>07/01/2009 11:14:09 AM</td>\n",
       "      <td>Phone or Email</td>\n",
       "      <td>City Services - Missed Recycling</td>\n",
       "      <td>RECYCLING</td>\n",
       "      <td>699 BELLEVUE AV\\nCA, CA\\n(37.809762, -122.259388)</td>\n",
       "      <td>CLOSED</td>\n",
       "      <td>07/03/2009 11:10:08 AM</td>\n",
       "      <td>(37.809762, -122.259388)</td>\n",
       "    </tr>\n",
       "    <tr>\n",
       "      <th>2</th>\n",
       "      <td>21092</td>\n",
       "      <td>07/01/2009 03:58:47 PM</td>\n",
       "      <td>Phone or Email</td>\n",
       "      <td>Yard Trimmings Service Issue (Residential)</td>\n",
       "      <td>RECYCLING</td>\n",
       "      <td>1633 84TH AV\\nCA, CA\\n(37.755521, -122.175515)</td>\n",
       "      <td>CLOSED</td>\n",
       "      <td>07/27/2009 11:33:58 AM</td>\n",
       "      <td>(37.755521, -122.175515)</td>\n",
       "    </tr>\n",
       "    <tr>\n",
       "      <th>3</th>\n",
       "      <td>21093</td>\n",
       "      <td>07/01/2009 03:59:26 PM</td>\n",
       "      <td>Phone or Email</td>\n",
       "      <td>Yard Trimmings - Cart Request</td>\n",
       "      <td>RECYCLING</td>\n",
       "      <td>3367 DWIGHT WY\\nCA, CA\\n(37.868229, -122.243706)</td>\n",
       "      <td>CLOSED</td>\n",
       "      <td>07/03/2009 11:09:54 AM</td>\n",
       "      <td>(37.868229, -122.243706)</td>\n",
       "    </tr>\n",
       "    <tr>\n",
       "      <th>4</th>\n",
       "      <td>21094</td>\n",
       "      <td>07/01/2009 04:03:05 PM</td>\n",
       "      <td>Phone or Email</td>\n",
       "      <td>Residential Recycling - Oil - Kit Request</td>\n",
       "      <td>RECYCLING</td>\n",
       "      <td>5777 GRISBORNE AV\\nCA, CA\\n(37.835057, -122.21...</td>\n",
       "      <td>CLOSED</td>\n",
       "      <td>07/03/2009 02:30:07 PM</td>\n",
       "      <td>(37.835057, -122.212352)</td>\n",
       "    </tr>\n",
       "  </tbody>\n",
       "</table>\n",
       "</div>"
      ],
      "text/plain": [
       "   REQUESTID            DATETIMEINIT          SOURCE  \\\n",
       "0      21090  07/01/2009 10:24:19 AM  Phone or Email   \n",
       "1      21091  07/01/2009 11:14:09 AM  Phone or Email   \n",
       "2      21092  07/01/2009 03:58:47 PM  Phone or Email   \n",
       "3      21093  07/01/2009 03:59:26 PM  Phone or Email   \n",
       "4      21094  07/01/2009 04:03:05 PM  Phone or Email   \n",
       "\n",
       "                                  DESCRIPTION REQCATEGORY  \\\n",
       "0          Yard Trimmings - Food Pail Request   RECYCLING   \n",
       "1            City Services - Missed Recycling   RECYCLING   \n",
       "2  Yard Trimmings Service Issue (Residential)   RECYCLING   \n",
       "3               Yard Trimmings - Cart Request   RECYCLING   \n",
       "4   Residential Recycling - Oil - Kit Request   RECYCLING   \n",
       "\n",
       "                                          REQADDRESS  STATUS  \\\n",
       "0     532 BODEN WY\\nCA, CA\\n(37.807708, -122.248339)  CLOSED   \n",
       "1  699 BELLEVUE AV\\nCA, CA\\n(37.809762, -122.259388)  CLOSED   \n",
       "2     1633 84TH AV\\nCA, CA\\n(37.755521, -122.175515)  CLOSED   \n",
       "3   3367 DWIGHT WY\\nCA, CA\\n(37.868229, -122.243706)  CLOSED   \n",
       "4  5777 GRISBORNE AV\\nCA, CA\\n(37.835057, -122.21...  CLOSED   \n",
       "\n",
       "           DATETIMECLOSED               coordinates  \n",
       "0  07/27/2009 11:34:09 AM  (37.807708, -122.248339)  \n",
       "1  07/03/2009 11:10:08 AM  (37.809762, -122.259388)  \n",
       "2  07/27/2009 11:33:58 AM  (37.755521, -122.175515)  \n",
       "3  07/03/2009 11:09:54 AM  (37.868229, -122.243706)  \n",
       "4  07/03/2009 02:30:07 PM  (37.835057, -122.212352)  "
      ]
     },
     "execution_count": 31,
     "metadata": {},
     "output_type": "execute_result"
    }
   ],
   "source": [
    "service_requests.head()"
   ]
  },
  {
   "cell_type": "markdown",
   "metadata": {},
   "source": [
    "And since we are not using the address, let's just drop that column:"
   ]
  },
  {
   "cell_type": "code",
   "execution_count": 32,
   "metadata": {},
   "outputs": [],
   "source": [
    "service_requests.drop(columns='REQADDRESS', inplace=True)"
   ]
  },
  {
   "cell_type": "markdown",
   "metadata": {},
   "source": [
    "Another piece of data that may be of interest to us is how long it took to close the request. For example, we can geospatially map out how long it took to close requests. To do this, let's first make sure the times are all in a common format."
   ]
  },
  {
   "cell_type": "code",
   "execution_count": 33,
   "metadata": {},
   "outputs": [],
   "source": [
    "service_requests.loc[:, 'DATETIMEINIT'] = pd.to_datetime(service_requests['DATETIMEINIT'],\n",
    "                                                         format=\"%m/%d/%Y %I:%M:%S %p\")\n",
    "service_requests.loc[:, 'DATETIMECLOSED'] = pd.to_datetime(service_requests['DATETIMECLOSED'],\n",
    "                                                           format=\"%m/%d/%Y %I:%M:%S %p\")"
   ]
  },
  {
   "cell_type": "markdown",
   "metadata": {},
   "source": [
    "What's the range of the dates here?"
   ]
  },
  {
   "cell_type": "code",
   "execution_count": 34,
   "metadata": {
    "scrolled": true
   },
   "outputs": [
    {
     "data": {
      "text/plain": [
       "(Timestamp('2009-07-01 08:05:36'), Timestamp('2017-12-11 03:18:22'))"
      ]
     },
     "execution_count": 34,
     "metadata": {},
     "output_type": "execute_result"
    }
   ],
   "source": [
    "service_requests['DATETIMEINIT'].min(), service_requests['DATETIMEINIT'].max()"
   ]
  },
  {
   "cell_type": "code",
   "execution_count": 35,
   "metadata": {},
   "outputs": [],
   "source": [
    "service_requests.loc[:, 'time_to_close'] = (service_requests['DATETIMECLOSED']\n",
    "                                            - service_requests['DATETIMEINIT']).astype('timedelta64[D]')"
   ]
  },
  {
   "cell_type": "code",
   "execution_count": 37,
   "metadata": {},
   "outputs": [
    {
     "data": {
      "text/plain": [
       "0    26.0\n",
       "1     1.0\n",
       "2    25.0\n",
       "3     1.0\n",
       "4     1.0\n",
       "Name: time_to_close, dtype: float64"
      ]
     },
     "execution_count": 37,
     "metadata": {},
     "output_type": "execute_result"
    }
   ],
   "source": [
    "service_requests.time_to_close.head()"
   ]
  },
  {
   "cell_type": "code",
   "execution_count": 38,
   "metadata": {
    "scrolled": false
   },
   "outputs": [
    {
     "data": {
      "text/html": [
       "<div>\n",
       "<style scoped>\n",
       "    .dataframe tbody tr th:only-of-type {\n",
       "        vertical-align: middle;\n",
       "    }\n",
       "\n",
       "    .dataframe tbody tr th {\n",
       "        vertical-align: top;\n",
       "    }\n",
       "\n",
       "    .dataframe thead th {\n",
       "        text-align: right;\n",
       "    }\n",
       "</style>\n",
       "<table border=\"1\" class=\"dataframe\">\n",
       "  <thead>\n",
       "    <tr style=\"text-align: right;\">\n",
       "      <th></th>\n",
       "      <th>REQUESTID</th>\n",
       "      <th>DATETIMEINIT</th>\n",
       "      <th>SOURCE</th>\n",
       "      <th>DESCRIPTION</th>\n",
       "      <th>REQCATEGORY</th>\n",
       "      <th>STATUS</th>\n",
       "      <th>DATETIMECLOSED</th>\n",
       "      <th>coordinates</th>\n",
       "      <th>time_to_close</th>\n",
       "    </tr>\n",
       "  </thead>\n",
       "  <tbody>\n",
       "    <tr>\n",
       "      <th>14107</th>\n",
       "      <td>312392</td>\n",
       "      <td>2009-08-11 09:47:50</td>\n",
       "      <td>Phone or Email</td>\n",
       "      <td>Streets - Street Deterioration</td>\n",
       "      <td>STREETSW</td>\n",
       "      <td>CLOSED</td>\n",
       "      <td>2016-06-23 19:04:35</td>\n",
       "      <td>(37.769321, -122.204457)</td>\n",
       "      <td>2508.0</td>\n",
       "    </tr>\n",
       "    <tr>\n",
       "      <th>72228</th>\n",
       "      <td>334963</td>\n",
       "      <td>2010-04-26 11:47:50</td>\n",
       "      <td>Phone or Email</td>\n",
       "      <td>Streets/Sidewalks - Curb &amp; Gutter Repair</td>\n",
       "      <td>STREETSW</td>\n",
       "      <td>CLOSED</td>\n",
       "      <td>2016-09-28 13:06:24</td>\n",
       "      <td>(37.77516, -122.188202)</td>\n",
       "      <td>2347.0</td>\n",
       "    </tr>\n",
       "    <tr>\n",
       "      <th>106570</th>\n",
       "      <td>348830</td>\n",
       "      <td>2010-09-29 11:46:21</td>\n",
       "      <td>Phone or Email</td>\n",
       "      <td>Streets - Potholes/Depression</td>\n",
       "      <td>STREETSW</td>\n",
       "      <td>CLOSED</td>\n",
       "      <td>2017-03-02 07:28:09</td>\n",
       "      <td>(37.733121, -122.182413)</td>\n",
       "      <td>2345.0</td>\n",
       "    </tr>\n",
       "    <tr>\n",
       "      <th>59970</th>\n",
       "      <td>332554</td>\n",
       "      <td>2010-03-25 13:15:55</td>\n",
       "      <td>Phone or Email</td>\n",
       "      <td>Streets/Sidewalks - Curb &amp; Gutter Repair</td>\n",
       "      <td>STREETSW</td>\n",
       "      <td>CLOSED</td>\n",
       "      <td>2016-06-23 19:04:13</td>\n",
       "      <td>(37.76707, -122.197959)</td>\n",
       "      <td>2282.0</td>\n",
       "    </tr>\n",
       "    <tr>\n",
       "      <th>129887</th>\n",
       "      <td>358194</td>\n",
       "      <td>2011-01-21 10:03:01</td>\n",
       "      <td>Website</td>\n",
       "      <td>Streets/Sidewalks - Curb &amp; Gutter Repair</td>\n",
       "      <td>STREETSW</td>\n",
       "      <td>CLOSED</td>\n",
       "      <td>2017-03-01 16:07:31</td>\n",
       "      <td>(37.795346, -122.240054)</td>\n",
       "      <td>2231.0</td>\n",
       "    </tr>\n",
       "    <tr>\n",
       "      <th>70072</th>\n",
       "      <td>310597</td>\n",
       "      <td>2009-07-20 14:30:13</td>\n",
       "      <td>Phone or Email</td>\n",
       "      <td>Streets - Street Deterioration</td>\n",
       "      <td>STREETSW</td>\n",
       "      <td>CLOSED</td>\n",
       "      <td>2015-08-07 09:53:33</td>\n",
       "      <td>(37.760431, -122.20228)</td>\n",
       "      <td>2208.0</td>\n",
       "    </tr>\n",
       "    <tr>\n",
       "      <th>142773</th>\n",
       "      <td>363354</td>\n",
       "      <td>2011-03-10 18:46:12</td>\n",
       "      <td>Website</td>\n",
       "      <td>Streets - Potholes/Depression</td>\n",
       "      <td>STREETSW</td>\n",
       "      <td>CLOSED</td>\n",
       "      <td>2017-03-02 07:18:36</td>\n",
       "      <td>(37.83034, -122.196609)</td>\n",
       "      <td>2183.0</td>\n",
       "    </tr>\n",
       "    <tr>\n",
       "      <th>250780</th>\n",
       "      <td>389922</td>\n",
       "      <td>2011-11-30 10:52:45</td>\n",
       "      <td>Phone or Email</td>\n",
       "      <td>Sidewalk - Damage</td>\n",
       "      <td>ROW</td>\n",
       "      <td>CLOSED</td>\n",
       "      <td>2017-10-26 15:42:42</td>\n",
       "      <td>(37.96319, -122.527325)</td>\n",
       "      <td>2157.0</td>\n",
       "    </tr>\n",
       "    <tr>\n",
       "      <th>16054</th>\n",
       "      <td>313730</td>\n",
       "      <td>2009-08-25 11:40:23</td>\n",
       "      <td>Phone or Email</td>\n",
       "      <td>Streets/Sidewalks Maintenance - General</td>\n",
       "      <td>STREETSW</td>\n",
       "      <td>CLOSED</td>\n",
       "      <td>2015-07-21 10:54:35</td>\n",
       "      <td>(37.773049, -122.190211)</td>\n",
       "      <td>2155.0</td>\n",
       "    </tr>\n",
       "    <tr>\n",
       "      <th>24126</th>\n",
       "      <td>317239</td>\n",
       "      <td>2009-10-02 09:08:41</td>\n",
       "      <td>Phone or Email</td>\n",
       "      <td>Sewers - Bad Odor</td>\n",
       "      <td>SEWERS</td>\n",
       "      <td>CLOSED</td>\n",
       "      <td>2015-08-21 10:06:01</td>\n",
       "      <td>(37.793371, -122.272094)</td>\n",
       "      <td>2149.0</td>\n",
       "    </tr>\n",
       "  </tbody>\n",
       "</table>\n",
       "</div>"
      ],
      "text/plain": [
       "        REQUESTID        DATETIMEINIT          SOURCE  \\\n",
       "14107      312392 2009-08-11 09:47:50  Phone or Email   \n",
       "72228      334963 2010-04-26 11:47:50  Phone or Email   \n",
       "106570     348830 2010-09-29 11:46:21  Phone or Email   \n",
       "59970      332554 2010-03-25 13:15:55  Phone or Email   \n",
       "129887     358194 2011-01-21 10:03:01         Website   \n",
       "70072      310597 2009-07-20 14:30:13  Phone or Email   \n",
       "142773     363354 2011-03-10 18:46:12         Website   \n",
       "250780     389922 2011-11-30 10:52:45  Phone or Email   \n",
       "16054      313730 2009-08-25 11:40:23  Phone or Email   \n",
       "24126      317239 2009-10-02 09:08:41  Phone or Email   \n",
       "\n",
       "                                     DESCRIPTION REQCATEGORY  STATUS  \\\n",
       "14107             Streets - Street Deterioration    STREETSW  CLOSED   \n",
       "72228   Streets/Sidewalks - Curb & Gutter Repair    STREETSW  CLOSED   \n",
       "106570             Streets - Potholes/Depression    STREETSW  CLOSED   \n",
       "59970   Streets/Sidewalks - Curb & Gutter Repair    STREETSW  CLOSED   \n",
       "129887  Streets/Sidewalks - Curb & Gutter Repair    STREETSW  CLOSED   \n",
       "70072             Streets - Street Deterioration    STREETSW  CLOSED   \n",
       "142773             Streets - Potholes/Depression    STREETSW  CLOSED   \n",
       "250780                         Sidewalk - Damage         ROW  CLOSED   \n",
       "16054    Streets/Sidewalks Maintenance - General    STREETSW  CLOSED   \n",
       "24126                          Sewers - Bad Odor      SEWERS  CLOSED   \n",
       "\n",
       "            DATETIMECLOSED               coordinates  time_to_close  \n",
       "14107  2016-06-23 19:04:35  (37.769321, -122.204457)         2508.0  \n",
       "72228  2016-09-28 13:06:24   (37.77516, -122.188202)         2347.0  \n",
       "106570 2017-03-02 07:28:09  (37.733121, -122.182413)         2345.0  \n",
       "59970  2016-06-23 19:04:13   (37.76707, -122.197959)         2282.0  \n",
       "129887 2017-03-01 16:07:31  (37.795346, -122.240054)         2231.0  \n",
       "70072  2015-08-07 09:53:33   (37.760431, -122.20228)         2208.0  \n",
       "142773 2017-03-02 07:18:36   (37.83034, -122.196609)         2183.0  \n",
       "250780 2017-10-26 15:42:42   (37.96319, -122.527325)         2157.0  \n",
       "16054  2015-07-21 10:54:35  (37.773049, -122.190211)         2155.0  \n",
       "24126  2015-08-21 10:06:01  (37.793371, -122.272094)         2149.0  "
      ]
     },
     "execution_count": 38,
     "metadata": {},
     "output_type": "execute_result"
    }
   ],
   "source": [
    "service_requests.sort_values(by='time_to_close', ascending=False).head(10)"
   ]
  },
  {
   "cell_type": "markdown",
   "metadata": {},
   "source": [
    "We see that sometimes it takes years to close these! However, these are just the ones that are still open. If a request had never been closed, its value for `DATETIMECLOSED` will be `NaT` (i.e., not a time). As a result, we probably want a variable that gives us the time since opening. To do this, we can find the difference in time from when this was downloaded and when the request was opened."
   ]
  },
  {
   "cell_type": "code",
   "execution_count": 44,
   "metadata": {},
   "outputs": [],
   "source": [
    "# This dataset was downloaded on 11 Dec. 2017\n",
    "t_0 = pd.datetime(2017, 12, 11)"
   ]
  },
  {
   "cell_type": "code",
   "execution_count": 45,
   "metadata": {},
   "outputs": [],
   "source": [
    "service_requests.loc[:, 'time_since_init'] = (t_0 - service_requests['DATETIMEINIT']).astype('timedelta64[D]')"
   ]
  },
  {
   "cell_type": "code",
   "execution_count": 46,
   "metadata": {},
   "outputs": [
    {
     "data": {
      "text/html": [
       "<div>\n",
       "<style scoped>\n",
       "    .dataframe tbody tr th:only-of-type {\n",
       "        vertical-align: middle;\n",
       "    }\n",
       "\n",
       "    .dataframe tbody tr th {\n",
       "        vertical-align: top;\n",
       "    }\n",
       "\n",
       "    .dataframe thead th {\n",
       "        text-align: right;\n",
       "    }\n",
       "</style>\n",
       "<table border=\"1\" class=\"dataframe\">\n",
       "  <thead>\n",
       "    <tr style=\"text-align: right;\">\n",
       "      <th></th>\n",
       "      <th>REQUESTID</th>\n",
       "      <th>DATETIMEINIT</th>\n",
       "      <th>SOURCE</th>\n",
       "      <th>DESCRIPTION</th>\n",
       "      <th>REQCATEGORY</th>\n",
       "      <th>STATUS</th>\n",
       "      <th>DATETIMECLOSED</th>\n",
       "      <th>coordinates</th>\n",
       "      <th>time_to_close</th>\n",
       "      <th>time_since_init</th>\n",
       "    </tr>\n",
       "  </thead>\n",
       "  <tbody>\n",
       "    <tr>\n",
       "      <th>0</th>\n",
       "      <td>21090</td>\n",
       "      <td>2009-07-01 10:24:19</td>\n",
       "      <td>Phone or Email</td>\n",
       "      <td>Yard Trimmings - Food Pail Request</td>\n",
       "      <td>RECYCLING</td>\n",
       "      <td>CLOSED</td>\n",
       "      <td>2009-07-27 11:34:09</td>\n",
       "      <td>(37.807708, -122.248339)</td>\n",
       "      <td>26.0</td>\n",
       "      <td>3084 days 13:35:41</td>\n",
       "    </tr>\n",
       "    <tr>\n",
       "      <th>1</th>\n",
       "      <td>21091</td>\n",
       "      <td>2009-07-01 11:14:09</td>\n",
       "      <td>Phone or Email</td>\n",
       "      <td>City Services - Missed Recycling</td>\n",
       "      <td>RECYCLING</td>\n",
       "      <td>CLOSED</td>\n",
       "      <td>2009-07-03 11:10:08</td>\n",
       "      <td>(37.809762, -122.259388)</td>\n",
       "      <td>1.0</td>\n",
       "      <td>3084 days 12:45:51</td>\n",
       "    </tr>\n",
       "    <tr>\n",
       "      <th>2</th>\n",
       "      <td>21092</td>\n",
       "      <td>2009-07-01 15:58:47</td>\n",
       "      <td>Phone or Email</td>\n",
       "      <td>Yard Trimmings Service Issue (Residential)</td>\n",
       "      <td>RECYCLING</td>\n",
       "      <td>CLOSED</td>\n",
       "      <td>2009-07-27 11:33:58</td>\n",
       "      <td>(37.755521, -122.175515)</td>\n",
       "      <td>25.0</td>\n",
       "      <td>3084 days 08:01:13</td>\n",
       "    </tr>\n",
       "    <tr>\n",
       "      <th>3</th>\n",
       "      <td>21093</td>\n",
       "      <td>2009-07-01 15:59:26</td>\n",
       "      <td>Phone or Email</td>\n",
       "      <td>Yard Trimmings - Cart Request</td>\n",
       "      <td>RECYCLING</td>\n",
       "      <td>CLOSED</td>\n",
       "      <td>2009-07-03 11:09:54</td>\n",
       "      <td>(37.868229, -122.243706)</td>\n",
       "      <td>1.0</td>\n",
       "      <td>3084 days 08:00:34</td>\n",
       "    </tr>\n",
       "    <tr>\n",
       "      <th>4</th>\n",
       "      <td>21094</td>\n",
       "      <td>2009-07-01 16:03:05</td>\n",
       "      <td>Phone or Email</td>\n",
       "      <td>Residential Recycling - Oil - Kit Request</td>\n",
       "      <td>RECYCLING</td>\n",
       "      <td>CLOSED</td>\n",
       "      <td>2009-07-03 14:30:07</td>\n",
       "      <td>(37.835057, -122.212352)</td>\n",
       "      <td>1.0</td>\n",
       "      <td>3084 days 07:56:55</td>\n",
       "    </tr>\n",
       "  </tbody>\n",
       "</table>\n",
       "</div>"
      ],
      "text/plain": [
       "   REQUESTID        DATETIMEINIT          SOURCE  \\\n",
       "0      21090 2009-07-01 10:24:19  Phone or Email   \n",
       "1      21091 2009-07-01 11:14:09  Phone or Email   \n",
       "2      21092 2009-07-01 15:58:47  Phone or Email   \n",
       "3      21093 2009-07-01 15:59:26  Phone or Email   \n",
       "4      21094 2009-07-01 16:03:05  Phone or Email   \n",
       "\n",
       "                                  DESCRIPTION REQCATEGORY  STATUS  \\\n",
       "0          Yard Trimmings - Food Pail Request   RECYCLING  CLOSED   \n",
       "1            City Services - Missed Recycling   RECYCLING  CLOSED   \n",
       "2  Yard Trimmings Service Issue (Residential)   RECYCLING  CLOSED   \n",
       "3               Yard Trimmings - Cart Request   RECYCLING  CLOSED   \n",
       "4   Residential Recycling - Oil - Kit Request   RECYCLING  CLOSED   \n",
       "\n",
       "       DATETIMECLOSED               coordinates  time_to_close  \\\n",
       "0 2009-07-27 11:34:09  (37.807708, -122.248339)           26.0   \n",
       "1 2009-07-03 11:10:08  (37.809762, -122.259388)            1.0   \n",
       "2 2009-07-27 11:33:58  (37.755521, -122.175515)           25.0   \n",
       "3 2009-07-03 11:09:54  (37.868229, -122.243706)            1.0   \n",
       "4 2009-07-03 14:30:07  (37.835057, -122.212352)            1.0   \n",
       "\n",
       "     time_since_init  \n",
       "0 3084 days 13:35:41  \n",
       "1 3084 days 12:45:51  \n",
       "2 3084 days 08:01:13  \n",
       "3 3084 days 08:00:34  \n",
       "4 3084 days 07:56:55  "
      ]
     },
     "execution_count": 46,
     "metadata": {},
     "output_type": "execute_result"
    }
   ],
   "source": [
    "service_requests.head()"
   ]
  },
  {
   "cell_type": "markdown",
   "metadata": {},
   "source": [
    "We are in a good state to run further analyses on these data. Let's save it for further inspection:"
   ]
  },
  {
   "cell_type": "code",
   "execution_count": 47,
   "metadata": {},
   "outputs": [],
   "source": [
    "RESULTSDIR = '../results/'\n",
    "if not os.path.exists(RESULTSDIR):\n",
    "    os.mkdir(RESULTSDIR)"
   ]
  },
  {
   "cell_type": "code",
   "execution_count": 50,
   "metadata": {},
   "outputs": [
    {
     "name": "stderr",
     "output_type": "stream",
     "text": [
      "/Users/kjbilton/Installs/miniconda2/envs/oakland/lib/python3.6/site-packages/pandas/core/generic.py:1471: PerformanceWarning: \n",
      "your performance may suffer as PyTables will pickle object types that it cannot\n",
      "map directly to c-types [inferred_type->mixed,key->block2_values] [items->['SOURCE', 'DESCRIPTION', 'REQCATEGORY', 'STATUS', 'coordinates']]\n",
      "\n",
      "  return pytables.to_hdf(path_or_buf, key, self, **kwargs)\n"
     ]
    }
   ],
   "source": [
    "service_requests.to_hdf(RESULTSDIR + '01-service_requests.h5', 'service_requests')"
   ]
  },
  {
   "cell_type": "markdown",
   "metadata": {},
   "source": [
    "## 3. Residential areas within 300 feet of industrial zones\n",
    "- A GeoJSON file classifying the areas in Oakland into neighborhoods was pulled from https://data.oaklandnet.com/Economic-Development/Residential-Zones-300-ft-of-Industrial-Areas/d3re-jdqr on 22/11/17.\n",
    "- The downloaded file was renamed, replacing spaces with underscores, and setting all letters to lowercase for convenience.\n",
    "\n",
    "Let's read in this GeoJSON file:"
   ]
  },
  {
   "cell_type": "code",
   "execution_count": 103,
   "metadata": {},
   "outputs": [],
   "source": [
    "residential_industrial = gpd.read_file(DATADIR + 'residential_zones_300_ft_of_industrial_areas.geojson')"
   ]
  },
  {
   "cell_type": "code",
   "execution_count": 104,
   "metadata": {},
   "outputs": [
    {
     "data": {
      "text/html": [
       "<div>\n",
       "<style scoped>\n",
       "    .dataframe tbody tr th:only-of-type {\n",
       "        vertical-align: middle;\n",
       "    }\n",
       "\n",
       "    .dataframe tbody tr th {\n",
       "        vertical-align: top;\n",
       "    }\n",
       "\n",
       "    .dataframe thead th {\n",
       "        text-align: right;\n",
       "    }\n",
       "</style>\n",
       "<table border=\"1\" class=\"dataframe\">\n",
       "  <thead>\n",
       "    <tr style=\"text-align: right;\">\n",
       "      <th></th>\n",
       "      <th>area</th>\n",
       "      <th>fid_indust</th>\n",
       "      <th>basezone</th>\n",
       "      <th>perimeter</th>\n",
       "      <th>znlabel</th>\n",
       "      <th>overlay</th>\n",
       "      <th>lastupdate</th>\n",
       "      <th>id</th>\n",
       "      <th>fid_reside</th>\n",
       "      <th>ordinance</th>\n",
       "      <th>geometry</th>\n",
       "    </tr>\n",
       "  </thead>\n",
       "  <tbody>\n",
       "    <tr>\n",
       "      <th>0</th>\n",
       "      <td>165781.541327</td>\n",
       "      <td>0</td>\n",
       "      <td>RM-1</td>\n",
       "      <td>1726.61174</td>\n",
       "      <td>RM-1</td>\n",
       "      <td></td>\n",
       "      <td>20150108</td>\n",
       "      <td>0</td>\n",
       "      <td>0</td>\n",
       "      <td></td>\n",
       "      <td>(POLYGON ((-122.1749871795865 37.7318118929050...</td>\n",
       "    </tr>\n",
       "    <tr>\n",
       "      <th>1</th>\n",
       "      <td>31291.800394</td>\n",
       "      <td>0</td>\n",
       "      <td>RM-3</td>\n",
       "      <td>831.336232</td>\n",
       "      <td>RM-3</td>\n",
       "      <td></td>\n",
       "      <td>20150108</td>\n",
       "      <td>0</td>\n",
       "      <td>1</td>\n",
       "      <td></td>\n",
       "      <td>(POLYGON ((-122.1865568615996 37.7372242278911...</td>\n",
       "    </tr>\n",
       "    <tr>\n",
       "      <th>2</th>\n",
       "      <td>41449.399938</td>\n",
       "      <td>0</td>\n",
       "      <td>RM-4</td>\n",
       "      <td>916.621191</td>\n",
       "      <td>RM-4</td>\n",
       "      <td></td>\n",
       "      <td>20150108</td>\n",
       "      <td>0</td>\n",
       "      <td>3</td>\n",
       "      <td></td>\n",
       "      <td>(POLYGON ((-122.186420524489 37.73760424195443...</td>\n",
       "    </tr>\n",
       "    <tr>\n",
       "      <th>3</th>\n",
       "      <td>18517341.381599</td>\n",
       "      <td>0</td>\n",
       "      <td>RD-1</td>\n",
       "      <td>29878.462383</td>\n",
       "      <td>RD-1</td>\n",
       "      <td></td>\n",
       "      <td>20150108</td>\n",
       "      <td>0</td>\n",
       "      <td>6</td>\n",
       "      <td></td>\n",
       "      <td>(POLYGON ((-122.1909303995534 37.7376543702245...</td>\n",
       "    </tr>\n",
       "    <tr>\n",
       "      <th>4</th>\n",
       "      <td>4290422.952443</td>\n",
       "      <td>0</td>\n",
       "      <td>RD-1</td>\n",
       "      <td>11371.141784</td>\n",
       "      <td>RD-1</td>\n",
       "      <td></td>\n",
       "      <td>20150108</td>\n",
       "      <td>0</td>\n",
       "      <td>8</td>\n",
       "      <td></td>\n",
       "      <td>(POLYGON ((-122.1749888306131 37.7392570579501...</td>\n",
       "    </tr>\n",
       "  </tbody>\n",
       "</table>\n",
       "</div>"
      ],
      "text/plain": [
       "              area fid_indust basezone     perimeter znlabel overlay  \\\n",
       "0    165781.541327          0     RM-1    1726.61174    RM-1           \n",
       "1     31291.800394          0     RM-3    831.336232    RM-3           \n",
       "2     41449.399938          0     RM-4    916.621191    RM-4           \n",
       "3  18517341.381599          0     RD-1  29878.462383    RD-1           \n",
       "4   4290422.952443          0     RD-1  11371.141784    RD-1           \n",
       "\n",
       "  lastupdate id fid_reside ordinance  \\\n",
       "0   20150108  0          0             \n",
       "1   20150108  0          1             \n",
       "2   20150108  0          3             \n",
       "3   20150108  0          6             \n",
       "4   20150108  0          8             \n",
       "\n",
       "                                            geometry  \n",
       "0  (POLYGON ((-122.1749871795865 37.7318118929050...  \n",
       "1  (POLYGON ((-122.1865568615996 37.7372242278911...  \n",
       "2  (POLYGON ((-122.186420524489 37.73760424195443...  \n",
       "3  (POLYGON ((-122.1909303995534 37.7376543702245...  \n",
       "4  (POLYGON ((-122.1749888306131 37.7392570579501...  "
      ]
     },
     "execution_count": 104,
     "metadata": {},
     "output_type": "execute_result"
    }
   ],
   "source": [
    "residential_industrial.head()"
   ]
  },
  {
   "cell_type": "markdown",
   "metadata": {},
   "source": [
    "Let's overlay these zones on the neighborhood map:"
   ]
  },
  {
   "cell_type": "code",
   "execution_count": 108,
   "metadata": {},
   "outputs": [
    {
     "data": {
      "image/png": "[encoded data removed]",
      "text/plain": [
       "<matplotlib.figure.Figure at 0x11cd739b0>"
      ]
     },
     "execution_count": 108,
     "metadata": {},
     "output_type": "execute_result"
    },
    {
     "data": {
      "text/plain": [
       "<matplotlib.figure.Figure at 0x109157a58>"
      ]
     },
     "metadata": {},
     "output_type": "display_data"
    }
   ],
   "source": [
    "residential_industrial.plot(color='r', ax=ax);\n",
    "f"
   ]
  },
  {
   "cell_type": "markdown",
   "metadata": {},
   "source": [
    "This shows residential areas, within the blue neighborhoods, that are close (less than 300 feet!) to industrial zones. This will be of particular interest when considering air quality data."
   ]
  },
  {
   "cell_type": "markdown",
   "metadata": {},
   "source": [
    "## 4. Crime data\n",
    "- Below we read in crimes reported to the Oakland Police Department in the 90 days prior to it's download (on 27 November)."
   ]
  },
  {
   "cell_type": "code",
   "execution_count": null,
   "metadata": {},
   "outputs": [],
   "source": [
    "crime = pd.read_csv(DATADIR + 'CrimeWatch_Maps_Past_90-Days.csv')"
   ]
  },
  {
   "cell_type": "code",
   "execution_count": null,
   "metadata": {},
   "outputs": [],
   "source": [
    "crime.head()"
   ]
  },
  {
   "cell_type": "markdown",
   "metadata": {},
   "source": [
    "Let's drop `POLICEBEAT`, `ADDRESS`, `CITY`, and `STATE` since we won't need those. As before, we can pull the geolocation in terms of latitude and longitude from `Location`."
   ]
  },
  {
   "cell_type": "code",
   "execution_count": null,
   "metadata": {},
   "outputs": [],
   "source": [
    "crime.drop(['POLICEBEAT', 'ADDRESS', 'CITY', 'STATE'], axis=1, inplace=True)"
   ]
  },
  {
   "cell_type": "code",
   "execution_count": null,
   "metadata": {},
   "outputs": [],
   "source": [
    "crime.head()"
   ]
  },
  {
   "cell_type": "code",
   "execution_count": null,
   "metadata": {},
   "outputs": [],
   "source": [
    "crime['coordinates'] = crime['Location'].apply(get_coords)"
   ]
  },
  {
   "cell_type": "code",
   "execution_count": null,
   "metadata": {},
   "outputs": [],
   "source": [
    "crime.head()"
   ]
  },
  {
   "cell_type": "markdown",
   "metadata": {},
   "source": [
    "Neat. Let's save this to use HDF5 for later use."
   ]
  },
  {
   "cell_type": "code",
   "execution_count": null,
   "metadata": {},
   "outputs": [],
   "source": [
    "crime.to_hdf(RESULTSDIR + '01-crime.h5', 'crime')"
   ]
  },
  {
   "cell_type": "markdown",
   "metadata": {},
   "source": [
    "## 5. Oakland Air Quality Data\n",
    "This is the centerpiece of the following analyses, so let's check this out first. It's in an excel spreadsheet file with multiple worksheets, so let's read all of those separately."
   ]
  },
  {
   "cell_type": "code",
   "execution_count": null,
   "metadata": {},
   "outputs": [],
   "source": [
    "air_quality_xlsx = pd.ExcelFile(DATADIR + 'Data_Delivery_EDF_AQ_Team_20170515.xlsx')"
   ]
  },
  {
   "cell_type": "code",
   "execution_count": null,
   "metadata": {},
   "outputs": [],
   "source": [
    "air_quality_xlsx.sheet_names"
   ]
  },
  {
   "cell_type": "markdown",
   "metadata": {},
   "source": [
    "We have separate sheets for West Oakland, Downtown, East Oakland, and near Highways. For convenience, I can load all of these into a single DataFrame and add a column which represents which region the data are coming from. The reason for doing this is that it can ensure that we perform the same operations on all data."
   ]
  },
  {
   "cell_type": "code",
   "execution_count": null,
   "metadata": {},
   "outputs": [],
   "source": [
    "air_quality = pd.DataFrame()\n",
    "\n",
    "for region in air_quality_xlsx.sheet_names:\n",
    "    # Create a temporary DataFrame\n",
    "    df = air_quality_xlsx.parse(region)\n",
    "    \n",
    "    # Drop the Terms_of_Use column. Note that this is included in the root README.md. Please read this if you\n",
    "    # are going to use the data further.\n",
    "    df.drop(columns='Terms_of_Use', inplace=True)\n",
    "    \n",
    "    # Add the region to this DataFrame\n",
    "    df['region'] = region\n",
    "    \n",
    "    # Now add this to a single large DataFrame\n",
    "    air_quality = air_quality.append(df)"
   ]
  },
  {
   "cell_type": "markdown",
   "metadata": {},
   "source": [
    "Let's take a look at the resulting DataFrame:"
   ]
  },
  {
   "cell_type": "code",
   "execution_count": null,
   "metadata": {},
   "outputs": [],
   "source": [
    "display(air_quality.head())\n",
    "display(air_quality.tail())"
   ]
  },
  {
   "cell_type": "markdown",
   "metadata": {},
   "source": [
    "This DataFrame yields the latitude,  longitude, and the measured value of particular pollutants in various regions around Oakland. The values for pollutant concentrations have been aggregated over many measurements under various conditions to ideally prevent from biasing towards ephemeral environmental conditions."
   ]
  },
  {
   "cell_type": "code",
   "execution_count": null,
   "metadata": {},
   "outputs": [],
   "source": [
    "air_quality.describe()"
   ]
  },
  {
   "cell_type": "markdown",
   "metadata": {},
   "source": [
    "Let's save this to our results directory for further use:"
   ]
  },
  {
   "cell_type": "code",
   "execution_count": null,
   "metadata": {},
   "outputs": [],
   "source": [
    "air_quality.to_hdf(RESULTSDIR + '01-air_quality.h5', 'air_quality')"
   ]
  }
 ],
 "metadata": {
  "kernelspec": {
   "display_name": "Python [conda env:oakland]",
   "language": "python",
   "name": "conda-env-oakland-py"
  },
  "language_info": {
   "codemirror_mode": {
    "name": "ipython",
    "version": 3
   },
   "file_extension": ".py",
   "mimetype": "text/x-python",
   "name": "python",
   "nbconvert_exporter": "python",
   "pygments_lexer": "ipython3",
   "version": "3.6.3"
  }
 },
 "nbformat": 4,
 "nbformat_minor": 2
}
