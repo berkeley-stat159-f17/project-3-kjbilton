{
 "cells": [
  {
   "cell_type": "markdown",
   "metadata": {},
   "source": [
    "## TODO\n",
    "1. Speed up to_datetime calls\n",
    "1. Saved mapped dataframes to file\n",
    "1. Crime data\n",
    "1. Fix mapping\n",
    "    - Cartopy?"
   ]
  },
  {
   "cell_type": "markdown",
   "metadata": {},
   "source": [
    "# Data Cleaning\n",
    "## Overview\n",
    "- Load in data used in the analyses\n",
    "- Understand the structure, granularity, and quality of the data\n",
    "- Clean up the data for further inspection\n",
    "\n",
    "## Datasets\n",
    "1. Oakland air quality data\n",
    "1. Oakland neighborhoods\n",
    "    - GeoJSON format data to plot different neighborhoods in Oakland. The idea here is to be able to aggregate any values of interest (e.g., air quality) by easily-identifiable neighborhoods.\n",
    "1. Residential zones within 300 feet of industrial zones.\n",
    "    - GeoJSON data that shows areas in which residents live very close to industrial zones. The purpose for doing this is that we expect to see increased pollution levels near these zones.\n",
    "1. Oakland city service requests\n",
    "    - CSV file containing requests (e.g., potholes, illegal dumping, etc.) from residents."
   ]
  },
  {
   "cell_type": "code",
   "execution_count": 1,
   "metadata": {},
   "outputs": [],
   "source": [
    "# Standard tools for data analysis\n",
    "import numpy as np\n",
    "import pandas as pd\n",
    "import matplotlib.pyplot as plt\n",
    "import seaborn as sns\n",
    "\n",
    "# Tools specific for geospatial data analysis\n",
    "from shapely.geometry import shape, mapping, Point, Polygon\n",
    "import geopandas as gpd\n",
    "import geojsonio\n",
    "\n",
    "# Tools from the Python Standard Library\n",
    "import os\n",
    "import re\n",
    "\n",
    "from IPython.display import display\n",
    "%matplotlib inline\n",
    "plt.rcParams['figure.figsize'] = (10, 6)"
   ]
  },
  {
   "cell_type": "markdown",
   "metadata": {},
   "source": [
    "First, let's take a look at files that are available:"
   ]
  },
  {
   "cell_type": "code",
   "execution_count": 2,
   "metadata": {},
   "outputs": [
    {
     "name": "stdout",
     "output_type": "stream",
     "text": [
      "CrimeWatch_Maps_Past_90-Days.csv\r\n",
      "Data_Delivery_EDF_AQ_Team_20170515.xlsx\r\n",
      "Service_requests_received_by_the_Oakland_Call_Center.csv\r\n",
      "oakland_neighborhoods.geojson\r\n",
      "residential_zones_300_ft_of_industrial_areas.geojson\r\n"
     ]
    }
   ],
   "source": [
    "DATADIR = '../data/'\n",
    "!ls $DATADIR"
   ]
  },
  {
   "cell_type": "markdown",
   "metadata": {},
   "source": [
    "## 1. Oakland Air Quality Data\n",
    "This is the centerpiece of the following analyses, so let's check this out first. It's in an excel spreadsheet file with multiple worksheets, so let's read all of those separately."
   ]
  },
  {
   "cell_type": "code",
   "execution_count": 4,
   "metadata": {},
   "outputs": [],
   "source": [
    "air_quality_xlsx = pd.ExcelFile(DATADIR + 'Data_Delivery_EDF_AQ_Team_20170515.xlsx')"
   ]
  },
  {
   "cell_type": "code",
   "execution_count": 5,
   "metadata": {},
   "outputs": [
    {
     "data": {
      "text/plain": [
       "['WestOak', 'Downtown', 'EastOak', 'Highways']"
      ]
     },
     "execution_count": 5,
     "metadata": {},
     "output_type": "execute_result"
    }
   ],
   "source": [
    "air_quality_xlsx.sheet_names"
   ]
  },
  {
   "cell_type": "markdown",
   "metadata": {},
   "source": [
    "We have separate sheets for West Oakland, Downtown, East Oakland, and near Highways. For convenience, I can load all of these into a single DataFrame and add a column which represents which region the data are coming from. The reason for doing this is that it can ensure that we perform the same operations on all data."
   ]
  },
  {
   "cell_type": "code",
   "execution_count": 6,
   "metadata": {},
   "outputs": [],
   "source": [
    "air_quality = pd.DataFrame()\n",
    "\n",
    "for region in air_quality_xlsx.sheet_names:\n",
    "    # Create a temporary DataFrame\n",
    "    df = air_quality_xlsx.parse(region)\n",
    "    \n",
    "    # Drop the Terms_of_Use column. Note that this is included in the root README.md. Please read this if you\n",
    "    # are going to use the data further.\n",
    "    df.drop(columns='Terms_of_Use', inplace=True)\n",
    "    \n",
    "    # Add the region to this DataFrame\n",
    "    df['region'] = region\n",
    "    \n",
    "    # Now add this to a single large DataFrame\n",
    "    air_quality = air_quality.append(df)"
   ]
  },
  {
   "cell_type": "markdown",
   "metadata": {},
   "source": [
    "Let's take a look at the resulting DataFrame:"
   ]
  },
  {
   "cell_type": "code",
   "execution_count": 7,
   "metadata": {},
   "outputs": [
    {
     "data": {
      "text/html": [
       "<div>\n",
       "<style scoped>\n",
       "    .dataframe tbody tr th:only-of-type {\n",
       "        vertical-align: middle;\n",
       "    }\n",
       "\n",
       "    .dataframe tbody tr th {\n",
       "        vertical-align: top;\n",
       "    }\n",
       "\n",
       "    .dataframe thead th {\n",
       "        text-align: right;\n",
       "    }\n",
       "</style>\n",
       "<table border=\"1\" class=\"dataframe\">\n",
       "  <thead>\n",
       "    <tr style=\"text-align: right;\">\n",
       "      <th></th>\n",
       "      <th>Longitude</th>\n",
       "      <th>Latitude</th>\n",
       "      <th>Value</th>\n",
       "      <th>Pollutant</th>\n",
       "      <th>region</th>\n",
       "    </tr>\n",
       "  </thead>\n",
       "  <tbody>\n",
       "    <tr>\n",
       "      <th>0</th>\n",
       "      <td>-122.322594</td>\n",
       "      <td>37.806781</td>\n",
       "      <td>24.000000</td>\n",
       "      <td>NO</td>\n",
       "      <td>WestOak</td>\n",
       "    </tr>\n",
       "    <tr>\n",
       "      <th>1</th>\n",
       "      <td>-122.322310</td>\n",
       "      <td>37.806150</td>\n",
       "      <td>19.775000</td>\n",
       "      <td>NO</td>\n",
       "      <td>WestOak</td>\n",
       "    </tr>\n",
       "    <tr>\n",
       "      <th>2</th>\n",
       "      <td>-122.322301</td>\n",
       "      <td>37.806420</td>\n",
       "      <td>19.974999</td>\n",
       "      <td>NO</td>\n",
       "      <td>WestOak</td>\n",
       "    </tr>\n",
       "    <tr>\n",
       "      <th>3</th>\n",
       "      <td>-122.322299</td>\n",
       "      <td>37.805880</td>\n",
       "      <td>15.208696</td>\n",
       "      <td>NO</td>\n",
       "      <td>WestOak</td>\n",
       "    </tr>\n",
       "    <tr>\n",
       "      <th>4</th>\n",
       "      <td>-122.322267</td>\n",
       "      <td>37.806689</td>\n",
       "      <td>26.887681</td>\n",
       "      <td>NO</td>\n",
       "      <td>WestOak</td>\n",
       "    </tr>\n",
       "  </tbody>\n",
       "</table>\n",
       "</div>"
      ],
      "text/plain": [
       "    Longitude   Latitude      Value Pollutant   region\n",
       "0 -122.322594  37.806781  24.000000        NO  WestOak\n",
       "1 -122.322310  37.806150  19.775000        NO  WestOak\n",
       "2 -122.322301  37.806420  19.974999        NO  WestOak\n",
       "3 -122.322299  37.805880  15.208696        NO  WestOak\n",
       "4 -122.322267  37.806689  26.887681        NO  WestOak"
      ]
     },
     "metadata": {},
     "output_type": "display_data"
    },
    {
     "data": {
      "text/html": [
       "<div>\n",
       "<style scoped>\n",
       "    .dataframe tbody tr th:only-of-type {\n",
       "        vertical-align: middle;\n",
       "    }\n",
       "\n",
       "    .dataframe tbody tr th {\n",
       "        vertical-align: top;\n",
       "    }\n",
       "\n",
       "    .dataframe thead th {\n",
       "        text-align: right;\n",
       "    }\n",
       "</style>\n",
       "<table border=\"1\" class=\"dataframe\">\n",
       "  <thead>\n",
       "    <tr style=\"text-align: right;\">\n",
       "      <th></th>\n",
       "      <th>Longitude</th>\n",
       "      <th>Latitude</th>\n",
       "      <th>Value</th>\n",
       "      <th>Pollutant</th>\n",
       "      <th>region</th>\n",
       "    </tr>\n",
       "  </thead>\n",
       "  <tbody>\n",
       "    <tr>\n",
       "      <th>18202</th>\n",
       "      <td>-122.034943</td>\n",
       "      <td>37.560076</td>\n",
       "      <td>3.923761</td>\n",
       "      <td>BC</td>\n",
       "      <td>Highways</td>\n",
       "    </tr>\n",
       "    <tr>\n",
       "      <th>18203</th>\n",
       "      <td>-122.034724</td>\n",
       "      <td>37.560164</td>\n",
       "      <td>2.133266</td>\n",
       "      <td>BC</td>\n",
       "      <td>Highways</td>\n",
       "    </tr>\n",
       "    <tr>\n",
       "      <th>18204</th>\n",
       "      <td>-122.034681</td>\n",
       "      <td>37.559830</td>\n",
       "      <td>2.659885</td>\n",
       "      <td>BC</td>\n",
       "      <td>Highways</td>\n",
       "    </tr>\n",
       "    <tr>\n",
       "      <th>18205</th>\n",
       "      <td>-122.034504</td>\n",
       "      <td>37.559958</td>\n",
       "      <td>1.888058</td>\n",
       "      <td>BC</td>\n",
       "      <td>Highways</td>\n",
       "    </tr>\n",
       "    <tr>\n",
       "      <th>18206</th>\n",
       "      <td>-122.034503</td>\n",
       "      <td>37.559957</td>\n",
       "      <td>2.117248</td>\n",
       "      <td>BC</td>\n",
       "      <td>Highways</td>\n",
       "    </tr>\n",
       "  </tbody>\n",
       "</table>\n",
       "</div>"
      ],
      "text/plain": [
       "        Longitude   Latitude     Value Pollutant    region\n",
       "18202 -122.034943  37.560076  3.923761        BC  Highways\n",
       "18203 -122.034724  37.560164  2.133266        BC  Highways\n",
       "18204 -122.034681  37.559830  2.659885        BC  Highways\n",
       "18205 -122.034504  37.559958  1.888058        BC  Highways\n",
       "18206 -122.034503  37.559957  2.117248        BC  Highways"
      ]
     },
     "metadata": {},
     "output_type": "display_data"
    }
   ],
   "source": [
    "display(air_quality.head())\n",
    "display(air_quality.tail())"
   ]
  },
  {
   "cell_type": "markdown",
   "metadata": {},
   "source": [
    "This DataFrame yields the latitude,  longitude, and the measured value of particular pollutants in various regions around Oakland. The values for pollutant concentrations have been aggregated over many measurements under various conditions to ideally prevent from biasing towards ephemeral environmental conditions."
   ]
  },
  {
   "cell_type": "code",
   "execution_count": 8,
   "metadata": {},
   "outputs": [
    {
     "data": {
      "text/html": [
       "<div>\n",
       "<style scoped>\n",
       "    .dataframe tbody tr th:only-of-type {\n",
       "        vertical-align: middle;\n",
       "    }\n",
       "\n",
       "    .dataframe tbody tr th {\n",
       "        vertical-align: top;\n",
       "    }\n",
       "\n",
       "    .dataframe thead th {\n",
       "        text-align: right;\n",
       "    }\n",
       "</style>\n",
       "<table border=\"1\" class=\"dataframe\">\n",
       "  <thead>\n",
       "    <tr style=\"text-align: right;\">\n",
       "      <th></th>\n",
       "      <th>Longitude</th>\n",
       "      <th>Latitude</th>\n",
       "      <th>Value</th>\n",
       "    </tr>\n",
       "  </thead>\n",
       "  <tbody>\n",
       "    <tr>\n",
       "      <th>count</th>\n",
       "      <td>68547.000000</td>\n",
       "      <td>68547.000000</td>\n",
       "      <td>68547.000000</td>\n",
       "    </tr>\n",
       "    <tr>\n",
       "      <th>mean</th>\n",
       "      <td>-122.216190</td>\n",
       "      <td>37.769863</td>\n",
       "      <td>13.229003</td>\n",
       "    </tr>\n",
       "    <tr>\n",
       "      <th>std</th>\n",
       "      <td>0.065577</td>\n",
       "      <td>0.051888</td>\n",
       "      <td>17.843548</td>\n",
       "    </tr>\n",
       "    <tr>\n",
       "      <th>min</th>\n",
       "      <td>-122.322594</td>\n",
       "      <td>37.559830</td>\n",
       "      <td>-0.669949</td>\n",
       "    </tr>\n",
       "    <tr>\n",
       "      <th>25%</th>\n",
       "      <td>-122.276867</td>\n",
       "      <td>37.745058</td>\n",
       "      <td>0.958451</td>\n",
       "    </tr>\n",
       "    <tr>\n",
       "      <th>50%</th>\n",
       "      <td>-122.200047</td>\n",
       "      <td>37.775018</td>\n",
       "      <td>6.827747</td>\n",
       "    </tr>\n",
       "    <tr>\n",
       "      <th>75%</th>\n",
       "      <td>-122.167626</td>\n",
       "      <td>37.809773</td>\n",
       "      <td>18.739774</td>\n",
       "    </tr>\n",
       "    <tr>\n",
       "      <th>max</th>\n",
       "      <td>-122.034503</td>\n",
       "      <td>37.837491</td>\n",
       "      <td>758.456155</td>\n",
       "    </tr>\n",
       "  </tbody>\n",
       "</table>\n",
       "</div>"
      ],
      "text/plain": [
       "          Longitude      Latitude         Value\n",
       "count  68547.000000  68547.000000  68547.000000\n",
       "mean    -122.216190     37.769863     13.229003\n",
       "std        0.065577      0.051888     17.843548\n",
       "min     -122.322594     37.559830     -0.669949\n",
       "25%     -122.276867     37.745058      0.958451\n",
       "50%     -122.200047     37.775018      6.827747\n",
       "75%     -122.167626     37.809773     18.739774\n",
       "max     -122.034503     37.837491    758.456155"
      ]
     },
     "execution_count": 8,
     "metadata": {},
     "output_type": "execute_result"
    }
   ],
   "source": [
    "air_quality.describe()"
   ]
  },
  {
   "cell_type": "markdown",
   "metadata": {},
   "source": [
    "Let's save this to our results directory for further use:"
   ]
  },
  {
   "cell_type": "code",
   "execution_count": 17,
   "metadata": {},
   "outputs": [],
   "source": [
    "RESULTSDIR = '../results/'\n",
    "if not os.path.exists(RESULTSDIR):\n",
    "    os.mkdir(RESULTSDIR)\n",
    "\n",
    "air_quality.to_hdf(RESULTSDIR + '01-air_quality.h5', 'air_quality')"
   ]
  },
  {
   "cell_type": "markdown",
   "metadata": {},
   "source": [
    "## 2. Oakland neighborhood classification\n",
    "- A GeoJSON file classifying the areas in Oakland into neighborhoods was pulled from https://data.oaklandnet.com/Property/Oakland-Neighborhoods/7zky-kcq9 on 22/11/17.\n",
    "- The downloaded file was renamed, replacing spaces with underscores, and setting all letters to lowercase for convenience.\n",
    "\n",
    "Let's read in this GeoJSON file:\n",
    "\n",
    "### Note\n",
    "It wasn't trivial to get this working! I spent quite some time hacking to get this to come out right (ultimately, it just came down to finding the right versions to use). Reading GeoJSON into Geopandas DataFrames should be straightforward, but I was met with quite a few errors. After doing some tracking, I found that the right combination was using installing `shapely` and `geopandas` from `pip` instead of `conda-forge`."
   ]
  },
  {
   "cell_type": "code",
   "execution_count": 3,
   "metadata": {},
   "outputs": [],
   "source": [
    "neighborhoods = gpd.read_file(DATADIR + 'oakland_neighborhoods.geojson')"
   ]
  },
  {
   "cell_type": "code",
   "execution_count": 4,
   "metadata": {},
   "outputs": [
    {
     "data": {
      "text/html": [
       "<div>\n",
       "<style scoped>\n",
       "    .dataframe tbody tr th:only-of-type {\n",
       "        vertical-align: middle;\n",
       "    }\n",
       "\n",
       "    .dataframe tbody tr th {\n",
       "        vertical-align: top;\n",
       "    }\n",
       "\n",
       "    .dataframe thead th {\n",
       "        text-align: right;\n",
       "    }\n",
       "</style>\n",
       "<table border=\"1\" class=\"dataframe\">\n",
       "  <thead>\n",
       "    <tr style=\"text-align: right;\">\n",
       "      <th></th>\n",
       "      <th>name</th>\n",
       "      <th>description</th>\n",
       "      <th>geometry</th>\n",
       "    </tr>\n",
       "  </thead>\n",
       "  <tbody>\n",
       "    <tr>\n",
       "      <th>0</th>\n",
       "      <td>Acorn/ Acorn Industrial</td>\n",
       "      <td></td>\n",
       "      <td>POINT (-122.308714010677 37.802146145243)</td>\n",
       "    </tr>\n",
       "    <tr>\n",
       "      <th>1</th>\n",
       "      <td>Adams Point</td>\n",
       "      <td></td>\n",
       "      <td>POINT (-122.254661526017 37.8121177617939)</td>\n",
       "    </tr>\n",
       "    <tr>\n",
       "      <th>2</th>\n",
       "      <td>Allendale</td>\n",
       "      <td></td>\n",
       "      <td>POINT (-122.203566466228 37.7871405525981)</td>\n",
       "    </tr>\n",
       "    <tr>\n",
       "      <th>3</th>\n",
       "      <td>Arroyo Viejo</td>\n",
       "      <td></td>\n",
       "      <td>POINT (-122.178464360722 37.7600613799457)</td>\n",
       "    </tr>\n",
       "    <tr>\n",
       "      <th>4</th>\n",
       "      <td>Bancroft Business/ Havenscourt</td>\n",
       "      <td></td>\n",
       "      <td>POINT (-122.184941350471 37.7669285553085)</td>\n",
       "    </tr>\n",
       "  </tbody>\n",
       "</table>\n",
       "</div>"
      ],
      "text/plain": [
       "                             name description  \\\n",
       "0         Acorn/ Acorn Industrial               \n",
       "1                     Adams Point               \n",
       "2                       Allendale               \n",
       "3                    Arroyo Viejo               \n",
       "4  Bancroft Business/ Havenscourt               \n",
       "\n",
       "                                     geometry  \n",
       "0   POINT (-122.308714010677 37.802146145243)  \n",
       "1  POINT (-122.254661526017 37.8121177617939)  \n",
       "2  POINT (-122.203566466228 37.7871405525981)  \n",
       "3  POINT (-122.178464360722 37.7600613799457)  \n",
       "4  POINT (-122.184941350471 37.7669285553085)  "
      ]
     },
     "metadata": {},
     "output_type": "display_data"
    },
    {
     "data": {
      "text/html": [
       "<div>\n",
       "<style scoped>\n",
       "    .dataframe tbody tr th:only-of-type {\n",
       "        vertical-align: middle;\n",
       "    }\n",
       "\n",
       "    .dataframe tbody tr th {\n",
       "        vertical-align: top;\n",
       "    }\n",
       "\n",
       "    .dataframe thead th {\n",
       "        text-align: right;\n",
       "    }\n",
       "</style>\n",
       "<table border=\"1\" class=\"dataframe\">\n",
       "  <thead>\n",
       "    <tr style=\"text-align: right;\">\n",
       "      <th></th>\n",
       "      <th>name</th>\n",
       "      <th>description</th>\n",
       "      <th>geometry</th>\n",
       "    </tr>\n",
       "  </thead>\n",
       "  <tbody>\n",
       "    <tr>\n",
       "      <th>269</th>\n",
       "      <td>Upper Rockridge</td>\n",
       "      <td></td>\n",
       "      <td>(POLYGON ((-122.219555006624 37.832981772973, ...</td>\n",
       "    </tr>\n",
       "    <tr>\n",
       "      <th>270</th>\n",
       "      <td>Waverly</td>\n",
       "      <td></td>\n",
       "      <td>(POLYGON ((-122.261262247923 37.811458543436, ...</td>\n",
       "    </tr>\n",
       "    <tr>\n",
       "      <th>271</th>\n",
       "      <td>Webster</td>\n",
       "      <td></td>\n",
       "      <td>(POLYGON ((-122.165951274503 37.7532857075336,...</td>\n",
       "    </tr>\n",
       "    <tr>\n",
       "      <th>272</th>\n",
       "      <td>Woodland</td>\n",
       "      <td></td>\n",
       "      <td>(POLYGON ((-122.177602684022 37.7536107490519,...</td>\n",
       "    </tr>\n",
       "    <tr>\n",
       "      <th>273</th>\n",
       "      <td>Woodminster</td>\n",
       "      <td></td>\n",
       "      <td>(POLYGON ((-122.178433674265 37.8037393938781,...</td>\n",
       "    </tr>\n",
       "  </tbody>\n",
       "</table>\n",
       "</div>"
      ],
      "text/plain": [
       "                name description  \\\n",
       "269  Upper Rockridge               \n",
       "270          Waverly               \n",
       "271          Webster               \n",
       "272         Woodland               \n",
       "273      Woodminster               \n",
       "\n",
       "                                              geometry  \n",
       "269  (POLYGON ((-122.219555006624 37.832981772973, ...  \n",
       "270  (POLYGON ((-122.261262247923 37.811458543436, ...  \n",
       "271  (POLYGON ((-122.165951274503 37.7532857075336,...  \n",
       "272  (POLYGON ((-122.177602684022 37.7536107490519,...  \n",
       "273  (POLYGON ((-122.178433674265 37.8037393938781,...  "
      ]
     },
     "metadata": {},
     "output_type": "display_data"
    }
   ],
   "source": [
    "display(neighborhoods.head())\n",
    "display(neighborhoods.tail())"
   ]
  },
  {
   "cell_type": "code",
   "execution_count": null,
   "metadata": {},
   "outputs": [],
   "source": [
    "# Run this code if you'd like to check out the neighborhoods in an interactive browser\n",
    "geojsonio.display(neighborhoods.to_json())"
   ]
  },
  {
   "cell_type": "markdown",
   "metadata": {},
   "source": [
    "Let's check these neighborhoods out!"
   ]
  },
  {
   "cell_type": "code",
   "execution_count": null,
   "metadata": {},
   "outputs": [],
   "source": [
    "f, ax = plt.subplots()\n",
    "neighborhoods.plot(ax=ax);"
   ]
  },
  {
   "cell_type": "markdown",
   "metadata": {},
   "source": [
    "### Maps"
   ]
  },
  {
   "cell_type": "markdown",
   "metadata": {},
   "source": [
    "Notice how this just gives us the shapes of our neighborhoods without any context. Let's plot this on top of a map so we get an idea of where these are located with respect to other features we are familiar with. To do this, we will use `basemap`. It's worth noting that `basemap` is being replaced with `cartopy`, but since I'm somewhat familiar with `basemap` for the time being :)."
   ]
  },
  {
   "cell_type": "markdown",
   "metadata": {},
   "source": [
    "We will use the same coordinates from the above plot to get our $x$ and $y$ limits. In `basemap`, these will be referred to as the lower (upper) left (right) corner latitude (longitude) or llcrnlat, etc."
   ]
  },
  {
   "cell_type": "raw",
   "metadata": {},
   "source": [
    "print('Longitude range: ', ax.get_xlim())\n",
    "print('Latitude range: ', ax.get_ylim())\n",
    "\n",
    "# Get the limits of our map\n",
    "llcrnrlon, urcrnrlon = ax.get_xlim()\n",
    "llcrnrlat, urcrnrlat = ax.get_ylim()\n"
   ]
  },
  {
   "cell_type": "raw",
   "metadata": {},
   "source": [
    "fig = plt.figure(figsize=(10,10))\n",
    "ax = fig.add_axes([0.,0.,1.,1.])\n",
    "\n",
    "# Map properties\n",
    "my_map = Basemap(epsg=3493,\n",
    "                 llcrnrlon=llcrnrlon,\n",
    "                 llcrnrlat=llcrnrlat,\n",
    "                 urcrnrlon=urcrnrlon,\n",
    "                 urcrnrlat=urcrnrlat)\n",
    "\n",
    "# Pull in map data from GIS server\n",
    "my_map.arcgisimage(service='ESRI_Imagery_World_2D', xpixels = 2000, verbose= True)\n",
    "\n",
    "xtr,ytr = my_map(lon.values, lat.values)\n",
    "   \n",
    "plt.legend()\n",
    "plt.show()"
   ]
  },
  {
   "cell_type": "markdown",
   "metadata": {},
   "source": [
    "As before, let's save this for later:"
   ]
  },
  {
   "cell_type": "raw",
   "metadata": {},
   "source": [
    "neighborhoods.to_hdf(RESULTSDIR + '01-neighborhoods.h5', 'neighborhoods')"
   ]
  },
  {
   "cell_type": "markdown",
   "metadata": {},
   "source": [
    "## 3. Residential areas within 300 feet of industrial zones\n",
    "- A GeoJSON file classifying the areas in Oakland into neighborhoods was pulled from https://data.oaklandnet.com/Economic-Development/Residential-Zones-300-ft-of-Industrial-Areas/d3re-jdqr on 22/11/17.\n",
    "- The downloaded file was renamed, replacing spaces with underscores, and setting all letters to lowercase for convenience.\n",
    "\n",
    "Let's read in this GeoJSON file:"
   ]
  },
  {
   "cell_type": "code",
   "execution_count": 12,
   "metadata": {},
   "outputs": [],
   "source": [
    "residential_industrial = gpd.read_file(DATADIR + 'residential_zones_300_ft_of_industrial_areas.geojson')"
   ]
  },
  {
   "cell_type": "code",
   "execution_count": 13,
   "metadata": {},
   "outputs": [
    {
     "data": {
      "text/html": [
       "<div>\n",
       "<style scoped>\n",
       "    .dataframe tbody tr th:only-of-type {\n",
       "        vertical-align: middle;\n",
       "    }\n",
       "\n",
       "    .dataframe tbody tr th {\n",
       "        vertical-align: top;\n",
       "    }\n",
       "\n",
       "    .dataframe thead th {\n",
       "        text-align: right;\n",
       "    }\n",
       "</style>\n",
       "<table border=\"1\" class=\"dataframe\">\n",
       "  <thead>\n",
       "    <tr style=\"text-align: right;\">\n",
       "      <th></th>\n",
       "      <th>area</th>\n",
       "      <th>fid_indust</th>\n",
       "      <th>basezone</th>\n",
       "      <th>perimeter</th>\n",
       "      <th>znlabel</th>\n",
       "      <th>overlay</th>\n",
       "      <th>lastupdate</th>\n",
       "      <th>id</th>\n",
       "      <th>fid_reside</th>\n",
       "      <th>ordinance</th>\n",
       "      <th>geometry</th>\n",
       "    </tr>\n",
       "  </thead>\n",
       "  <tbody>\n",
       "    <tr>\n",
       "      <th>0</th>\n",
       "      <td>165781.541327</td>\n",
       "      <td>0</td>\n",
       "      <td>RM-1</td>\n",
       "      <td>1726.61174</td>\n",
       "      <td>RM-1</td>\n",
       "      <td></td>\n",
       "      <td>20150108</td>\n",
       "      <td>0</td>\n",
       "      <td>0</td>\n",
       "      <td></td>\n",
       "      <td>(POLYGON ((-122.1749871795865 37.7318118929050...</td>\n",
       "    </tr>\n",
       "    <tr>\n",
       "      <th>1</th>\n",
       "      <td>31291.800394</td>\n",
       "      <td>0</td>\n",
       "      <td>RM-3</td>\n",
       "      <td>831.336232</td>\n",
       "      <td>RM-3</td>\n",
       "      <td></td>\n",
       "      <td>20150108</td>\n",
       "      <td>0</td>\n",
       "      <td>1</td>\n",
       "      <td></td>\n",
       "      <td>(POLYGON ((-122.1865568615996 37.7372242278911...</td>\n",
       "    </tr>\n",
       "    <tr>\n",
       "      <th>2</th>\n",
       "      <td>41449.399938</td>\n",
       "      <td>0</td>\n",
       "      <td>RM-4</td>\n",
       "      <td>916.621191</td>\n",
       "      <td>RM-4</td>\n",
       "      <td></td>\n",
       "      <td>20150108</td>\n",
       "      <td>0</td>\n",
       "      <td>3</td>\n",
       "      <td></td>\n",
       "      <td>(POLYGON ((-122.186420524489 37.73760424195443...</td>\n",
       "    </tr>\n",
       "    <tr>\n",
       "      <th>3</th>\n",
       "      <td>18517341.381599</td>\n",
       "      <td>0</td>\n",
       "      <td>RD-1</td>\n",
       "      <td>29878.462383</td>\n",
       "      <td>RD-1</td>\n",
       "      <td></td>\n",
       "      <td>20150108</td>\n",
       "      <td>0</td>\n",
       "      <td>6</td>\n",
       "      <td></td>\n",
       "      <td>(POLYGON ((-122.1909303995534 37.7376543702245...</td>\n",
       "    </tr>\n",
       "    <tr>\n",
       "      <th>4</th>\n",
       "      <td>4290422.952443</td>\n",
       "      <td>0</td>\n",
       "      <td>RD-1</td>\n",
       "      <td>11371.141784</td>\n",
       "      <td>RD-1</td>\n",
       "      <td></td>\n",
       "      <td>20150108</td>\n",
       "      <td>0</td>\n",
       "      <td>8</td>\n",
       "      <td></td>\n",
       "      <td>(POLYGON ((-122.1749888306131 37.7392570579501...</td>\n",
       "    </tr>\n",
       "  </tbody>\n",
       "</table>\n",
       "</div>"
      ],
      "text/plain": [
       "              area fid_indust basezone     perimeter znlabel overlay  \\\n",
       "0    165781.541327          0     RM-1    1726.61174    RM-1           \n",
       "1     31291.800394          0     RM-3    831.336232    RM-3           \n",
       "2     41449.399938          0     RM-4    916.621191    RM-4           \n",
       "3  18517341.381599          0     RD-1  29878.462383    RD-1           \n",
       "4   4290422.952443          0     RD-1  11371.141784    RD-1           \n",
       "\n",
       "  lastupdate id fid_reside ordinance  \\\n",
       "0   20150108  0          0             \n",
       "1   20150108  0          1             \n",
       "2   20150108  0          3             \n",
       "3   20150108  0          6             \n",
       "4   20150108  0          8             \n",
       "\n",
       "                                            geometry  \n",
       "0  (POLYGON ((-122.1749871795865 37.7318118929050...  \n",
       "1  (POLYGON ((-122.1865568615996 37.7372242278911...  \n",
       "2  (POLYGON ((-122.186420524489 37.73760424195443...  \n",
       "3  (POLYGON ((-122.1909303995534 37.7376543702245...  \n",
       "4  (POLYGON ((-122.1749888306131 37.7392570579501...  "
      ]
     },
     "execution_count": 13,
     "metadata": {},
     "output_type": "execute_result"
    }
   ],
   "source": [
    "residential_industrial.head()"
   ]
  },
  {
   "cell_type": "code",
   "execution_count": 14,
   "metadata": {},
   "outputs": [
    {
     "data": {
      "text/plain": [
       "'http://geojson.io/#id=gist:/5c2204bb1575c9da732f49ffcaa97b0d'"
      ]
     },
     "execution_count": 14,
     "metadata": {},
     "output_type": "execute_result"
    }
   ],
   "source": [
    "# Run this code if you'd like to check out the neighborhoods in an interactive browser\n",
    "geojsonio.display(residential_industrial.to_json())"
   ]
  },
  {
   "cell_type": "markdown",
   "metadata": {},
   "source": [
    "Let's overlay these zones on the neighborhood map:"
   ]
  },
  {
   "cell_type": "code",
   "execution_count": null,
   "metadata": {},
   "outputs": [],
   "source": [
    "residential_industrial.plot(color='r', ax=ax);\n",
    "display(f)"
   ]
  },
  {
   "cell_type": "markdown",
   "metadata": {},
   "source": [
    "## 4. City Service Requests\n",
    "- An Excel Spreadsheet containing service requests to the city was pulled on the evening of 22 November 2017. This record is regularly updated and contains the following information of interest:\n",
    "    1. Request ID\n",
    "    1. Date and time at which the request was registered in the system\n",
    "    1. Source of service request (i.e., call, email, website)\n",
    "    1. Description\n",
    "    1. Request category (e.g., GRAFFITI)\n",
    "    1. Request location (address and/or GPS coordinates)\n",
    "    1. Status (open, closed, cancelled, etc.)\n",
    "    1. Date and time at which the request was closed in the system\n",
    "- The purpose for considering this data is to look at the frequency at which requests are made in different neighborhoods, as well as the distribution of times it takes to resolve issues.\n",
    "- Now that I think about it, this is quite a rich dataset in itself, and could be the basis of this project alone!"
   ]
  },
  {
   "cell_type": "code",
   "execution_count": 5,
   "metadata": {},
   "outputs": [],
   "source": [
    "service_requests = pd.read_csv(DATADIR + 'Service_requests_received_by_the_Oakland_Call_Center.csv')"
   ]
  },
  {
   "cell_type": "code",
   "execution_count": 6,
   "metadata": {},
   "outputs": [
    {
     "data": {
      "text/html": [
       "<div>\n",
       "<style scoped>\n",
       "    .dataframe tbody tr th:only-of-type {\n",
       "        vertical-align: middle;\n",
       "    }\n",
       "\n",
       "    .dataframe tbody tr th {\n",
       "        vertical-align: top;\n",
       "    }\n",
       "\n",
       "    .dataframe thead th {\n",
       "        text-align: right;\n",
       "    }\n",
       "</style>\n",
       "<table border=\"1\" class=\"dataframe\">\n",
       "  <thead>\n",
       "    <tr style=\"text-align: right;\">\n",
       "      <th></th>\n",
       "      <th>REQUESTID</th>\n",
       "      <th>DATETIMEINIT</th>\n",
       "      <th>SOURCE</th>\n",
       "      <th>DESCRIPTION</th>\n",
       "      <th>REQCATEGORY</th>\n",
       "      <th>REQADDRESS</th>\n",
       "      <th>STATUS</th>\n",
       "      <th>REFERREDTO</th>\n",
       "      <th>DATETIMECLOSED</th>\n",
       "      <th>SRX</th>\n",
       "      <th>SRY</th>\n",
       "      <th>COUNCILDISTRICT</th>\n",
       "      <th>BEAT</th>\n",
       "    </tr>\n",
       "  </thead>\n",
       "  <tbody>\n",
       "    <tr>\n",
       "      <th>0</th>\n",
       "      <td>770583</td>\n",
       "      <td>11/01/2017 06:25:49 AM</td>\n",
       "      <td>SeeClickFix</td>\n",
       "      <td>Park - Lighting</td>\n",
       "      <td>BLDGMAINT</td>\n",
       "      <td>SOUTH PRESCOTT PARK AKA CRESCENT PARK (1551-16...</td>\n",
       "      <td>OPEN</td>\n",
       "      <td>NaN</td>\n",
       "      <td>NaN</td>\n",
       "      <td>6042512.94</td>\n",
       "      <td>2119761.93</td>\n",
       "      <td>CCD3</td>\n",
       "      <td>02Y</td>\n",
       "    </tr>\n",
       "    <tr>\n",
       "      <th>1</th>\n",
       "      <td>770584</td>\n",
       "      <td>11/01/2017 06:34:04 AM</td>\n",
       "      <td>SeeClickFix</td>\n",
       "      <td>Parking - Enforcement</td>\n",
       "      <td>TRAFFIC_ENGIN</td>\n",
       "      <td>E 23RD ST &amp;amp; HUGHES AV\\nOakland, CA\\n(37.78...</td>\n",
       "      <td>OPEN</td>\n",
       "      <td>NaN</td>\n",
       "      <td>NaN</td>\n",
       "      <td>6064305.00</td>\n",
       "      <td>2112881.25</td>\n",
       "      <td>CCD5</td>\n",
       "      <td>21Y</td>\n",
       "    </tr>\n",
       "    <tr>\n",
       "      <th>2</th>\n",
       "      <td>770585</td>\n",
       "      <td>11/01/2017 07:22:20 AM</td>\n",
       "      <td>SeeClickFix</td>\n",
       "      <td>Graffiti on Street, Street Light, Traffic Signal,</td>\n",
       "      <td>GRAFFITI</td>\n",
       "      <td>280 LEE ST\\nOakland, CA\\n(37.812325, -122.256729)</td>\n",
       "      <td>WOCREATE</td>\n",
       "      <td>NaN</td>\n",
       "      <td>NaN</td>\n",
       "      <td>6054236.62</td>\n",
       "      <td>2122946.45</td>\n",
       "      <td>CCD3</td>\n",
       "      <td>14X</td>\n",
       "    </tr>\n",
       "    <tr>\n",
       "      <th>3</th>\n",
       "      <td>770586</td>\n",
       "      <td>11/01/2017 07:29:17 AM</td>\n",
       "      <td>Website</td>\n",
       "      <td>Litter - Street Litter Container - Overflowing...</td>\n",
       "      <td>ILLDUMP</td>\n",
       "      <td>3150 NICOL AV\\nOakland, CA\\n(37.791987, -122.2...</td>\n",
       "      <td>OPEN</td>\n",
       "      <td>NaN</td>\n",
       "      <td>NaN</td>\n",
       "      <td>6066555.08</td>\n",
       "      <td>2115444.93</td>\n",
       "      <td>CCD5</td>\n",
       "      <td>21Y</td>\n",
       "    </tr>\n",
       "    <tr>\n",
       "      <th>4</th>\n",
       "      <td>770587</td>\n",
       "      <td>11/01/2017 07:29:18 AM</td>\n",
       "      <td>Website</td>\n",
       "      <td>Litter - Street Litter Container - Overflowing...</td>\n",
       "      <td>ILLDUMP</td>\n",
       "      <td>3150 NICOL AVE\\nOakland, CA\\n(37.791987, -122....</td>\n",
       "      <td>CANCEL</td>\n",
       "      <td>NaN</td>\n",
       "      <td>NaN</td>\n",
       "      <td>0.00</td>\n",
       "      <td>0.00</td>\n",
       "      <td>NaN</td>\n",
       "      <td>NaN</td>\n",
       "    </tr>\n",
       "  </tbody>\n",
       "</table>\n",
       "</div>"
      ],
      "text/plain": [
       "   REQUESTID            DATETIMEINIT       SOURCE  \\\n",
       "0     770583  11/01/2017 06:25:49 AM  SeeClickFix   \n",
       "1     770584  11/01/2017 06:34:04 AM  SeeClickFix   \n",
       "2     770585  11/01/2017 07:22:20 AM  SeeClickFix   \n",
       "3     770586  11/01/2017 07:29:17 AM      Website   \n",
       "4     770587  11/01/2017 07:29:18 AM      Website   \n",
       "\n",
       "                                         DESCRIPTION    REQCATEGORY  \\\n",
       "0                                    Park - Lighting      BLDGMAINT   \n",
       "1                              Parking - Enforcement  TRAFFIC_ENGIN   \n",
       "2  Graffiti on Street, Street Light, Traffic Signal,       GRAFFITI   \n",
       "3  Litter - Street Litter Container - Overflowing...        ILLDUMP   \n",
       "4  Litter - Street Litter Container - Overflowing...        ILLDUMP   \n",
       "\n",
       "                                          REQADDRESS    STATUS REFERREDTO  \\\n",
       "0  SOUTH PRESCOTT PARK AKA CRESCENT PARK (1551-16...      OPEN        NaN   \n",
       "1  E 23RD ST &amp; HUGHES AV\\nOakland, CA\\n(37.78...      OPEN        NaN   \n",
       "2  280 LEE ST\\nOakland, CA\\n(37.812325, -122.256729)  WOCREATE        NaN   \n",
       "3  3150 NICOL AV\\nOakland, CA\\n(37.791987, -122.2...      OPEN        NaN   \n",
       "4  3150 NICOL AVE\\nOakland, CA\\n(37.791987, -122....    CANCEL        NaN   \n",
       "\n",
       "  DATETIMECLOSED         SRX         SRY COUNCILDISTRICT BEAT  \n",
       "0            NaN  6042512.94  2119761.93            CCD3  02Y  \n",
       "1            NaN  6064305.00  2112881.25            CCD5  21Y  \n",
       "2            NaN  6054236.62  2122946.45            CCD3  14X  \n",
       "3            NaN  6066555.08  2115444.93            CCD5  21Y  \n",
       "4            NaN        0.00        0.00             NaN  NaN  "
      ]
     },
     "execution_count": 6,
     "metadata": {},
     "output_type": "execute_result"
    }
   ],
   "source": [
    "service_requests.head()"
   ]
  },
  {
   "cell_type": "markdown",
   "metadata": {},
   "source": [
    "For now, I'll drop the `REFERREDTO`, `SRX`, `SRY`, `COUNCILDISTRICT`, and `BEAT` columns."
   ]
  },
  {
   "cell_type": "code",
   "execution_count": 7,
   "metadata": {},
   "outputs": [],
   "source": [
    "service_requests.drop(columns=['REFERREDTO', 'SRX', 'SRY', 'COUNCILDISTRICT', 'BEAT'], inplace=True)"
   ]
  },
  {
   "cell_type": "code",
   "execution_count": 8,
   "metadata": {},
   "outputs": [
    {
     "data": {
      "text/html": [
       "<div>\n",
       "<style scoped>\n",
       "    .dataframe tbody tr th:only-of-type {\n",
       "        vertical-align: middle;\n",
       "    }\n",
       "\n",
       "    .dataframe tbody tr th {\n",
       "        vertical-align: top;\n",
       "    }\n",
       "\n",
       "    .dataframe thead th {\n",
       "        text-align: right;\n",
       "    }\n",
       "</style>\n",
       "<table border=\"1\" class=\"dataframe\">\n",
       "  <thead>\n",
       "    <tr style=\"text-align: right;\">\n",
       "      <th></th>\n",
       "      <th>REQUESTID</th>\n",
       "      <th>DATETIMEINIT</th>\n",
       "      <th>SOURCE</th>\n",
       "      <th>DESCRIPTION</th>\n",
       "      <th>REQCATEGORY</th>\n",
       "      <th>REQADDRESS</th>\n",
       "      <th>STATUS</th>\n",
       "      <th>DATETIMECLOSED</th>\n",
       "    </tr>\n",
       "  </thead>\n",
       "  <tbody>\n",
       "    <tr>\n",
       "      <th>0</th>\n",
       "      <td>770583</td>\n",
       "      <td>11/01/2017 06:25:49 AM</td>\n",
       "      <td>SeeClickFix</td>\n",
       "      <td>Park - Lighting</td>\n",
       "      <td>BLDGMAINT</td>\n",
       "      <td>SOUTH PRESCOTT PARK AKA CRESCENT PARK (1551-16...</td>\n",
       "      <td>OPEN</td>\n",
       "      <td>NaN</td>\n",
       "    </tr>\n",
       "    <tr>\n",
       "      <th>1</th>\n",
       "      <td>770584</td>\n",
       "      <td>11/01/2017 06:34:04 AM</td>\n",
       "      <td>SeeClickFix</td>\n",
       "      <td>Parking - Enforcement</td>\n",
       "      <td>TRAFFIC_ENGIN</td>\n",
       "      <td>E 23RD ST &amp;amp; HUGHES AV\\nOakland, CA\\n(37.78...</td>\n",
       "      <td>OPEN</td>\n",
       "      <td>NaN</td>\n",
       "    </tr>\n",
       "    <tr>\n",
       "      <th>2</th>\n",
       "      <td>770585</td>\n",
       "      <td>11/01/2017 07:22:20 AM</td>\n",
       "      <td>SeeClickFix</td>\n",
       "      <td>Graffiti on Street, Street Light, Traffic Signal,</td>\n",
       "      <td>GRAFFITI</td>\n",
       "      <td>280 LEE ST\\nOakland, CA\\n(37.812325, -122.256729)</td>\n",
       "      <td>WOCREATE</td>\n",
       "      <td>NaN</td>\n",
       "    </tr>\n",
       "    <tr>\n",
       "      <th>3</th>\n",
       "      <td>770586</td>\n",
       "      <td>11/01/2017 07:29:17 AM</td>\n",
       "      <td>Website</td>\n",
       "      <td>Litter - Street Litter Container - Overflowing...</td>\n",
       "      <td>ILLDUMP</td>\n",
       "      <td>3150 NICOL AV\\nOakland, CA\\n(37.791987, -122.2...</td>\n",
       "      <td>OPEN</td>\n",
       "      <td>NaN</td>\n",
       "    </tr>\n",
       "    <tr>\n",
       "      <th>4</th>\n",
       "      <td>770587</td>\n",
       "      <td>11/01/2017 07:29:18 AM</td>\n",
       "      <td>Website</td>\n",
       "      <td>Litter - Street Litter Container - Overflowing...</td>\n",
       "      <td>ILLDUMP</td>\n",
       "      <td>3150 NICOL AVE\\nOakland, CA\\n(37.791987, -122....</td>\n",
       "      <td>CANCEL</td>\n",
       "      <td>NaN</td>\n",
       "    </tr>\n",
       "  </tbody>\n",
       "</table>\n",
       "</div>"
      ],
      "text/plain": [
       "   REQUESTID            DATETIMEINIT       SOURCE  \\\n",
       "0     770583  11/01/2017 06:25:49 AM  SeeClickFix   \n",
       "1     770584  11/01/2017 06:34:04 AM  SeeClickFix   \n",
       "2     770585  11/01/2017 07:22:20 AM  SeeClickFix   \n",
       "3     770586  11/01/2017 07:29:17 AM      Website   \n",
       "4     770587  11/01/2017 07:29:18 AM      Website   \n",
       "\n",
       "                                         DESCRIPTION    REQCATEGORY  \\\n",
       "0                                    Park - Lighting      BLDGMAINT   \n",
       "1                              Parking - Enforcement  TRAFFIC_ENGIN   \n",
       "2  Graffiti on Street, Street Light, Traffic Signal,       GRAFFITI   \n",
       "3  Litter - Street Litter Container - Overflowing...        ILLDUMP   \n",
       "4  Litter - Street Litter Container - Overflowing...        ILLDUMP   \n",
       "\n",
       "                                          REQADDRESS    STATUS DATETIMECLOSED  \n",
       "0  SOUTH PRESCOTT PARK AKA CRESCENT PARK (1551-16...      OPEN            NaN  \n",
       "1  E 23RD ST &amp; HUGHES AV\\nOakland, CA\\n(37.78...      OPEN            NaN  \n",
       "2  280 LEE ST\\nOakland, CA\\n(37.812325, -122.256729)  WOCREATE            NaN  \n",
       "3  3150 NICOL AV\\nOakland, CA\\n(37.791987, -122.2...      OPEN            NaN  \n",
       "4  3150 NICOL AVE\\nOakland, CA\\n(37.791987, -122....    CANCEL            NaN  "
      ]
     },
     "execution_count": 8,
     "metadata": {},
     "output_type": "execute_result"
    }
   ],
   "source": [
    "service_requests.head()"
   ]
  },
  {
   "cell_type": "markdown",
   "metadata": {},
   "source": [
    "Just from looking at the first five entries, we can see that we may run into mutiple entries! Requests 770586 and 770587 appear to be the same events. Let's get an idea of what the columns contain:"
   ]
  },
  {
   "cell_type": "code",
   "execution_count": null,
   "metadata": {
    "scrolled": false
   },
   "outputs": [],
   "source": [
    "display(service_requests['REQCATEGORY'].unique())\n",
    "display(service_requests['SOURCE'].unique())\n",
    "display(service_requests['STATUS'].unique())"
   ]
  },
  {
   "cell_type": "markdown",
   "metadata": {},
   "source": [
    "Let's take a look at the unfunded requests:"
   ]
  },
  {
   "cell_type": "code",
   "execution_count": null,
   "metadata": {
    "scrolled": false
   },
   "outputs": [],
   "source": [
    "service_requests[service_requests['STATUS'] == 'UNFUNDED'].head()"
   ]
  },
  {
   "cell_type": "markdown",
   "metadata": {},
   "source": [
    "We will want the GPS coordinates for easier plotting later on. Let's do some regex-ing to clean those addresses/coordinates up:"
   ]
  },
  {
   "cell_type": "code",
   "execution_count": null,
   "metadata": {},
   "outputs": [],
   "source": [
    "service_requests['REQADDRESS'].head()"
   ]
  },
  {
   "cell_type": "markdown",
   "metadata": {},
   "source": [
    "Here's a regex expression that can be used to pull GPS coordinates from the address column:"
   ]
  },
  {
   "cell_type": "code",
   "execution_count": null,
   "metadata": {
    "scrolled": true
   },
   "outputs": [],
   "source": [
    "re.findall('[\\d.]+, [\\-\\d.]+', service_requests['REQADDRESS'].iloc[3])"
   ]
  },
  {
   "cell_type": "markdown",
   "metadata": {},
   "source": [
    "We can use a function to perform this search and also return a tuple of GPS coordinates for us:"
   ]
  },
  {
   "cell_type": "code",
   "execution_count": 13,
   "metadata": {},
   "outputs": [],
   "source": [
    "def get_coords(addr):\n",
    "    coords = re.findall('[\\d.]+, [\\-\\d.]+', addr)\n",
    "    \n",
    "    # Return a missing value if there aren't any coordinates\n",
    "    if not coords:\n",
    "        return np.nan\n",
    "\n",
    "    # Return a tuple otherwise\n",
    "    coords = coords[0].split(',')\n",
    "    return (float(coords[0]), float(coords[1]))"
   ]
  },
  {
   "cell_type": "code",
   "execution_count": null,
   "metadata": {},
   "outputs": [],
   "source": [
    "get_coords(service_requests['REQADDRESS'].iloc[1])"
   ]
  },
  {
   "cell_type": "code",
   "execution_count": null,
   "metadata": {},
   "outputs": [],
   "source": [
    "service_requests['coordinates'] = service_requests['REQADDRESS'].apply(get_coords)"
   ]
  },
  {
   "cell_type": "code",
   "execution_count": null,
   "metadata": {},
   "outputs": [],
   "source": [
    "service_requests.head()"
   ]
  },
  {
   "cell_type": "code",
   "execution_count": null,
   "metadata": {},
   "outputs": [],
   "source": [
    "service_requests.loc[1]"
   ]
  },
  {
   "cell_type": "code",
   "execution_count": null,
   "metadata": {},
   "outputs": [],
   "source": [
    "print('Number of entries with coordinates:', service_requests[service_requests['coordinates'].notnull()].shape[0])\n",
    "print('Number of entries without coordinates:', service_requests[service_requests['coordinates'].isna()].shape[0])"
   ]
  },
  {
   "cell_type": "markdown",
   "metadata": {},
   "source": [
    "Let's limit ourselves to the entries that have coordinates for us to plot (using the addresses provided is completely possible, but beyond the scope of our current analysis). As we see above, we still have a good amount of data to play with. It's worth noting that selecting only those with GPS coordinates may in fact be introducing a bias in our results, or it may in fact be a negiligble effect (e.g., the people responsible for data entry may not have entered the coordinates...)."
   ]
  },
  {
   "cell_type": "code",
   "execution_count": null,
   "metadata": {},
   "outputs": [],
   "source": [
    "service_requests = service_requests[service_requests['coordinates'].notnull()]"
   ]
  },
  {
   "cell_type": "code",
   "execution_count": null,
   "metadata": {},
   "outputs": [],
   "source": [
    "service_requests.head()"
   ]
  },
  {
   "cell_type": "markdown",
   "metadata": {},
   "source": [
    "And since we are not using the address, let's just drop that column:"
   ]
  },
  {
   "cell_type": "code",
   "execution_count": null,
   "metadata": {},
   "outputs": [],
   "source": [
    "service_requests.drop(columns='REQADDRESS', inplace=True)"
   ]
  },
  {
   "cell_type": "markdown",
   "metadata": {},
   "source": [
    "Another piece of data that may be of interest to us is how long it took to close the request. For example, we can geospatially map out how long it took to close requests. To do this, let's first make sure the times are all in a common format."
   ]
  },
  {
   "cell_type": "code",
   "execution_count": 12,
   "metadata": {},
   "outputs": [],
   "source": [
    "service_requests.loc[:, 'DATETIMEINIT'] = pd.to_datetime(service_requests['DATETIMEINIT'], infer_datetime_format=True)\n",
    "service_requests.loc[:, 'DATETIMECLOSED'] = pd.to_datetime(service_requests['DATETIMECLOSED'], infer_datetime_format=True)"
   ]
  },
  {
   "cell_type": "markdown",
   "metadata": {},
   "source": [
    "What's the range of the dates here?"
   ]
  },
  {
   "cell_type": "code",
   "execution_count": 16,
   "metadata": {
    "scrolled": true
   },
   "outputs": [
    {
     "data": {
      "text/plain": [
       "(Timestamp('2009-07-01 08:05:36'), Timestamp('2017-11-22 01:11:19'))"
      ]
     },
     "execution_count": 16,
     "metadata": {},
     "output_type": "execute_result"
    }
   ],
   "source": [
    "service_requests['DATETIMEINIT'].min(), service_requests['DATETIMEINIT'].max()"
   ]
  },
  {
   "cell_type": "code",
   "execution_count": null,
   "metadata": {},
   "outputs": [],
   "source": [
    "service_requests.loc[:, 'time_to_close'] = service_requests['DATETIMECLOSED'] - service_requests['DATETIMEINIT']"
   ]
  },
  {
   "cell_type": "code",
   "execution_count": null,
   "metadata": {
    "scrolled": false
   },
   "outputs": [],
   "source": [
    "service_requests.sort_values(by='time_to_close', ascending=False).head(10)"
   ]
  },
  {
   "cell_type": "markdown",
   "metadata": {},
   "source": [
    "We see that sometimes it takes years to close these! However, these are just the ones that are still open. If a request had never been closed, its value for `DATETIMECLOSED` will be `NaT` (i.e., not a time). As a result, we probably want a variable that gives us the time since opening. To do this, we can find the difference in time from when this was downloaded and when the request was opened."
   ]
  },
  {
   "cell_type": "code",
   "execution_count": null,
   "metadata": {},
   "outputs": [],
   "source": [
    "# This dataset was downloaded on 22 Nov. 2017\n",
    "t_0 = pd.datetime(2017, 11, 22)"
   ]
  },
  {
   "cell_type": "code",
   "execution_count": null,
   "metadata": {},
   "outputs": [],
   "source": [
    "service_requests.loc[:, 'time_since_init'] = t_0 - service_requests['DATETIMEINIT']"
   ]
  },
  {
   "cell_type": "code",
   "execution_count": null,
   "metadata": {},
   "outputs": [],
   "source": [
    "service_requests.head()"
   ]
  },
  {
   "cell_type": "markdown",
   "metadata": {},
   "source": [
    "We are in a good state to run further analyses on these data. Let's save it for further inspection:"
   ]
  },
  {
   "cell_type": "code",
   "execution_count": null,
   "metadata": {},
   "outputs": [],
   "source": [
    "service_requests.to_hdf(RESULTSDIR + '01-service_requests.h5', 'service_requests')"
   ]
  },
  {
   "cell_type": "markdown",
   "metadata": {},
   "source": [
    "Let's get some memory back now:"
   ]
  },
  {
   "cell_type": "code",
   "execution_count": null,
   "metadata": {},
   "outputs": [],
   "source": [
    "del service_requests"
   ]
  },
  {
   "cell_type": "markdown",
   "metadata": {},
   "source": [
    "## 5. Crime data\n",
    "- Below we read in crimes reported to the Oakland Police Department in the 90 days prior to it's download (on 27 November)."
   ]
  },
  {
   "cell_type": "code",
   "execution_count": 4,
   "metadata": {},
   "outputs": [],
   "source": [
    "crime = pd.read_csv(DATADIR + 'CrimeWatch_Maps_Past_90-Days.csv')"
   ]
  },
  {
   "cell_type": "code",
   "execution_count": 5,
   "metadata": {},
   "outputs": [
    {
     "data": {
      "text/html": [
       "<div>\n",
       "<style scoped>\n",
       "    .dataframe tbody tr th:only-of-type {\n",
       "        vertical-align: middle;\n",
       "    }\n",
       "\n",
       "    .dataframe tbody tr th {\n",
       "        vertical-align: top;\n",
       "    }\n",
       "\n",
       "    .dataframe thead th {\n",
       "        text-align: right;\n",
       "    }\n",
       "</style>\n",
       "<table border=\"1\" class=\"dataframe\">\n",
       "  <thead>\n",
       "    <tr style=\"text-align: right;\">\n",
       "      <th></th>\n",
       "      <th>CRIMETYPE</th>\n",
       "      <th>DATETIME</th>\n",
       "      <th>CASENUMBER</th>\n",
       "      <th>DESCRIPTION</th>\n",
       "      <th>POLICEBEAT</th>\n",
       "      <th>ADDRESS</th>\n",
       "      <th>CITY</th>\n",
       "      <th>STATE</th>\n",
       "      <th>Location</th>\n",
       "    </tr>\n",
       "  </thead>\n",
       "  <tbody>\n",
       "    <tr>\n",
       "      <th>0</th>\n",
       "      <td>VANDALISM</td>\n",
       "      <td>10/24/2017 07:00:00 PM</td>\n",
       "      <td>17-916879</td>\n",
       "      <td>VANDALISM</td>\n",
       "      <td>NaN</td>\n",
       "      <td>500 20TH ST</td>\n",
       "      <td>Oakland</td>\n",
       "      <td>CA</td>\n",
       "      <td>500 20TH ST\\nOakland, CA\\n(37.809581, -122.269...</td>\n",
       "    </tr>\n",
       "    <tr>\n",
       "      <th>1</th>\n",
       "      <td>VANDALISM</td>\n",
       "      <td>09/08/2017 07:00:00 PM</td>\n",
       "      <td>17-914153</td>\n",
       "      <td>VANDALISM</td>\n",
       "      <td>08X</td>\n",
       "      <td>500 27TH ST</td>\n",
       "      <td>Oakland</td>\n",
       "      <td>CA</td>\n",
       "      <td>500 27TH ST\\nOakland, CA\\n(37.816128, -122.267...</td>\n",
       "    </tr>\n",
       "    <tr>\n",
       "      <th>2</th>\n",
       "      <td>MOTOR VEHICLE THEFT</td>\n",
       "      <td>10/06/2017 11:27:00 AM</td>\n",
       "      <td>17-052428</td>\n",
       "      <td>VEHICLE THEFT - AUTO</td>\n",
       "      <td>22Y</td>\n",
       "      <td>3300 GEORGIA ST</td>\n",
       "      <td>Oakland</td>\n",
       "      <td>CA</td>\n",
       "      <td>3300 GEORGIA ST\\nOakland, CA\\n(37.794807, -122...</td>\n",
       "    </tr>\n",
       "    <tr>\n",
       "      <th>3</th>\n",
       "      <td>ASSAULT</td>\n",
       "      <td>09/09/2017 11:16:00 PM</td>\n",
       "      <td>17-047455</td>\n",
       "      <td>INFLICT CORPORAL INJURY ON SPOUSE/COHABITANT</td>\n",
       "      <td>27Y</td>\n",
       "      <td>5900 HARMON AV</td>\n",
       "      <td>Oakland</td>\n",
       "      <td>CA</td>\n",
       "      <td>5900 HARMON AV\\nOakland, CA\\n(37.768042, -122....</td>\n",
       "    </tr>\n",
       "    <tr>\n",
       "      <th>4</th>\n",
       "      <td>ASSAULT</td>\n",
       "      <td>09/16/2017 04:37:00 PM</td>\n",
       "      <td>17-048647</td>\n",
       "      <td>BATTERY:SPOUSE/EX SPOUSE/DATE/ETC</td>\n",
       "      <td>35X</td>\n",
       "      <td>2400 96TH AV</td>\n",
       "      <td>Oakland</td>\n",
       "      <td>CA</td>\n",
       "      <td>2400 96TH AV\\nOakland, CA\\n(37.750884, -122.16...</td>\n",
       "    </tr>\n",
       "  </tbody>\n",
       "</table>\n",
       "</div>"
      ],
      "text/plain": [
       "             CRIMETYPE                DATETIME CASENUMBER  \\\n",
       "0            VANDALISM  10/24/2017 07:00:00 PM  17-916879   \n",
       "1            VANDALISM  09/08/2017 07:00:00 PM  17-914153   \n",
       "2  MOTOR VEHICLE THEFT  10/06/2017 11:27:00 AM  17-052428   \n",
       "3              ASSAULT  09/09/2017 11:16:00 PM  17-047455   \n",
       "4              ASSAULT  09/16/2017 04:37:00 PM  17-048647   \n",
       "\n",
       "                                    DESCRIPTION POLICEBEAT          ADDRESS  \\\n",
       "0                                     VANDALISM        NaN      500 20TH ST   \n",
       "1                                     VANDALISM        08X      500 27TH ST   \n",
       "2                          VEHICLE THEFT - AUTO        22Y  3300 GEORGIA ST   \n",
       "3  INFLICT CORPORAL INJURY ON SPOUSE/COHABITANT        27Y   5900 HARMON AV   \n",
       "4             BATTERY:SPOUSE/EX SPOUSE/DATE/ETC        35X     2400 96TH AV   \n",
       "\n",
       "      CITY STATE                                           Location  \n",
       "0  Oakland    CA  500 20TH ST\\nOakland, CA\\n(37.809581, -122.269...  \n",
       "1  Oakland    CA  500 27TH ST\\nOakland, CA\\n(37.816128, -122.267...  \n",
       "2  Oakland    CA  3300 GEORGIA ST\\nOakland, CA\\n(37.794807, -122...  \n",
       "3  Oakland    CA  5900 HARMON AV\\nOakland, CA\\n(37.768042, -122....  \n",
       "4  Oakland    CA  2400 96TH AV\\nOakland, CA\\n(37.750884, -122.16...  "
      ]
     },
     "execution_count": 5,
     "metadata": {},
     "output_type": "execute_result"
    }
   ],
   "source": [
    "crime.head()"
   ]
  },
  {
   "cell_type": "markdown",
   "metadata": {},
   "source": [
    "Let's drop `POLICEBEAT`, `ADDRESS`, `CITY`, and `STATE` since we won't need those. As before, we can pull the geolocation in terms of latitude and longitude from `Location`."
   ]
  },
  {
   "cell_type": "code",
   "execution_count": 11,
   "metadata": {},
   "outputs": [],
   "source": [
    "crime.drop(['POLICEBEAT', 'ADDRESS', 'CITY', 'STATE'], axis=1, inplace=True)"
   ]
  },
  {
   "cell_type": "code",
   "execution_count": 12,
   "metadata": {},
   "outputs": [
    {
     "data": {
      "text/html": [
       "<div>\n",
       "<style scoped>\n",
       "    .dataframe tbody tr th:only-of-type {\n",
       "        vertical-align: middle;\n",
       "    }\n",
       "\n",
       "    .dataframe tbody tr th {\n",
       "        vertical-align: top;\n",
       "    }\n",
       "\n",
       "    .dataframe thead th {\n",
       "        text-align: right;\n",
       "    }\n",
       "</style>\n",
       "<table border=\"1\" class=\"dataframe\">\n",
       "  <thead>\n",
       "    <tr style=\"text-align: right;\">\n",
       "      <th></th>\n",
       "      <th>CRIMETYPE</th>\n",
       "      <th>DATETIME</th>\n",
       "      <th>CASENUMBER</th>\n",
       "      <th>DESCRIPTION</th>\n",
       "      <th>Location</th>\n",
       "    </tr>\n",
       "  </thead>\n",
       "  <tbody>\n",
       "    <tr>\n",
       "      <th>0</th>\n",
       "      <td>VANDALISM</td>\n",
       "      <td>10/24/2017 07:00:00 PM</td>\n",
       "      <td>17-916879</td>\n",
       "      <td>VANDALISM</td>\n",
       "      <td>500 20TH ST\\nOakland, CA\\n(37.809581, -122.269...</td>\n",
       "    </tr>\n",
       "    <tr>\n",
       "      <th>1</th>\n",
       "      <td>VANDALISM</td>\n",
       "      <td>09/08/2017 07:00:00 PM</td>\n",
       "      <td>17-914153</td>\n",
       "      <td>VANDALISM</td>\n",
       "      <td>500 27TH ST\\nOakland, CA\\n(37.816128, -122.267...</td>\n",
       "    </tr>\n",
       "    <tr>\n",
       "      <th>2</th>\n",
       "      <td>MOTOR VEHICLE THEFT</td>\n",
       "      <td>10/06/2017 11:27:00 AM</td>\n",
       "      <td>17-052428</td>\n",
       "      <td>VEHICLE THEFT - AUTO</td>\n",
       "      <td>3300 GEORGIA ST\\nOakland, CA\\n(37.794807, -122...</td>\n",
       "    </tr>\n",
       "    <tr>\n",
       "      <th>3</th>\n",
       "      <td>ASSAULT</td>\n",
       "      <td>09/09/2017 11:16:00 PM</td>\n",
       "      <td>17-047455</td>\n",
       "      <td>INFLICT CORPORAL INJURY ON SPOUSE/COHABITANT</td>\n",
       "      <td>5900 HARMON AV\\nOakland, CA\\n(37.768042, -122....</td>\n",
       "    </tr>\n",
       "    <tr>\n",
       "      <th>4</th>\n",
       "      <td>ASSAULT</td>\n",
       "      <td>09/16/2017 04:37:00 PM</td>\n",
       "      <td>17-048647</td>\n",
       "      <td>BATTERY:SPOUSE/EX SPOUSE/DATE/ETC</td>\n",
       "      <td>2400 96TH AV\\nOakland, CA\\n(37.750884, -122.16...</td>\n",
       "    </tr>\n",
       "  </tbody>\n",
       "</table>\n",
       "</div>"
      ],
      "text/plain": [
       "             CRIMETYPE                DATETIME CASENUMBER  \\\n",
       "0            VANDALISM  10/24/2017 07:00:00 PM  17-916879   \n",
       "1            VANDALISM  09/08/2017 07:00:00 PM  17-914153   \n",
       "2  MOTOR VEHICLE THEFT  10/06/2017 11:27:00 AM  17-052428   \n",
       "3              ASSAULT  09/09/2017 11:16:00 PM  17-047455   \n",
       "4              ASSAULT  09/16/2017 04:37:00 PM  17-048647   \n",
       "\n",
       "                                    DESCRIPTION  \\\n",
       "0                                     VANDALISM   \n",
       "1                                     VANDALISM   \n",
       "2                          VEHICLE THEFT - AUTO   \n",
       "3  INFLICT CORPORAL INJURY ON SPOUSE/COHABITANT   \n",
       "4             BATTERY:SPOUSE/EX SPOUSE/DATE/ETC   \n",
       "\n",
       "                                            Location  \n",
       "0  500 20TH ST\\nOakland, CA\\n(37.809581, -122.269...  \n",
       "1  500 27TH ST\\nOakland, CA\\n(37.816128, -122.267...  \n",
       "2  3300 GEORGIA ST\\nOakland, CA\\n(37.794807, -122...  \n",
       "3  5900 HARMON AV\\nOakland, CA\\n(37.768042, -122....  \n",
       "4  2400 96TH AV\\nOakland, CA\\n(37.750884, -122.16...  "
      ]
     },
     "execution_count": 12,
     "metadata": {},
     "output_type": "execute_result"
    }
   ],
   "source": [
    "crime.head()"
   ]
  },
  {
   "cell_type": "code",
   "execution_count": 15,
   "metadata": {},
   "outputs": [],
   "source": [
    "crime['coordinates'] = crime['Location'].apply(get_coords)"
   ]
  },
  {
   "cell_type": "code",
   "execution_count": 16,
   "metadata": {},
   "outputs": [
    {
     "data": {
      "text/html": [
       "<div>\n",
       "<style scoped>\n",
       "    .dataframe tbody tr th:only-of-type {\n",
       "        vertical-align: middle;\n",
       "    }\n",
       "\n",
       "    .dataframe tbody tr th {\n",
       "        vertical-align: top;\n",
       "    }\n",
       "\n",
       "    .dataframe thead th {\n",
       "        text-align: right;\n",
       "    }\n",
       "</style>\n",
       "<table border=\"1\" class=\"dataframe\">\n",
       "  <thead>\n",
       "    <tr style=\"text-align: right;\">\n",
       "      <th></th>\n",
       "      <th>CRIMETYPE</th>\n",
       "      <th>DATETIME</th>\n",
       "      <th>CASENUMBER</th>\n",
       "      <th>DESCRIPTION</th>\n",
       "      <th>Location</th>\n",
       "      <th>coordinates</th>\n",
       "    </tr>\n",
       "  </thead>\n",
       "  <tbody>\n",
       "    <tr>\n",
       "      <th>0</th>\n",
       "      <td>VANDALISM</td>\n",
       "      <td>10/24/2017 07:00:00 PM</td>\n",
       "      <td>17-916879</td>\n",
       "      <td>VANDALISM</td>\n",
       "      <td>500 20TH ST\\nOakland, CA\\n(37.809581, -122.269...</td>\n",
       "      <td>(37.809581, -122.269628)</td>\n",
       "    </tr>\n",
       "    <tr>\n",
       "      <th>1</th>\n",
       "      <td>VANDALISM</td>\n",
       "      <td>09/08/2017 07:00:00 PM</td>\n",
       "      <td>17-914153</td>\n",
       "      <td>VANDALISM</td>\n",
       "      <td>500 27TH ST\\nOakland, CA\\n(37.816128, -122.267...</td>\n",
       "      <td>(37.816128, -122.267219)</td>\n",
       "    </tr>\n",
       "    <tr>\n",
       "      <th>2</th>\n",
       "      <td>MOTOR VEHICLE THEFT</td>\n",
       "      <td>10/06/2017 11:27:00 AM</td>\n",
       "      <td>17-052428</td>\n",
       "      <td>VEHICLE THEFT - AUTO</td>\n",
       "      <td>3300 GEORGIA ST\\nOakland, CA\\n(37.794807, -122...</td>\n",
       "      <td>(37.794807, -122.20291)</td>\n",
       "    </tr>\n",
       "    <tr>\n",
       "      <th>3</th>\n",
       "      <td>ASSAULT</td>\n",
       "      <td>09/09/2017 11:16:00 PM</td>\n",
       "      <td>17-047455</td>\n",
       "      <td>INFLICT CORPORAL INJURY ON SPOUSE/COHABITANT</td>\n",
       "      <td>5900 HARMON AV\\nOakland, CA\\n(37.768042, -122....</td>\n",
       "      <td>(37.768042, -122.194877)</td>\n",
       "    </tr>\n",
       "    <tr>\n",
       "      <th>4</th>\n",
       "      <td>ASSAULT</td>\n",
       "      <td>09/16/2017 04:37:00 PM</td>\n",
       "      <td>17-048647</td>\n",
       "      <td>BATTERY:SPOUSE/EX SPOUSE/DATE/ETC</td>\n",
       "      <td>2400 96TH AV\\nOakland, CA\\n(37.750884, -122.16...</td>\n",
       "      <td>(37.750884, -122.160601)</td>\n",
       "    </tr>\n",
       "  </tbody>\n",
       "</table>\n",
       "</div>"
      ],
      "text/plain": [
       "             CRIMETYPE                DATETIME CASENUMBER  \\\n",
       "0            VANDALISM  10/24/2017 07:00:00 PM  17-916879   \n",
       "1            VANDALISM  09/08/2017 07:00:00 PM  17-914153   \n",
       "2  MOTOR VEHICLE THEFT  10/06/2017 11:27:00 AM  17-052428   \n",
       "3              ASSAULT  09/09/2017 11:16:00 PM  17-047455   \n",
       "4              ASSAULT  09/16/2017 04:37:00 PM  17-048647   \n",
       "\n",
       "                                    DESCRIPTION  \\\n",
       "0                                     VANDALISM   \n",
       "1                                     VANDALISM   \n",
       "2                          VEHICLE THEFT - AUTO   \n",
       "3  INFLICT CORPORAL INJURY ON SPOUSE/COHABITANT   \n",
       "4             BATTERY:SPOUSE/EX SPOUSE/DATE/ETC   \n",
       "\n",
       "                                            Location               coordinates  \n",
       "0  500 20TH ST\\nOakland, CA\\n(37.809581, -122.269...  (37.809581, -122.269628)  \n",
       "1  500 27TH ST\\nOakland, CA\\n(37.816128, -122.267...  (37.816128, -122.267219)  \n",
       "2  3300 GEORGIA ST\\nOakland, CA\\n(37.794807, -122...   (37.794807, -122.20291)  \n",
       "3  5900 HARMON AV\\nOakland, CA\\n(37.768042, -122....  (37.768042, -122.194877)  \n",
       "4  2400 96TH AV\\nOakland, CA\\n(37.750884, -122.16...  (37.750884, -122.160601)  "
      ]
     },
     "execution_count": 16,
     "metadata": {},
     "output_type": "execute_result"
    }
   ],
   "source": [
    "crime.head()"
   ]
  },
  {
   "cell_type": "markdown",
   "metadata": {},
   "source": [
    "Neat. Let's save this to use HDF5 for later use."
   ]
  },
  {
   "cell_type": "code",
   "execution_count": 19,
   "metadata": {},
   "outputs": [
    {
     "name": "stderr",
     "output_type": "stream",
     "text": [
      "/Users/kjbilton/Installs/miniconda2/envs/oakland/lib/python3.6/site-packages/pandas/core/generic.py:1471: PerformanceWarning: \n",
      "your performance may suffer as PyTables will pickle object types that it cannot\n",
      "map directly to c-types [inferred_type->mixed,key->block0_values] [items->['CRIMETYPE', 'DATETIME', 'CASENUMBER', 'DESCRIPTION', 'Location', 'coordinates']]\n",
      "\n",
      "  return pytables.to_hdf(path_or_buf, key, self, **kwargs)\n"
     ]
    }
   ],
   "source": [
    "crime.to_hdf(RESULTSDIR + '01-crime.h5', 'crime')"
   ]
  },
  {
   "cell_type": "code",
   "execution_count": null,
   "metadata": {},
   "outputs": [],
   "source": []
  }
 ],
 "metadata": {
  "kernelspec": {
   "display_name": "Python [conda env:oakland]",
   "language": "python",
   "name": "conda-env-oakland-py"
  },
  "language_info": {
   "codemirror_mode": {
    "name": "ipython",
    "version": 3
   },
   "file_extension": ".py",
   "mimetype": "text/x-python",
   "name": "python",
   "nbconvert_exporter": "python",
   "pygments_lexer": "ipython3",
   "version": "3.6.3"
  }
 },
 "nbformat": 4,
 "nbformat_minor": 2
}
