{
 "cells": [
  {
   "cell_type": "code",
   "execution_count": 1,
   "metadata": {},
   "outputs": [],
   "source": [
    "# Standard tools for data analysis\n",
    "import numpy as np\n",
    "import pandas as pd\n",
    "import matplotlib.pyplot as plt\n",
    "import matplotlib as mpl\n",
    "import seaborn as sns\n",
    "\n",
    "# Tools specific for geospatial data analysis\n",
    "from mpl_toolkits.basemap import Basemap\n",
    "import shapely\n",
    "from shapely.geometry import shape, mapping, Point, Polygon\n",
    "import geopandas as gpd\n",
    "import geojsonio\n",
    "from matplotlib.collections import PatchCollection\n",
    "from descartes import PolygonPatch\n",
    "\n",
    "# Tools from the Python Standard Library\n",
    "import os\n",
    "import re\n",
    "\n",
    "from IPython.display import display\n",
    "%matplotlib inline\n",
    "plt.rcParams['figure.figsize'] = (10, 6)"
   ]
  },
  {
   "cell_type": "markdown",
   "metadata": {},
   "source": [
    "### Read in data"
   ]
  },
  {
   "cell_type": "code",
   "execution_count": 26,
   "metadata": {},
   "outputs": [
    {
     "name": "stdout",
     "output_type": "stream",
     "text": [
      "Data:\n",
      "\n",
      "CrimeWatch_Maps_Past_90-Days.csv\n",
      "Data_Delivery_EDF_AQ_Team_20170515.xlsx\n",
      "Service_requests_received_by_the_Oakland_Call_Center.csv\n",
      "oakland_neighborhoods.geojson\n",
      "residential_zones_300_ft_of_industrial_areas.geojson\n",
      "\n",
      "Results:\n",
      "\n",
      "01-air_quality.h5      01-neighborhoods.h5    02-service_requests.h5\n",
      "01-crime.h5            01-service_requests.h5\n"
     ]
    }
   ],
   "source": [
    "DATADIR = '../data/'\n",
    "print('Data:\\n')\n",
    "!ls $DATADIR\n",
    "\n",
    "RESULTSDIR = '../results/'\n",
    "print('\\nResults:\\n')\n",
    "!ls $RESULTSDIR"
   ]
  },
  {
   "cell_type": "markdown",
   "metadata": {},
   "source": [
    "As before, let's read in the neighborhood shapes:"
   ]
  },
  {
   "cell_type": "code",
   "execution_count": 28,
   "metadata": {},
   "outputs": [],
   "source": [
    "neighborhoods = gpd.read_file(DATADIR + 'oakland_neighborhoods.geojson')\n",
    "neighborhoods = neighborhoods.iloc[137:]"
   ]
  },
  {
   "cell_type": "markdown",
   "metadata": {},
   "source": [
    "Read in the cleaned crime data"
   ]
  },
  {
   "cell_type": "code",
   "execution_count": 11,
   "metadata": {},
   "outputs": [],
   "source": [
    "crime = pd.read_hdf(RESULTSDIR + '01-crime.h5')"
   ]
  },
  {
   "cell_type": "code",
   "execution_count": 12,
   "metadata": {},
   "outputs": [
    {
     "data": {
      "text/html": [
       "<div>\n",
       "<style scoped>\n",
       "    .dataframe tbody tr th:only-of-type {\n",
       "        vertical-align: middle;\n",
       "    }\n",
       "\n",
       "    .dataframe tbody tr th {\n",
       "        vertical-align: top;\n",
       "    }\n",
       "\n",
       "    .dataframe thead th {\n",
       "        text-align: right;\n",
       "    }\n",
       "</style>\n",
       "<table border=\"1\" class=\"dataframe\">\n",
       "  <thead>\n",
       "    <tr style=\"text-align: right;\">\n",
       "      <th></th>\n",
       "      <th>CRIMETYPE</th>\n",
       "      <th>DATETIME</th>\n",
       "      <th>CASENUMBER</th>\n",
       "      <th>DESCRIPTION</th>\n",
       "      <th>Location</th>\n",
       "      <th>coordinates</th>\n",
       "    </tr>\n",
       "  </thead>\n",
       "  <tbody>\n",
       "    <tr>\n",
       "      <th>0</th>\n",
       "      <td>VANDALISM</td>\n",
       "      <td>10/24/2017 07:00:00 PM</td>\n",
       "      <td>17-916879</td>\n",
       "      <td>VANDALISM</td>\n",
       "      <td>500 20TH ST\\nOakland, CA\\n(37.809581, -122.269...</td>\n",
       "      <td>(37.809581, -122.269628)</td>\n",
       "    </tr>\n",
       "    <tr>\n",
       "      <th>1</th>\n",
       "      <td>VANDALISM</td>\n",
       "      <td>09/08/2017 07:00:00 PM</td>\n",
       "      <td>17-914153</td>\n",
       "      <td>VANDALISM</td>\n",
       "      <td>500 27TH ST\\nOakland, CA\\n(37.816128, -122.267...</td>\n",
       "      <td>(37.816128, -122.267219)</td>\n",
       "    </tr>\n",
       "    <tr>\n",
       "      <th>2</th>\n",
       "      <td>MOTOR VEHICLE THEFT</td>\n",
       "      <td>10/06/2017 11:27:00 AM</td>\n",
       "      <td>17-052428</td>\n",
       "      <td>VEHICLE THEFT - AUTO</td>\n",
       "      <td>3300 GEORGIA ST\\nOakland, CA\\n(37.794807, -122...</td>\n",
       "      <td>(37.794807, -122.20291)</td>\n",
       "    </tr>\n",
       "    <tr>\n",
       "      <th>3</th>\n",
       "      <td>ASSAULT</td>\n",
       "      <td>09/09/2017 11:16:00 PM</td>\n",
       "      <td>17-047455</td>\n",
       "      <td>INFLICT CORPORAL INJURY ON SPOUSE/COHABITANT</td>\n",
       "      <td>5900 HARMON AV\\nOakland, CA\\n(37.768042, -122....</td>\n",
       "      <td>(37.768042, -122.194877)</td>\n",
       "    </tr>\n",
       "    <tr>\n",
       "      <th>4</th>\n",
       "      <td>ASSAULT</td>\n",
       "      <td>09/16/2017 04:37:00 PM</td>\n",
       "      <td>17-048647</td>\n",
       "      <td>BATTERY:SPOUSE/EX SPOUSE/DATE/ETC</td>\n",
       "      <td>2400 96TH AV\\nOakland, CA\\n(37.750884, -122.16...</td>\n",
       "      <td>(37.750884, -122.160601)</td>\n",
       "    </tr>\n",
       "  </tbody>\n",
       "</table>\n",
       "</div>"
      ],
      "text/plain": [
       "             CRIMETYPE                DATETIME CASENUMBER  \\\n",
       "0            VANDALISM  10/24/2017 07:00:00 PM  17-916879   \n",
       "1            VANDALISM  09/08/2017 07:00:00 PM  17-914153   \n",
       "2  MOTOR VEHICLE THEFT  10/06/2017 11:27:00 AM  17-052428   \n",
       "3              ASSAULT  09/09/2017 11:16:00 PM  17-047455   \n",
       "4              ASSAULT  09/16/2017 04:37:00 PM  17-048647   \n",
       "\n",
       "                                    DESCRIPTION  \\\n",
       "0                                     VANDALISM   \n",
       "1                                     VANDALISM   \n",
       "2                          VEHICLE THEFT - AUTO   \n",
       "3  INFLICT CORPORAL INJURY ON SPOUSE/COHABITANT   \n",
       "4             BATTERY:SPOUSE/EX SPOUSE/DATE/ETC   \n",
       "\n",
       "                                            Location               coordinates  \n",
       "0  500 20TH ST\\nOakland, CA\\n(37.809581, -122.269...  (37.809581, -122.269628)  \n",
       "1  500 27TH ST\\nOakland, CA\\n(37.816128, -122.267...  (37.816128, -122.267219)  \n",
       "2  3300 GEORGIA ST\\nOakland, CA\\n(37.794807, -122...   (37.794807, -122.20291)  \n",
       "3  5900 HARMON AV\\nOakland, CA\\n(37.768042, -122....  (37.768042, -122.194877)  \n",
       "4  2400 96TH AV\\nOakland, CA\\n(37.750884, -122.16...  (37.750884, -122.160601)  "
      ]
     },
     "execution_count": 12,
     "metadata": {},
     "output_type": "execute_result"
    }
   ],
   "source": [
    "crime.head()"
   ]
  },
  {
   "cell_type": "markdown",
   "metadata": {},
   "source": [
    "How many entries are there?"
   ]
  },
  {
   "cell_type": "code",
   "execution_count": 13,
   "metadata": {
    "scrolled": true
   },
   "outputs": [
    {
     "data": {
      "text/plain": [
       "(9679, 6)"
      ]
     },
     "execution_count": 13,
     "metadata": {},
     "output_type": "execute_result"
    }
   ],
   "source": [
    "crime.shape"
   ]
  },
  {
   "cell_type": "markdown",
   "metadata": {},
   "source": [
    "How many of those have coordinates that we can plot easily (without having to parse the address)?"
   ]
  },
  {
   "cell_type": "code",
   "execution_count": 14,
   "metadata": {},
   "outputs": [
    {
     "data": {
      "text/plain": [
       "(8820, 6)"
      ]
     },
     "execution_count": 14,
     "metadata": {},
     "output_type": "execute_result"
    }
   ],
   "source": [
    "crime[crime['coordinates'].notnull()].shape"
   ]
  },
  {
   "cell_type": "code",
   "execution_count": 17,
   "metadata": {},
   "outputs": [
    {
     "data": {
      "text/html": [
       "<div>\n",
       "<style scoped>\n",
       "    .dataframe tbody tr th:only-of-type {\n",
       "        vertical-align: middle;\n",
       "    }\n",
       "\n",
       "    .dataframe tbody tr th {\n",
       "        vertical-align: top;\n",
       "    }\n",
       "\n",
       "    .dataframe thead th {\n",
       "        text-align: right;\n",
       "    }\n",
       "</style>\n",
       "<table border=\"1\" class=\"dataframe\">\n",
       "  <thead>\n",
       "    <tr style=\"text-align: right;\">\n",
       "      <th></th>\n",
       "      <th>CRIMETYPE</th>\n",
       "      <th>DATETIME</th>\n",
       "      <th>CASENUMBER</th>\n",
       "      <th>DESCRIPTION</th>\n",
       "      <th>Location</th>\n",
       "      <th>coordinates</th>\n",
       "    </tr>\n",
       "  </thead>\n",
       "  <tbody>\n",
       "    <tr>\n",
       "      <th>21</th>\n",
       "      <td>THEFT/LARCENY</td>\n",
       "      <td>09/05/2017 08:30:00 PM</td>\n",
       "      <td>17-914017</td>\n",
       "      <td>BURGLARY-AUTO</td>\n",
       "      <td>2200 MARTIN LUTHER KING JR W\\nOakland, CA\\n</td>\n",
       "      <td>NaN</td>\n",
       "    </tr>\n",
       "    <tr>\n",
       "      <th>29</th>\n",
       "      <td>THEFT/LARCENY</td>\n",
       "      <td>08/30/2017 08:25:00 AM</td>\n",
       "      <td>17-913651</td>\n",
       "      <td>BURGLARY-AUTO</td>\n",
       "      <td>FRUITVALE AVE\\nOakland, CA\\n</td>\n",
       "      <td>NaN</td>\n",
       "    </tr>\n",
       "    <tr>\n",
       "      <th>38</th>\n",
       "      <td>THEFT/LARCENY</td>\n",
       "      <td>09/09/2017 10:59:00 PM</td>\n",
       "      <td>17-914256</td>\n",
       "      <td>BURGLARY-AUTO</td>\n",
       "      <td>22ND ST/ BROADWAY/ TELEGRAPH ST\\nOakland, CA\\n</td>\n",
       "      <td>NaN</td>\n",
       "    </tr>\n",
       "    <tr>\n",
       "      <th>61</th>\n",
       "      <td>THEFT/LARCENY</td>\n",
       "      <td>11/22/2017 10:00:00 PM</td>\n",
       "      <td>17-061166</td>\n",
       "      <td>BURGLARY-AUTO</td>\n",
       "      <td>PARKING GARAGE AT 881 69TH AVE AV\\nOakland, CA\\n</td>\n",
       "      <td>NaN</td>\n",
       "    </tr>\n",
       "    <tr>\n",
       "      <th>63</th>\n",
       "      <td>VANDALISM</td>\n",
       "      <td>10/23/2017 12:00:00 AM</td>\n",
       "      <td>17-916774</td>\n",
       "      <td>VANDALISM</td>\n",
       "      <td>2600 BLK 26TH ST\\nOakland, CA\\n</td>\n",
       "      <td>NaN</td>\n",
       "    </tr>\n",
       "  </tbody>\n",
       "</table>\n",
       "</div>"
      ],
      "text/plain": [
       "        CRIMETYPE                DATETIME CASENUMBER    DESCRIPTION  \\\n",
       "21  THEFT/LARCENY  09/05/2017 08:30:00 PM  17-914017  BURGLARY-AUTO   \n",
       "29  THEFT/LARCENY  08/30/2017 08:25:00 AM  17-913651  BURGLARY-AUTO   \n",
       "38  THEFT/LARCENY  09/09/2017 10:59:00 PM  17-914256  BURGLARY-AUTO   \n",
       "61  THEFT/LARCENY  11/22/2017 10:00:00 PM  17-061166  BURGLARY-AUTO   \n",
       "63      VANDALISM  10/23/2017 12:00:00 AM  17-916774      VANDALISM   \n",
       "\n",
       "                                            Location coordinates  \n",
       "21       2200 MARTIN LUTHER KING JR W\\nOakland, CA\\n         NaN  \n",
       "29                      FRUITVALE AVE\\nOakland, CA\\n         NaN  \n",
       "38    22ND ST/ BROADWAY/ TELEGRAPH ST\\nOakland, CA\\n         NaN  \n",
       "61  PARKING GARAGE AT 881 69TH AVE AV\\nOakland, CA\\n         NaN  \n",
       "63                   2600 BLK 26TH ST\\nOakland, CA\\n         NaN  "
      ]
     },
     "execution_count": 17,
     "metadata": {},
     "output_type": "execute_result"
    }
   ],
   "source": [
    "crime[crime['coordinates'].isnull()].head()"
   ]
  },
  {
   "cell_type": "markdown",
   "metadata": {},
   "source": [
    "The reason why a number of these don't have coordinates is that their locations contain little information (e.g., the second one above only says that it's on Fruitvale Ave.). Since that's the case, let's just drop anything that's null:"
   ]
  },
  {
   "cell_type": "code",
   "execution_count": 21,
   "metadata": {},
   "outputs": [],
   "source": [
    "crime.dropna(inplace=True)"
   ]
  },
  {
   "cell_type": "markdown",
   "metadata": {},
   "source": [
    "## Crime types\n",
    "Let's take a look at the distribution of the crime types via a bar plot:"
   ]
  },
  {
   "cell_type": "code",
   "execution_count": 23,
   "metadata": {},
   "outputs": [
    {
     "data": {
      "text/plain": [
       "array(['VANDALISM', 'MOTOR VEHICLE THEFT', 'ASSAULT', 'THEFT/LARCENY',\n",
       "       'ROBBERY', 'BURGLARY', 'SEX CRIMES', 'DRUGS/ALCOHOL VIOLATIONS',\n",
       "       'FRAUD', 'ARSON', 'WEAPONS', 'DISTURBING THE PEACE', 'DUI',\n",
       "       'HOMICIDE'], dtype=object)"
      ]
     },
     "execution_count": 23,
     "metadata": {},
     "output_type": "execute_result"
    }
   ],
   "source": [
    "crime['CRIMETYPE'].unique()"
   ]
  }
 ],
 "metadata": {
  "kernelspec": {
   "display_name": "Python [conda env:oakland]",
   "language": "python",
   "name": "conda-env-oakland-py"
  },
  "language_info": {
   "codemirror_mode": {
    "name": "ipython",
    "version": 3
   },
   "file_extension": ".py",
   "mimetype": "text/x-python",
   "name": "python",
   "nbconvert_exporter": "python",
   "pygments_lexer": "ipython3",
   "version": "3.6.3"
  }
 },
 "nbformat": 4,
 "nbformat_minor": 2
}
