{
 "cells": [
  {
   "cell_type": "markdown",
   "metadata": {},
   "source": [
    "# Quantifying Gentrification through Contextual Information\n",
    "## Kyle J. Bilton\n",
    "### Department of Nuclear Engineering, UC Berkeley\n",
    "\n",
    "### Abstract\n",
    "In this work, I explore potential methods of quantifying gentrification through the use of contextual clues and non-economic data (e.g., reports of graffiti). In particular, I explore these methods in the city of Oakland, California, where the nearby technology industry has introduced a wave of high earners in the West side of the city."
   ]
  },
  {
   "cell_type": "markdown",
   "metadata": {},
   "source": [
    "## I: Introduction\n",
    "### Gentrification in Oakland, CA"
   ]
  },
  {
   "cell_type": "markdown",
   "metadata": {},
   "source": [
    "## II: Methods"
   ]
  },
  {
   "cell_type": "markdown",
   "metadata": {},
   "source": [
    "## III: Results"
   ]
  },
  {
   "cell_type": "markdown",
   "metadata": {},
   "source": [
    "## IV: Conclusion"
   ]
  },
  {
   "cell_type": "markdown",
   "metadata": {},
   "source": [
    "## V: References"
   ]
  },
  {
   "cell_type": "markdown",
   "metadata": {},
   "source": [
    "## Appendix A: Author contributions\n",
    "The work and code included in this project is that of the author. While working alone is not in the spirit of collaborative data science and limits one in the ability to learn from peers, the author did so to make the most of project in terms of guiding the direction of work (i.e., being a control freak), and to showcase abilities to potential employers in the future.\n",
    "\n",
    "Taking such an approach allowed me to dive deep into the data and encounter numerous challenges that one will face as a data scientist. For example, the geospatial analysis required much patience, and involved digging deep into Github pull requests and issues to find which combinations of packages work together.\n",
    "\n",
    "### Path of the analysis\n",
    "I was initially interested in studying potential relationships between air quality and other measures of \"quality of life\" in a neighborhood (e.g., income, crime, municipal complaints). After exploring the municipal service requests dataset, I noticed interesting distributions of complaints, in particular, that certain requests appeared stronger in the neighborhoods that I know to been gentrified. From there, I was interested in quantifying the relationship between these service requests and gentrification, and to know if such data can be conditioned to use as a signal for gentrification."
   ]
  },
  {
   "cell_type": "markdown",
   "metadata": {},
   "source": [
    "## Appendix B: Data Terms of Use\n",
    "### Oakland Municipal Service Requests\n",
    "This data is provided by the City of Oakland's data portal, [OakData](https://data.oaklandnet.com/).\n",
    "\n",
    "### Oakland Industrial Zones within 300 feet of Residential Areas\n",
    "This data is provided by the City of Oakland's data portal, [OakData](https://data.oaklandnet.com/)."
   ]
  },
  {
   "cell_type": "code",
   "execution_count": null,
   "metadata": {},
   "outputs": [],
   "source": []
  }
 ],
 "metadata": {
  "kernelspec": {
   "display_name": "Python [conda env:oakland]",
   "language": "python",
   "name": "conda-env-oakland-py"
  },
  "language_info": {
   "codemirror_mode": {
    "name": "ipython",
    "version": 3
   },
   "file_extension": ".py",
   "mimetype": "text/x-python",
   "name": "python",
   "nbconvert_exporter": "python",
   "pygments_lexer": "ipython3",
   "version": "3.6.3"
  }
 },
 "nbformat": 4,
 "nbformat_minor": 2
}
