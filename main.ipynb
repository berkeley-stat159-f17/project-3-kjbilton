{
 "cells": [
  {
   "cell_type": "markdown",
   "metadata": {},
   "source": [
    "# Title\n",
    "## Kyle J. Bilton\n",
    "### Department of Nuclear Engineering, UC Berkeley\n",
    "\n",
    "### Abstract\n",
    "In this work, I study BLAH BLAH ..."
   ]
  },
  {
   "cell_type": "markdown",
   "metadata": {},
   "source": [
    "## XXX: Author contributions\n",
    "The work and code included in this project is that of the author. While working alone is not in the spirit of collaborative data science and limits one in the ability to learn from peers, the author did so to make the most of project in terms of guiding the direction of work (i.e., being a control freak), and to showcase abilities to potential employers in the future."
   ]
  },
  {
   "cell_type": "markdown",
   "metadata": {},
   "source": [
    "## XXX: Data Terms of Use\n",
    "### Air Quality Data\n",
    "Air quality data (the “Data”) is provided by Google/Aclima and data analysis by Apte et al/Environmental Defense Fund, Incorporated (“EDF”). EDF owns all rights to this data. By using the Data, you (the \"User\") are agreeing to the Terms of Use outlined by EDF. Please read and agree to the End User Terms [here](https://www.edf.org/airqualitymaps/download-oakland-air-pollution-data). If the User decides to use the Data further in another project, all users of that project must also agree to be bound by the terms set by EDF.\n",
    "\n",
    "### Oakland Municipal Service Requests\n",
    "This data is provided by the City of Oakland's data portal, [OakData](https://data.oaklandnet.com/).\n",
    "\n",
    "### Oakland Industrial Zones within 300 feet of Residential Areas\n",
    "This data is provided by the City of Oakland's data portal, [OakData](https://data.oaklandnet.com/).\n",
    "\n",
    "### Oakland Recent Crime Reports\n",
    "This data is provided by the City of Oakland's data portal, [OakData](https://data.oaklandnet.com/)."
   ]
  },
  {
   "cell_type": "markdown",
   "metadata": {},
   "source": [
    "## XXX: References\n",
    "1. Apte, J. S.; Messier, K. P.; Gani, S.; Brauer, M.; Kirchstetter, T. W.; Lunden, M. M.; Marshall, J. D.; Portier, C. J.; Vermeulen, R. C. H.; Hamburg, S. P. High resolution air pollution mapping using Google Street View cars: exploiting big data. Environ. Sci. Technol., 2017, doi:10.1021/acs.est.7b00891."
   ]
  },
  {
   "cell_type": "markdown",
   "metadata": {},
   "source": [
    "## XXX: License"
   ]
  },
  {
   "cell_type": "code",
   "execution_count": null,
   "metadata": {},
   "outputs": [],
   "source": []
  }
 ],
 "metadata": {
  "kernelspec": {
   "display_name": "Python [conda env:oakland]",
   "language": "python",
   "name": "conda-env-oakland-py"
  },
  "language_info": {
   "codemirror_mode": {
    "name": "ipython",
    "version": 3
   },
   "file_extension": ".py",
   "mimetype": "text/x-python",
   "name": "python",
   "nbconvert_exporter": "python",
   "pygments_lexer": "ipython3",
   "version": "3.6.3"
  }
 },
 "nbformat": 4,
 "nbformat_minor": 2
}
